{
 "cells": [
  {
   "cell_type": "markdown",
   "source": [
    "# TP1 - Probabilidad discreta\n",
    "\n",
    "## Análisis estadístico de datos, 2021\n",
    "\n",
    "## Alvaro Concha"
   ],
   "metadata": {}
  },
  {
   "cell_type": "markdown",
   "source": [
    "---\n",
    "## Ejercicio 1\n",
    "Dada la variable aleatoria $X$ y la constante $a$, calcular los siguientes valores en términos de $\\mu = E(X)$:\n",
    "\n",
    "* $E(X + a)$\n",
    "* $E(aX)$\n",
    "* $E(X - \\mu)$\n",
    "* $E(\\mu X)$"
   ],
   "metadata": {}
  },
  {
   "cell_type": "markdown",
   "source": [
    "## Solución\n",
    "Usamos la linealidad del valor esperado.\n",
    "\n",
    "* $E(X + a)$\n",
    "$$\n",
    "\\begin{align*}\n",
    "    E(X + a) &= E(X) + E(a)\\\\\n",
    "    &= \\mu + a\n",
    "\\end{align*}\n",
    "$$\n",
    "\n",
    "* $E(aX)$\n",
    "$$\n",
    "\\begin{align*}\n",
    "    E(aX) &= a E(X)\\\\\n",
    "    &= a \\mu\n",
    "\\end{align*}\n",
    "$$\n",
    "\n",
    "\n",
    "* $E(X - \\mu)$\n",
    "$$\n",
    "\\begin{align*}\n",
    "    E(X - \\mu) &= E(X) - E(\\mu)\\\\\n",
    "    &= \\mu - \\mu\\\\\n",
    "    &= 0\n",
    "\\end{align*}\n",
    "$$\n",
    "\n",
    "* $E(\\mu X)$\n",
    "$$\n",
    "\\begin{align*}\n",
    "    E(\\mu X) &= \\mu E(X)\\\\\n",
    "    &= \\mu^2\n",
    "\\end{align*}\n",
    "$$"
   ],
   "metadata": {}
  },
  {
   "cell_type": "markdown",
   "source": [
    "---\n",
    "## Ejercicio 2\n",
    "Dada la variable aleatoria $X$ y la constante $a$, demostrar las siguientes identidades:\n",
    "\n",
    "* $Var(X + a) = Var(X)$\n",
    "* $Var(a X) = a^2 Var(X)$\n",
    "* $Var(X) = E(X^2 ) - E(X)^2$"
   ],
   "metadata": {}
  },
  {
   "cell_type": "markdown",
   "source": [
    "Usando la definición de varianza $Var(X) = E[(X - \\mu)^2]$, con $\\mu = E(X)$.\n",
    "\n",
    "Y la linealidad del valor esperado.\n",
    "\n",
    "* $Var(X + a) = Var(X)$\n",
    "$$\n",
    "\\begin{align*}\n",
    "    Var(X + a) &= E[(X - E(X + a) + a)^2]\\\\\n",
    "    &= E[(X - E(X) - a + a)^2]\\\\\n",
    "    &= Var(X)\n",
    "\\end{align*}\n",
    "$$\n",
    "\n",
    "* $Var(a X) = a^2 Var(X)$\n",
    "$$\n",
    "\\begin{align*}\n",
    "    Var(aX) &= E[(aX - E(aX))^2]\\\\\n",
    "    &= E[(aX - aE(X))^2]\\\\\n",
    "    &= E[a^2(X - E(X))^2]\\\\\n",
    "    &= a^2 Var(X)\n",
    "\\end{align*}\n",
    "$$\n",
    "\n",
    "* $Var(X) = E(X^2 ) - E(X)^2$\n",
    "$$\n",
    "\\begin{align*}\n",
    "    Var(X) &= E[(X - E(X))^2]\\\\\n",
    "    &= E[X^2 + E(X)^2 - 2E(X)X]\\\\\n",
    "    &= E(X^2) + E(X)^2 - 2E(X)^2\\\\\n",
    "    &= E(X^2) - E(X)^2\n",
    "\\end{align*}\n",
    "$$"
   ],
   "metadata": {}
  },
  {
   "cell_type": "markdown",
   "source": [
    "---\n",
    "## Ejercicio 3\n",
    "Dadas las variables independientes $X$ e $Y$ , mostrar que:\n",
    "\n",
    "* $E(X + Y) = E(X) + E(Y)$\n",
    "* $Var(X + Y) = Var(X) + Var(Y)$"
   ],
   "metadata": {}
  },
  {
   "cell_type": "markdown",
   "source": [
    "## Solución\n",
    "Sean las variables discretas independientes $X$ e $Y$ con espacios muestrales $\\Omega_X$ y $\\Omega_Y$, respectivamente.\n",
    "\n",
    "Como son independientes, la probabilidad conjunta es $P(X=x, Y=y) = P(X=x)P(Y=y)$.\n",
    "\n",
    "* $E(X + Y) = E(X) + E(Y)$\n",
    "$$\n",
    "\\begin{align*}\n",
    "    E(X + Y) &= \\sum_{x\\in\\Omega_X}\\sum_{y\\in\\Omega_Y} (x+y) P(X=x, Y=y)\\\\\n",
    "    &= \\sum_{x\\in\\Omega_X}\\sum_{y\\in\\Omega_Y} (x+y) P(X=x)P(Y=y)\\\\\n",
    "    &= \\sum_{x\\in\\Omega_X}\\sum_{y\\in\\Omega_Y} x P(X=x)P(Y=y) + \\sum_{x\\in\\Omega_X}\\sum_{y\\in\\Omega_Y} y P(X=x)P(Y=y)\\\\\n",
    "    &= \\sum_{x\\in\\Omega_X} x P(X=x) \\sum_{y\\in\\Omega_Y}P(Y=y) + \\sum_{y\\in\\Omega_Y} y P(Y=y) \\sum_{x\\in\\Omega_X}P(X=x)\\\\\n",
    "    &= E(X) + E(Y)\n",
    "\\end{align*}\n",
    "$$\n",
    "\n",
    "* $Var(X + Y) = Var(X) + Var(Y)$\n",
    "$$\n",
    "\\begin{align*}\n",
    "    Var(X + Y) &= E[(X + Y - E(X+Y))^2]\\\\\n",
    "    &= E[X^2 + E(X)^2 - 2XE(X) + Y^2 + E(Y)^2 - 2YE(Y) + 2XY + 2E(X)E(Y) - 2XE(Y) - 2E(X)Y]\\\\\n",
    "    &= E[X^2 + E(X)^2 - 2XE(X) + Y^2 + E(Y)^2 - 2YE(Y)]\\\\\n",
    "    &= E[(X - E(X))^2 + (Y - E(Y))^2]\\\\\n",
    "    &= Var(X) + Var(Y)\n",
    "\\end{align*}\n",
    "$$\n",
    "\n",
    "Para lo cual es necesario probar además que, para variables independientes\n",
    "$$\n",
    "\\begin{align*}\n",
    "    E(XY) &= \\\\\n",
    "    &= \\sum_{x\\in\\Omega_X}\\sum_{y\\in\\Omega_Y} xy P(X=x, Y=y)\\\\\n",
    "    &= \\sum_{x\\in\\Omega_X}\\sum_{y\\in\\Omega_Y} xy P(X=x)(Y=y)\\\\\n",
    "    &= \\sum_{x\\in\\Omega_X} xP(X=x) \\sum_{y\\in\\Omega_Y} y(Y=y)\\\\\n",
    "    &= E(X)E(Y)\n",
    "\\end{align*}\n",
    "$$"
   ],
   "metadata": {}
  },
  {
   "cell_type": "markdown",
   "source": [
    "---\n",
    "## Ejercicio 4\n",
    "Mostrar que la distribución binomial está normalizada a la unidad sumando todos los términos de la función de distribución de probabilidad.\n"
   ],
   "metadata": {}
  },
  {
   "cell_type": "markdown",
   "source": [
    "## Solución\n",
    "Sea la variable aleatoria $K\\sim B(np)$.\n",
    "\n",
    "Su función de masa de probabilidad es\n",
    "$$\n",
    "P(K=k) = {n\\choose k} p^k (1-p)^{n-k},\n",
    "$$\n",
    "con $k\\le n$.\n",
    "\n",
    "Luego, la suma sobre todos los resultados posibles es\n",
    "$$\n",
    "\\begin{align*}\n",
    "    \\sum_{k\\le n} P(K=k) &= \\sum_{k\\le n} {n\\choose k} p^k (1-p)^{n-k}\\\\\n",
    "    &= [p + (1-p)]^n\\\\\n",
    "    &= 1\n",
    "\\end{align*}\n",
    "$$"
   ],
   "metadata": {}
  },
  {
   "cell_type": "markdown",
   "source": [
    "---\n",
    "## Ejercicio 5: El test serológico de la covid-19\n",
    "Los tests serológicos detectan la presencia de anticuerpos en la sangre.\n",
    "\n",
    "[Este artículo](https://theconversation.com/coronavirus-tests-are-pretty-accurate-but-far-from-perfect-136671) muestra una comparación de la sensitividad y especifidad de diez tipos de tests diferentes.\n",
    "\n",
    "Los investigadores encontraron que, como referencia, los tests son 90% sensitivos y 95% específicos.\n",
    "\n",
    "Suponiendo que solo el 10% de la población tiene anticuerpos covid-19, calcular la probabilidad que una persona con un test positivo efectivamente tenga anticuerpos."
   ],
   "metadata": {}
  },
  {
   "cell_type": "markdown",
   "source": [
    "## Solución\n",
    "### Características del test:\n",
    "\n",
    "* 90% sensitivos (True Positive).\n",
    "\n",
    "* 95% específicos (True Negative).\n",
    "\n",
    "### Supuestos:\n",
    "\n",
    "* 10% de la población tiene anticuerpos covid-19.\n",
    "\n",
    "### Tarea:\n",
    "\n",
    "* Calcular la probabilidad de una persona tenga anticuerpos dado que el test fue positivo.\n",
    "\n",
    "### Formalización:\n",
    "\n",
    "* Sean las variables aleatorias $T = \\{+, -\\}$, para el resultado del test, y $C = \\{+, -\\}$, para el estado de anticuerpos covid-19.\n",
    "\n",
    "* Tenemos que $P(T=+|C=+) = 0.9$, $P(T=-|C=-) = 0.95$ y $P(C=+) = 0.1$.\n",
    "\n",
    "* Luego usando regla de Bayes\n",
    "$$\n",
    "\\begin{align*}\n",
    "    P(C=+|T=+) &= \\frac{P(C=+,T=+)}{P(T=+)}\\\\\n",
    "    &= \\frac{0.09}{0.135}\\\\\n",
    "    &= 0.\\overline{6}\n",
    "\\end{align*}\n",
    "$$\n",
    "\n",
    "* Donde hemos usado la propiedad de la probabilidad conjunta\n",
    "\n",
    "$$\n",
    "\\begin{align*}\n",
    "    P(C=+,T=+) &= P(T=+|C=+) P(C=+)\\\\\n",
    "    &= 0.9 \\times 0.1\\\\\n",
    "    &= 0.09\n",
    "\\end{align*}\n",
    "$$\n",
    "\n",
    "* Y la marginalización\n",
    "\n",
    "$$\n",
    "\\begin{align*}\n",
    "    P(T=+) &= \\sum_{c\\in\\{+, -\\}} P(T=+,C=c)\\\\\n",
    "    &= \\sum_{c\\in\\{+, -\\}} P(T=+|C=c) P(C=c)\\\\\n",
    "    &= P(T=+|C=+) P(C=+) + P(T=+|C=-) P(C=-)\\\\\n",
    "    &= 0.9 \\times 0.1 + (1-0.95) \\times (1-0.1)\\\\\n",
    "    &= 0.135\n",
    "\\end{align*}\n",
    "$$"
   ],
   "metadata": {}
  },
  {
   "cell_type": "markdown",
   "source": [
    "---\n",
    "## Ejercicio 6: Ayuda a Fermat\n",
    "La solución de Fermat al problema de la división justa de la bolsa es impráctica cuando quedan muchas rondas por jugar ya que implica contar todas las partidas que dan por ganador a uno de los dos jugadores.\n",
    "\n",
    "Afortunadamente con simulaciones Monte Carlo es posible encontrar una solución aproximada.\n",
    "\n",
    "Supongamos que un juego de 51 rondas es interrumpido en la ronda 25 y que Fermat ganó 15 rondas y Pascal 10.\n",
    "\n",
    "Simular el resto de las rondas para decidir cuál jugador gana la partida.\n",
    "\n",
    "Repetir este procedimiento 1000 veces para encontrar la división justa de la bolsa."
   ],
   "metadata": {}
  },
  {
   "cell_type": "markdown",
   "source": [
    "## Solución\n",
    "### Setup:\n",
    "\n",
    "* Simulación Monte Carlo del problema de división justa de Fermat `DivisionJusta`.\n",
    "\n",
    "* Juego de `n_rondas=51` rondas, interrumpido en la ronda `n_inter=25`.\n",
    "\n",
    "* Fermat ganó `F_win_inter=15` y Pascal ganó `P_win_inter=10`.\n",
    "\n",
    "* Repetir para `n_ensemble=1000` realizaciones.\n",
    "\n",
    "### Solución exacta:\n",
    "\n",
    "* Sea $n_\\mathrm{rest}$ el número restante de rondas a jugar, $r$ las rondas que necesita Fermat para ganar y $s$ las rondas que necesita Pascal, entonces la división justa $\\alpha$ es\n",
    "\n",
    "$$\n",
    "\\alpha = \\frac{1}{2^{n_\\mathrm{rest}}} \\sum_{k=0}^{s-1} {r+s-1\\choose k}\n",
    "$$"
   ],
   "metadata": {}
  },
  {
   "cell_type": "code",
   "execution_count": 11,
   "source": [
    "%run ./ej6.py"
   ],
   "outputs": [
    {
     "output_type": "stream",
     "name": "stdout",
     "text": [
      "Variables Promedios\n",
      " F_win       27.984\n",
      "P_win       23.016\n",
      "Division     0.831\n",
      "dtype: float64\n",
      "Resultado exacto\n",
      " Division 0.837\n"
     ]
    }
   ],
   "metadata": {}
  },
  {
   "cell_type": "markdown",
   "source": [
    "---\n",
    "## Ejercicio 7: El número de la suerte\n",
    "Simular el lanzamiento de cinco dados y contar cuántas veces sale el número tres.\n",
    "\n",
    "Repetir la operación 1000 veces y construir un histograma de frecuencia con el número de ocurrencias del número tres.\n",
    "\n",
    "Comparar los datos simulados con una función de distribución binomial con parámetros $n$ y $p$ adecuados."
   ],
   "metadata": {}
  },
  {
   "cell_type": "markdown",
   "source": [
    "## Solución\n",
    "### Set-up:\n",
    "\n",
    "* Simular lanzamiento (`LanzarDados`) de `n_dados=5` dados y contar ocurrencias del número `n_target=3`.\n",
    "\n",
    "* Repetir para `n_ensemble=1000` realizaciones y construir histograma de número de ocurrencias.\n",
    "\n",
    "* Comparar con distribución `binom(k, n=5, p=1/6)`."
   ],
   "metadata": {}
  },
  {
   "cell_type": "code",
   "execution_count": 22,
   "source": [
    "%run ./ej7.py"
   ],
   "outputs": [],
   "metadata": {}
  },
  {
   "cell_type": "markdown",
   "source": [
    "<html>\n",
    "<head>\n",
    "  <script src=\"ej7.html\"></script>\n",
    "</head>\n",
    "<body>\n",
    "  <!-- Output from the Python script above: -->\n",
    "  <div id=\"7979e646-13e6-4f44-8d32-d8effc3816df\" style=\"height: 525; width: 100%;\" class=\"plotly-graph-div\"></div><script type=\"text/javascript\">window.PLOTLYENV=window.PLOTLYENV || {};window.PLOTLYENV.BASE_URL=\"https://plot.ly\";Plotly.newPlot(\"7979e646-13e6-4f44-8d32-d8effc3816df\", [{\"x\": [1, 2, 3], \"y\": [3, 1, 6]}], {}, {\"showLink\": false, \"linkText\": \"\"})</script>\n",
    "</body>\n",
    "</html>"
   ],
   "metadata": {}
  },
  {
   "cell_type": "markdown",
   "source": [
    "---\n",
    "## Ejercicio 8: El jugador de dardos torpe\n",
    "\n",
    "Simular el lanzamiento de dardos considerando que:\n",
    "\n",
    "* el blanco interno de una diana estándar tiene un radio de 12.7 mm,\n",
    "* el blanco externo de 31.8 mm,\n",
    "* el anillo triple de 107 mm y\n",
    "* el anillo doble de 170 mm como muestra la figura 1.\n",
    "\n",
    "Un jugador torpe lanza dardos al azar dentro del anillo doble de la diana.\n",
    "\n",
    "Calcular la probabilidad que un tiro individual dé en el blanco exterior.\n",
    "\n",
    "Simular una corrida de 100 lanzamientos y contar cuántos dardos dan en el blanco exterior.\n",
    "\n",
    "Simular 1000 corridas y construir un histograma de frecuencia.\n",
    "\n",
    "Comparar con una distribución de Poisson.\n",
    "\n",
    "<center>\n",
    "  <img src=\"diana.png\"\n",
    "  alt=\"Diana de dados estándar\"\n",
    "  width=\"80%\" />\n",
    "  \n",
    "  Figure 1: Diana de dados estándar.\n",
    "</center>"
   ],
   "metadata": {}
  },
  {
   "cell_type": "markdown",
   "source": [
    "---\n",
    "## Ejercicio 9\n",
    "Simular dos variables aleatorios $X_1$ y $X_2$ que siguen distribuciones de Poisson con parámetros $\\mu_1 = 1$ y $\\mu_2 = 2$ respectivamente.\n",
    "\n",
    "Calcular la variable $Y = X_1 + X_2$.\n",
    "\n",
    "Repetir la simulación 1000 veces.\n",
    "\n",
    "Graficar la distribución de la variable $Y$ y\n",
    "comparar con una distribución de probabilidad adecuada."
   ],
   "metadata": {}
  },
  {
   "cell_type": "markdown",
   "source": [
    "---\n",
    "## Ejercicio 10 (Para entregar)\n",
    "Simular una variable aleatoria Y que sigue una distribución de Poisson con parámetro $\\mu = 10$.\n",
    "\n",
    "Suponer que el resultado de la simulación es $Y = k$.\n",
    "\n",
    "A continuación simular $k$ variables de Bernoulli $X_i$ con $i = 1, \\dots, k$ con parámetro $p = 0.7$.\n",
    "\n",
    "Calcular el valor de una nueva variable Z definida como $Z = \\sum_{i=1}^k X_i$.\n",
    "\n",
    "Repetir la simulación 1000 veces, construir un histograma de frecuencia de $Z$ y comparar con una distribución de Poisson.\n",
    "\n",
    "*Nota: usar la distribución exacta sin ajustar los datos*."
   ],
   "metadata": {}
  },
  {
   "cell_type": "markdown",
   "source": [],
   "metadata": {}
  }
 ],
 "metadata": {
  "orig_nbformat": 4,
  "language_info": {
   "name": "python",
   "version": "3.8.10",
   "mimetype": "text/x-python",
   "codemirror_mode": {
    "name": "ipython",
    "version": 3
   },
   "pygments_lexer": "ipython3",
   "nbconvert_exporter": "python",
   "file_extension": ".py"
  },
  "kernelspec": {
   "name": "python3",
   "display_name": "Python 3.8.10 64-bit"
  },
  "interpreter": {
   "hash": "31f2aee4e71d21fbe5cf8b01ff0e069b9275f58929596ceb00d14d90e3e16cd6"
  }
 },
 "nbformat": 4,
 "nbformat_minor": 2
}