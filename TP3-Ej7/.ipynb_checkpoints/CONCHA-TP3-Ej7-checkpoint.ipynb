{
 "cells": [
  {
   "cell_type": "markdown",
   "metadata": {},
   "source": [
    "# TP3 - Probabilidad multidimensional\n",
    "\n",
    "## Análisis estadístico de datos, 2021\n",
    "\n",
    "## Alvaro Concha"
   ]
  },
  {
   "cell_type": "code",
   "execution_count": 1,
   "metadata": {},
   "outputs": [
    {
     "name": "stdout",
     "output_type": "stream",
     "text": [
      "Requirement already satisfied: numpy in /home/alvaro/.local/lib/python3.8/site-packages (1.17.4)\n",
      "Requirement already satisfied: seaborn in /usr/local/lib/python3.8/dist-packages (0.11.0)\n",
      "Requirement already satisfied: matplotlib>=2.2 in /home/alvaro/.local/lib/python3.8/site-packages (from seaborn) (3.4.3)\n",
      "Requirement already satisfied: pandas>=0.23 in /home/alvaro/.local/lib/python3.8/site-packages (from seaborn) (1.1.3)\n",
      "Requirement already satisfied: scipy>=1.0 in /usr/local/lib/python3.8/dist-packages (from seaborn) (1.5.3)\n",
      "Requirement already satisfied: pyparsing>=2.2.1 in /usr/local/lib/python3.8/dist-packages (from matplotlib>=2.2->seaborn) (2.4.7)\n",
      "Requirement already satisfied: pillow>=6.2.0 in /home/alvaro/.local/lib/python3.8/site-packages (from matplotlib>=2.2->seaborn) (8.3.2)\n",
      "Requirement already satisfied: cycler>=0.10 in /usr/local/lib/python3.8/dist-packages (from matplotlib>=2.2->seaborn) (0.10.0)\n",
      "Requirement already satisfied: python-dateutil>=2.7 in /usr/lib/python3/dist-packages (from matplotlib>=2.2->seaborn) (2.7.3)\n",
      "Requirement already satisfied: kiwisolver>=1.0.1 in /usr/local/lib/python3.8/dist-packages (from matplotlib>=2.2->seaborn) (1.2.0)\n",
      "Requirement already satisfied: pytz>=2017.2 in /usr/lib/python3/dist-packages (from pandas>=0.23->seaborn) (2019.3)\n",
      "Requirement already satisfied: six in /usr/lib/python3/dist-packages (from cycler>=0.10->matplotlib>=2.2->seaborn) (1.14.0)\n",
      "Note: you may need to restart the kernel to use updated packages.\n"
     ]
    }
   ],
   "source": [
    "\"\"\"Instalar librerias necesarias\"\"\"\n",
    "%pip install numpy seaborn"
   ]
  },
  {
   "cell_type": "markdown",
   "metadata": {},
   "source": [
    "---\n",
    "## Ejercicio 7 (Para entregar)\n",
    "Simular una variable aleatoria $X = (X_1, X_2)$ que\n",
    "sigue una distribución binormal con parámetros $\\mu_1 = 2.3$, $\\mu_2 = 1.5$, $\\sigma_1 = 1.2$, $\\sigma_2 = 0.5$ y correlación $\\rho = 0.7$.\n",
    "\n",
    "Usar que la distribución conjunta $f(x_1, x_2) = h_2(x_2|x_1) g_1(x_1)$, con $g_1(x_1)$ la distribución marginal de $X_1$ y $h_2(x_2|x_1)$ la distribución condicional de $X_2$ dado $X_1$.\n",
    "\n",
    "Esta distribución condicional se puede expresar como $h_2(x_2|x_1) = \\mathcal{N}(\\mu_2^\\prime, \\sigma_2^\\prime)$ con $\\mu_2^\\prime = \\mu_2 + \\rho \\frac{\\sigma_2}{\\sigma_1} (x_1 - \\mu_1)$ y ${\\sigma_2^\\prime}^2 = \\sigma_2^2 (1 - \\rho^2)$.\n",
    "\n",
    "Repetir la simulación 1000 veces.\n",
    "\n",
    "Calcular la fracción de eventos caen en la elipse $1\\sigma$ y comparar con la probabilidad contenida dentro de dicha región.\n",
    "\n",
    "Graficar los datos simulados junto a la elipse $1\\sigma$.\n",
    "\n",
    "*Nota: un punto $(x_1, x_2)$ pertenece a la elipse $1\\sigma$ si la forma cuadrática asociada $q(x_1, x_2) \\le 1$.*"
   ]
  },
  {
   "cell_type": "markdown",
   "metadata": {},
   "source": [
    "## Solución\n",
    "Sea la variable aleatoria binormal\n",
    "$$\n",
    "X = (X_1, X_2) \\sim \\mathcal{N}_2(\\boldsymbol{\\mu}_X, \\Sigma_X),\n",
    "$$\n",
    "con media\n",
    "$$\n",
    "\\begin{align*}\n",
    "\\boldsymbol{\\mu}_X &= (\\mu_1, \\mu_2)\\\\\n",
    "&= (2.3, 1.5),\n",
    "\\end{align*}\n",
    "$$\n",
    "y matriz de covarianza\n",
    "$$\n",
    "\\Sigma_X = \\begin{pmatrix}\n",
    "\\sigma_1^2 & \\rho\\sigma_1\\sigma_2\\\\\n",
    "\\rho\\sigma_1\\sigma_2 & \\sigma_2^2\n",
    "\\end{pmatrix},\n",
    "$$\n",
    "con $\\sigma_1 = 1.2$, $\\sigma_2 = 0.5$ y $\\rho = 0.7$.\n",
    "\n",
    "* Implementamos estos parámetros en el código como `mu1`, `mu2`, `sigma1`, `sigma2` y `rho`.\n",
    "* Calculamos el vector de miedias `mu_X = get_mu_X(mu1=mu1, mu2=mu2)` y la matriz de covarianza `Sigma_X = get_Sigma_X(sigma1=sigma1, sigma2=sigma2, rho=rho)`.\n",
    "\n",
    "Entonces, podemos simular la distribución de probabilidad conjunta\n",
    "$$\n",
    "\\begin{align*}\n",
    "P(X = (x_1, x_2)) &= f(x_1, x_2)\\\\\n",
    "&= h_2(x_2|x_1) g_1(x_1),\n",
    "\\end{align*}\n",
    "$$\n",
    "generando $X_1$ y $X_2$ por seaparado, con probabilidad marginal\n",
    "$$\n",
    "\\begin{align*}\n",
    "P(X_1 = x_1) &= g_1(x_1)\\\\\n",
    "&= \\mathcal{N}[\\mu_1, \\sigma_1](x_1),\n",
    "\\end{align*}\n",
    "$$\n",
    "y probabilidad condicional\n",
    "$$\n",
    "\\begin{align*}\n",
    "P(X_2 = x_2 | X_1 = x_1) &= h_2(x_2|x_1)\\\\\n",
    "&= \\mathcal{N}[\\mu_2^\\prime(x_1), \\sigma_2^\\prime](x_2),\n",
    "\\end{align*}\n",
    "$$\n",
    "donde la media es\n",
    "$$\n",
    "\\mu_2^\\prime(x_1) = \\mu_2 + \\rho \\frac{\\sigma_2}{\\sigma_1} (x_1 - \\mu_1),\n",
    "$$\n",
    "y la varianza\n",
    "$$\n",
    "{\\sigma_2^\\prime}^2 = \\sigma_2^2 (1 - \\rho^2).\n",
    "$$\n",
    "\n",
    "* Definimos las funciones para calcular la media `get_mu_2_prime` y la desviación estándar `get_sigma_2_prime`.\n",
    "* Usando `np.random.normal`, generamos primero `x_1` y luego `x_2`, usando las medias y las varianzas que correspondan.\n",
    "* Repetimos la simulación `n = 1000` veces.\n",
    "* Guardamos los resultados usando las variables `x1, x2 = get_x1_x2(mu1=mu1, mu2=mu2, sigma1=sigma1, sigma2=sigma2, rho=rho, n=n)`.\n",
    "\n",
    "Un punto $\\mathbf{x}=(x_1, x_2)$ pertenece al interior de la elipse $r\\sigma$, si la forma cuadrática $q(\\mathbf{x})$ satisface que\n",
    "$$\n",
    "\\begin{align*}\n",
    "q(\\mathbf{x}) &= (\\mathbf{x}-\\boldsymbol{\\mu}_X)^T \\Sigma_X^{-1} (\\mathbf{x}-\\boldsymbol{\\mu}_X)\\\\\n",
    "&\\le r^2.\n",
    "\\end{align*}\n",
    "$$\n",
    "\n",
    "* Calculamos la fracción de eventos que caen dentro de la elipse $r\\sigma$ como aquellos que satisfagan $q(\\mathbf{x})\\le r^2$.\n",
    "* Para ello, utilizamos `matplotlib.path.Path` y su método `contains_points` para contar cuántos puntos caen dentro de la elipse y guardamos el resultado en la variable `probabilidad_aproximada`.\n",
    "* Calculamos la probabilidad exacta como la acumulada `probabilidad_exacta = (1 - np.exp(-0.5 * r ** 2)) * 100.0`.\n",
    "\n",
    "Para producir una elipse $r\\sigma$, asociada a una variable binormal, podemos transformar un cículo unitario centrado en el origen [[Wikipedia - Code sample](https://en.wikipedia.org/wiki/File:MultivariateNormal.png#Summary)].\n",
    "\n",
    "Este círculo unitario corresponde a la superficie $1\\sigma$ de una varible binormal estándar.\n",
    "\n",
    "Podemos re-escalear el círculo unitario, multiplicando por $r$.\n",
    "\n",
    "Luego, transformarlo con la matriz triangular inferior de la descomposición de Cholesky de $\\Sigma_X$ [[Use the Cholesky transformation to correlate and uncorrelate variables](https://blogs.sas.com/content/iml/2012/02/08/use-the-cholesky-transformation-to-correlate-and-uncorrelate-variables.html)].\n",
    "\n",
    "Y, finalmente, trasladarlo sumando la media $\\boldsymbol{\\mu}_X$.\n",
    "\n",
    "* Usando `t = np.linspace(0, 2 * np.pi, 1000)`, parametrizamos un círculo unitario `circulo = np.column_stack([np.cos(t), np.sin(t)])`.\n",
    "* Descomponemos `Sigma_X` con `np.linalg.cholesky` y obtenemos la matriz `L`.\n",
    "* Transformamos el círculo para obtener la elipse $r\\sigma$, como `elipse = r * circulo @ L.T + mu_X`."
   ]
  },
  {
   "cell_type": "markdown",
   "metadata": {},
   "source": [
    "## Observación\n",
    "La descomposición de Cholesky consiste en expresar una matriz hermítica y definida positiva, lo cual es satisfecho por una matriz de covarianza $\\Sigma$, como\n",
    "$$\n",
    "\\Sigma = LL^T.\n",
    "$$\n",
    "\n",
    "Si transformamos una variable aleatoria bidimensional $Z$, con media cero y matriz de covarianza identidad, es decir\n",
    "$$\n",
    "\\boldsymbol{\\mu}_Z = \\mathbf{0},\n",
    "$$\n",
    "y\n",
    "$$\n",
    "\\Sigma_Z = \\mathbb{1},\n",
    "$$\n",
    "multiplicándola por la matriz $L$, es decir,\n",
    "$$\n",
    "\\tilde Z = L Z\n",
    "$$\n",
    "obtenemos otra variable aleatoria $\\tilde Z$ con media cero, pero con covarianza $\\Sigma$, pues\n",
    "$$\n",
    "\\begin{align*}\n",
    "\\boldsymbol{\\mu}_{\\tilde Z} &= \\mathrm{E}(\\tilde Z)\\\\\n",
    "&= \\mathrm{E}(LZ)\\\\\n",
    "&= L\\underbrace{\\mathrm{E}(Z)}_{\\mathbf{0}}\\\\\n",
    "&= \\mathbf{0},\n",
    "\\end{align*}\n",
    "$$\n",
    "y\n",
    "$$\n",
    "\\begin{align*}\n",
    "\\Sigma_{\\tilde Z} &= \\mathrm{E}({\\tilde Z\\tilde Z}^T)\\\\\n",
    "&= \\mathrm{E}(LZZ^T L^T)\\\\\n",
    "&= L\\underbrace{\\mathrm{E}(ZZ^T)}_{\\mathbb{1}}L^T\\\\\n",
    "&= LL^T\\\\\n",
    "&= \\Sigma.\n",
    "\\end{align*}\n",
    "$$\n",
    "\n",
    "Usando esta observación, tratamos de justificar la intuición de transformar un círculo de radio $r$, que representa la región $r\\sigma$ de una variable binormal estándar, en una elipse $r\\sigma$ de una variable binormal con la covarianza $\\Sigma$ deseada. Y esto se consigue aplicando la matriz $L$."
   ]
  },
  {
   "cell_type": "code",
   "execution_count": 2,
   "metadata": {},
   "outputs": [
    {
     "data": {
      "application/vnd.jupyter.widget-view+json": {
       "model_id": "b345c0fc412b42feab002b1ebe465984",
       "version_major": 2,
       "version_minor": 0
      },
      "text/plain": [
       "HBox(children=(Output(), VBox(children=(Label(value='Seleccionar parámetros', layout=Layout(display='flex', ju…"
      ]
     },
     "metadata": {},
     "output_type": "display_data"
    }
   ],
   "source": [
    "\"\"\"Ejercicio 7 (Para entregar)\"\"\"\n",
    "import numpy as np\n",
    "from matplotlib.path import Path\n",
    "import matplotlib.pyplot as plt\n",
    "import seaborn as sns\n",
    "import ipywidgets as widgets\n",
    "from IPython.display import display\n",
    "\n",
    "np.random.seed(42)\n",
    "\n",
    "\n",
    "def get_mu_X(mu1, mu2):\n",
    "    \"\"\"Retorna vector de medias.\"\"\"\n",
    "    return np.array([mu1, mu2])\n",
    "\n",
    "\n",
    "def get_Sigma_X(sigma1, sigma2, rho):\n",
    "    \"\"\"Retorna la matriz de covarianza.\"\"\"\n",
    "    return np.array(\n",
    "        [[sigma1 ** 2, rho * sigma1 * sigma2], [rho * sigma1 * sigma2, sigma2 ** 2]]\n",
    "    )\n",
    "\n",
    "\n",
    "def get_mu_2_prime(x1, mu1, mu2, sigma1, sigma2, rho):\n",
    "    \"\"\"Retorna la media de la distribucion condicional.\"\"\"\n",
    "    return mu2 + rho * (x1 - mu1) * sigma2 / sigma1\n",
    "\n",
    "\n",
    "def get_sigma_2_prime(sigma2, rho):\n",
    "    \"\"\"Retorna la varianza de la distribucion condicional.\"\"\"\n",
    "    return np.sqrt((1 - rho ** 2) * sigma2 ** 2)\n",
    "\n",
    "\n",
    "def get_x1_x2(mu1, mu2, sigma1, sigma2, rho, n):\n",
    "    \"\"\"Retorna variable aleatoria binormal (x1, x2).\"\"\"\n",
    "    x1 = np.random.normal(size=n, loc=mu1, scale=sigma1)\n",
    "    x2 = np.random.normal(\n",
    "        loc=get_mu_2_prime(\n",
    "            x1=x1, mu1=mu1, mu2=mu2, sigma1=sigma1, sigma2=sigma2, rho=rho\n",
    "        ),\n",
    "        scale=get_sigma_2_prime(sigma2=sigma2, rho=rho),\n",
    "    )\n",
    "    return x1, x2\n",
    "\n",
    "\n",
    "def plot_ej7(mu1, mu2, sigma1, sigma2, rho, n, r):\n",
    "    \"\"\"Grafica Ejercicio 7.\"\"\"\n",
    "    x1, x2 = get_x1_x2(mu1=mu1, mu2=mu2, sigma1=sigma1, sigma2=sigma2, rho=rho, n=n)\n",
    "    mu_X = get_mu_X(mu1=mu1, mu2=mu2)\n",
    "    Sigma_X = get_Sigma_X(sigma1=sigma1, sigma2=sigma2, rho=rho)\n",
    "    L = np.linalg.cholesky(Sigma_X)\n",
    "    t = np.linspace(0, 2 * np.pi, 1000)\n",
    "    circulo = np.column_stack([np.cos(t), np.sin(t)])\n",
    "    elipse = r * circulo @ L.T + mu_X\n",
    "    probabilidad_aproximada = (\n",
    "        Path(elipse).contains_points(np.column_stack([x1, x2])).sum() / n * 100.0\n",
    "    )\n",
    "    probabilidad_exacta = (1 - np.exp(-0.5 * r ** 2)) * 100.0\n",
    "    sns.set_context(\"paper\", font_scale=1.5)\n",
    "    g = sns.jointplot(x=x1, y=x2, alpha=5 / np.sqrt(n), height=8)\n",
    "    ax = g.ax_joint\n",
    "    ax.plot(*elipse.T, alpha=0.9, c=\"k\")\n",
    "    text = (\n",
    "        rf\"Elipse                        {r}$\\sigma$\"\n",
    "        \"\\n\"\n",
    "        f\"Prob. aproximada {probabilidad_aproximada:.2f}%\"\n",
    "        \"\\n\"\n",
    "        f\"Prob. exacta         {probabilidad_exacta:.2f}%\"\n",
    "    )\n",
    "    ax.text(x=0.05, y=1.0, s=text, ha=\"left\", va=\"top\", transform=ax.transAxes)\n",
    "    ax.set_xlim(-1, 5.5)\n",
    "    ax.set_ylim(-1.75, 4.75)\n",
    "    ax.set_xlabel(r\"$x_1$\")\n",
    "    ax.set_ylabel(r\"$x_2$\")\n",
    "    plt.show()\n",
    "    plt.close()\n",
    "\n",
    "\n",
    "def ej7():\n",
    "    \"\"\"Ejercicio 7.\"\"\"\n",
    "    mu1 = widgets.FloatSlider(description=\"mu1\", value=2.3, min=-0.5, max=5.0)\n",
    "    mu2 = widgets.FloatSlider(description=\"mu2\", value=1.5, min=-0.5, max=5.0)\n",
    "    sigma1 = widgets.FloatSlider(description=\"sigma1\", value=1.2, min=0.1, max=2.0)\n",
    "    sigma2 = widgets.FloatSlider(description=\"sigma2\", value=0.5, min=0.1, max=2.0)\n",
    "    rho = widgets.FloatSlider(description=\"rho\", value=0.7, min=-0.9, max=0.9)\n",
    "    n = widgets.IntSlider(description=\"n\", value=1000, min=1000, max=10000, step=1000)\n",
    "    r = widgets.FloatSlider(description=\"r\", value=1.0, min=0.5, max=4.0, step=0.5)\n",
    "    out = widgets.interactive_output(\n",
    "        plot_ej7,\n",
    "        {\n",
    "            \"mu1\": mu1,\n",
    "            \"mu2\": mu2,\n",
    "            \"sigma1\": sigma1,\n",
    "            \"sigma2\": sigma2,\n",
    "            \"rho\": rho,\n",
    "            \"n\": n,\n",
    "            \"r\": r,\n",
    "        },\n",
    "    )\n",
    "    title = widgets.Label(\n",
    "        \"Seleccionar parámetros\",\n",
    "        layout=widgets.Layout(display=\"flex\", justify_content=\"center\"),\n",
    "    )\n",
    "    sliders = [title, mu1, mu2, sigma1, sigma2, rho, n, r]\n",
    "    display(\n",
    "        widgets.HBox(\n",
    "            [out, widgets.VBox(sliders)],\n",
    "            layout=widgets.Layout(width=\"100%\", display=\"flex\", align_items=\"center\"),\n",
    "        )\n",
    "    )\n",
    "\n",
    "\n",
    "if __name__ == \"__main__\":\n",
    "    ej7()\n"
   ]
  }
 ],
 "metadata": {
  "interpreter": {
   "hash": "31f2aee4e71d21fbe5cf8b01ff0e069b9275f58929596ceb00d14d90e3e16cd6"
  },
  "kernelspec": {
   "display_name": "Python 3 (ipykernel)",
   "language": "python",
   "name": "python3"
  },
  "language_info": {
   "codemirror_mode": {
    "name": "ipython",
    "version": 3
   },
   "file_extension": ".py",
   "mimetype": "text/x-python",
   "name": "python",
   "nbconvert_exporter": "python",
   "pygments_lexer": "ipython3",
   "version": "3.8.10"
  },
  "widgets": {
   "application/vnd.jupyter.widget-state+json": {
    "state": {
     "032693f070c448d1841530a76a104acb": {
      "model_module": "@jupyter-widgets/controls",
      "model_module_version": "1.5.0",
      "model_name": "SliderStyleModel",
      "state": {
       "description_width": ""
      }
     },
     "074955c3feda4006a4d502f881ce3537": {
      "model_module": "@jupyter-widgets/controls",
      "model_module_version": "1.5.0",
      "model_name": "SliderStyleModel",
      "state": {
       "description_width": ""
      }
     },
     "08ce98d9a8934410a9e1ccb7d5ef7f1f": {
      "model_module": "@jupyter-widgets/controls",
      "model_module_version": "1.5.0",
      "model_name": "SliderStyleModel",
      "state": {
       "description_width": ""
      }
     },
     "098013462e2e46b8a2152731dc2df2b0": {
      "model_module": "@jupyter-widgets/base",
      "model_module_version": "1.2.0",
      "model_name": "LayoutModel",
      "state": {
       "align_items": "center",
       "display": "flex",
       "width": "100%"
      }
     },
     "0a01b9c0f80f4b59b740fe4e5d18b64e": {
      "model_module": "@jupyter-widgets/base",
      "model_module_version": "1.2.0",
      "model_name": "LayoutModel",
      "state": {
       "align_items": "center",
       "display": "flex",
       "width": "100%"
      }
     },
     "0abda123e83c49a7b095f8b6ae4e5088": {
      "model_module": "@jupyter-widgets/base",
      "model_module_version": "1.2.0",
      "model_name": "LayoutModel",
      "state": {}
     },
     "0d12d1cd560b4efaa4537bf7c2731248": {
      "model_module": "@jupyter-widgets/base",
      "model_module_version": "1.2.0",
      "model_name": "LayoutModel",
      "state": {
       "display": "flex",
       "justify_content": "center"
      }
     },
     "0f2f49190fa649fea76619ee55e90942": {
      "model_module": "@jupyter-widgets/controls",
      "model_module_version": "1.5.0",
      "model_name": "SliderStyleModel",
      "state": {
       "description_width": ""
      }
     },
     "0faf70a12acb4f8daba406c6fa0bcc30": {
      "model_module": "@jupyter-widgets/controls",
      "model_module_version": "1.5.0",
      "model_name": "SliderStyleModel",
      "state": {
       "description_width": ""
      }
     },
     "10f968a9d2814c60a935dbe1071d27de": {
      "model_module": "@jupyter-widgets/controls",
      "model_module_version": "1.5.0",
      "model_name": "SliderStyleModel",
      "state": {
       "description_width": ""
      }
     },
     "1485f995ba3e4d54ac735031255bae88": {
      "model_module": "@jupyter-widgets/controls",
      "model_module_version": "1.5.0",
      "model_name": "SliderStyleModel",
      "state": {
       "description_width": ""
      }
     },
     "1a5a342f94f04f8eb5dc3ffe0bf1e739": {
      "model_module": "@jupyter-widgets/controls",
      "model_module_version": "1.5.0",
      "model_name": "VBoxModel",
      "state": {
       "children": [
        "IPY_MODEL_cacd353983a2495f963301b1987160e5",
        "IPY_MODEL_4e224f9c6e524e2ba2122dfa6199ab6c",
        "IPY_MODEL_8b2725e8cf7f4f2e8775681798c88995",
        "IPY_MODEL_d32c2a2c70aa41efab9c0f1746fe8c11",
        "IPY_MODEL_ffbd114276a447b08cc7f2d863238588",
        "IPY_MODEL_c331b677ad064fa0a2a9e394d612727e",
        "IPY_MODEL_d7c43ef0ba8946509ef804516d757569",
        "IPY_MODEL_7255209fb8f54ddf92956d7d104d3ec0"
       ],
       "layout": "IPY_MODEL_84f1073c5d614a14a1a1fb30701c2bb7"
      }
     },
     "1aedfbd6bf1141998aee149eb778e52b": {
      "model_module": "@jupyter-widgets/controls",
      "model_module_version": "1.5.0",
      "model_name": "FloatSliderModel",
      "state": {
       "description": "r",
       "layout": "IPY_MODEL_d01e9720c99b44baafaef9d064ed11b6",
       "max": 4,
       "min": 0.5,
       "step": 0.5,
       "style": "IPY_MODEL_032693f070c448d1841530a76a104acb",
       "value": 1
      }
     },
     "1b0a80f6655540d5885a0699b89c8b79": {
      "model_module": "@jupyter-widgets/base",
      "model_module_version": "1.2.0",
      "model_name": "LayoutModel",
      "state": {}
     },
     "1dd9a5c58a5446aa9ff97e07719757d0": {
      "model_module": "@jupyter-widgets/controls",
      "model_module_version": "1.5.0",
      "model_name": "SliderStyleModel",
      "state": {
       "description_width": ""
      }
     },
     "1decdd3832e7420aa4247ed9f24a75ca": {
      "model_module": "@jupyter-widgets/controls",
      "model_module_version": "1.5.0",
      "model_name": "FloatSliderModel",
      "state": {
       "description": "r",
       "layout": "IPY_MODEL_e748db19bb024d7a9a85e87aa53bc0cf",
       "max": 4,
       "min": 0.5,
       "step": 0.5,
       "style": "IPY_MODEL_1dd9a5c58a5446aa9ff97e07719757d0",
       "value": 1
      }
     },
     "1ec2485ad104480b84f14fb912d37dc1": {
      "model_module": "@jupyter-widgets/controls",
      "model_module_version": "1.5.0",
      "model_name": "FloatSliderModel",
      "state": {
       "description": "mu2",
       "layout": "IPY_MODEL_70c2cd1aa9d64879a2ef636e995f62e0",
       "max": 5,
       "min": -0.5,
       "step": 0.1,
       "style": "IPY_MODEL_c8f0acf24e214a6383077edbd848766c",
       "value": 1.5
      }
     },
     "20ebd485fea94896a4d079814e3017ba": {
      "model_module": "@jupyter-widgets/base",
      "model_module_version": "1.2.0",
      "model_name": "LayoutModel",
      "state": {}
     },
     "21abf93792a544fe8c5697bbbb62adb2": {
      "model_module": "@jupyter-widgets/controls",
      "model_module_version": "1.5.0",
      "model_name": "SliderStyleModel",
      "state": {
       "description_width": ""
      }
     },
     "22d86724a1db441cabc0a91fece0baec": {
      "model_module": "@jupyter-widgets/controls",
      "model_module_version": "1.5.0",
      "model_name": "SliderStyleModel",
      "state": {
       "description_width": ""
      }
     },
     "277cb542b8b0497bb310874118979d0a": {
      "model_module": "@jupyter-widgets/base",
      "model_module_version": "1.2.0",
      "model_name": "LayoutModel",
      "state": {}
     },
     "27bd4785043f4d9a8b8f5464ddbbfabf": {
      "model_module": "@jupyter-widgets/base",
      "model_module_version": "1.2.0",
      "model_name": "LayoutModel",
      "state": {}
     },
     "2c827e981974465ebc32cf01f56ec6a4": {
      "model_module": "@jupyter-widgets/controls",
      "model_module_version": "1.5.0",
      "model_name": "FloatSliderModel",
      "state": {
       "description": "sigma2",
       "layout": "IPY_MODEL_bfa7be3a1e354d768175e214f0736d6e",
       "max": 2,
       "min": 0.1,
       "step": 0.1,
       "style": "IPY_MODEL_08ce98d9a8934410a9e1ccb7d5ef7f1f",
       "value": 0.5
      }
     },
     "2f985fb6105c40209736c89a5330f9d1": {
      "model_module": "@jupyter-widgets/controls",
      "model_module_version": "1.5.0",
      "model_name": "FloatSliderModel",
      "state": {
       "description": "rho",
       "layout": "IPY_MODEL_6a77d923701e45ca9387fcd6ee4afecc",
       "max": 0.9,
       "min": -0.9,
       "step": 0.1,
       "style": "IPY_MODEL_5a109b561d6a44e0aa65a184306c617f",
       "value": 0.7
      }
     },
     "308336cfcc0c42be8533e819205ea84e": {
      "model_module": "@jupyter-widgets/controls",
      "model_module_version": "1.5.0",
      "model_name": "FloatSliderModel",
      "state": {
       "description": "sigma1",
       "layout": "IPY_MODEL_fb117b94f6ea48b7aaab2b05f681de47",
       "max": 2,
       "min": 0.1,
       "step": 0.1,
       "style": "IPY_MODEL_21abf93792a544fe8c5697bbbb62adb2",
       "value": 1.2
      }
     },
     "31494370da384063b6cd75d012422bbb": {
      "model_module": "@jupyter-widgets/controls",
      "model_module_version": "1.5.0",
      "model_name": "VBoxModel",
      "state": {
       "children": [
        "IPY_MODEL_91e7b35ebfdc458293840f805677f2f6",
        "IPY_MODEL_954cccfe8465465881d5ef2e1da5bba6",
        "IPY_MODEL_464cf608984f465f8ed340652b1d5e59",
        "IPY_MODEL_fcdf8da5dfbd435e8d5b9d73daf4275d",
        "IPY_MODEL_a432b95da6eb4b519fca0de23d518cd4",
        "IPY_MODEL_a42c5ca08a5242bb8af60e3b95655d6c",
        "IPY_MODEL_b70d5653e4aa40e5bc3bb3b31ac40391",
        "IPY_MODEL_617c3cbb39a14ea69eecdc6ee2f6409a"
       ],
       "layout": "IPY_MODEL_20ebd485fea94896a4d079814e3017ba"
      }
     },
     "3c461e9487464422a4c0653845a0e6b5": {
      "model_module": "@jupyter-widgets/controls",
      "model_module_version": "1.5.0",
      "model_name": "SliderStyleModel",
      "state": {
       "description_width": ""
      }
     },
     "464cf608984f465f8ed340652b1d5e59": {
      "model_module": "@jupyter-widgets/controls",
      "model_module_version": "1.5.0",
      "model_name": "FloatSliderModel",
      "state": {
       "description": "mu2",
       "layout": "IPY_MODEL_b4e53cc69d134fe894773a2bad92ed12",
       "max": 5,
       "min": -0.5,
       "step": 0.1,
       "style": "IPY_MODEL_6f9279d32e5241239b2bdb30794dadc0",
       "value": 1.5
      }
     },
     "4746425574594011a2f31777431a4dad": {
      "model_module": "@jupyter-widgets/controls",
      "model_module_version": "1.5.0",
      "model_name": "SliderStyleModel",
      "state": {
       "description_width": ""
      }
     },
     "4a0cafa6bdf940de9e4799e6466fbb4a": {
      "model_module": "@jupyter-widgets/controls",
      "model_module_version": "1.5.0",
      "model_name": "SliderStyleModel",
      "state": {
       "description_width": ""
      }
     },
     "4e224f9c6e524e2ba2122dfa6199ab6c": {
      "model_module": "@jupyter-widgets/controls",
      "model_module_version": "1.5.0",
      "model_name": "FloatSliderModel",
      "state": {
       "description": "mu1",
       "layout": "IPY_MODEL_0abda123e83c49a7b095f8b6ae4e5088",
       "max": 5,
       "min": -0.5,
       "step": 0.1,
       "style": "IPY_MODEL_bb41167a9cdf4dd5a21a283e759b627a",
       "value": 2.3
      }
     },
     "4e59162fc8e54f27908fd0dda8abb4cf": {
      "model_module": "@jupyter-widgets/controls",
      "model_module_version": "1.5.0",
      "model_name": "HBoxModel",
      "state": {
       "children": [
        "IPY_MODEL_a37dcd1850b94d6296f2e6f8a5873c17",
        "IPY_MODEL_5661280fcd92467c973771a1a9480c9f"
       ],
       "layout": "IPY_MODEL_a384d5a01a654cd3a4e31f84fdc6d7f1"
      }
     },
     "4eb25bc4173f45f08c967d611c53bc8a": {
      "model_module": "@jupyter-widgets/base",
      "model_module_version": "1.2.0",
      "model_name": "LayoutModel",
      "state": {}
     },
     "5272c68581b045838ad03e4f06066bff": {
      "model_module": "@jupyter-widgets/base",
      "model_module_version": "1.2.0",
      "model_name": "LayoutModel",
      "state": {
       "display": "flex",
       "justify_content": "center"
      }
     },
     "5661280fcd92467c973771a1a9480c9f": {
      "model_module": "@jupyter-widgets/controls",
      "model_module_version": "1.5.0",
      "model_name": "VBoxModel",
      "state": {
       "children": [
        "IPY_MODEL_8f2afba5002449689d718447d73b220f",
        "IPY_MODEL_99e9d94d863e474d9897e99dd6b8c341",
        "IPY_MODEL_9eebfbbe398a486c811408aec0d0937b",
        "IPY_MODEL_87fa4d7414f5481e9b8ba7e2421c0834",
        "IPY_MODEL_8d5d76b4b9b74cfeba02a272c31c420f",
        "IPY_MODEL_6cd861f95ea749eda3bd4f7623b98adf",
        "IPY_MODEL_68448342e8af47e4b81dcd444cecf788",
        "IPY_MODEL_1aedfbd6bf1141998aee149eb778e52b"
       ],
       "layout": "IPY_MODEL_f895dcbb906c44009e96b852e9935eae"
      }
     },
     "5a109b561d6a44e0aa65a184306c617f": {
      "model_module": "@jupyter-widgets/controls",
      "model_module_version": "1.5.0",
      "model_name": "SliderStyleModel",
      "state": {
       "description_width": ""
      }
     },
     "60591ae685344c27a8e6ff8fe5929b29": {
      "model_module": "@jupyter-widgets/controls",
      "model_module_version": "1.5.0",
      "model_name": "SliderStyleModel",
      "state": {
       "description_width": ""
      }
     },
     "617c3cbb39a14ea69eecdc6ee2f6409a": {
      "model_module": "@jupyter-widgets/controls",
      "model_module_version": "1.5.0",
      "model_name": "FloatSliderModel",
      "state": {
       "description": "r",
       "layout": "IPY_MODEL_4eb25bc4173f45f08c967d611c53bc8a",
       "max": 4,
       "min": 0.5,
       "step": 0.5,
       "style": "IPY_MODEL_bb02d9d75c5f494293641e1d90218b20",
       "value": 1
      }
     },
     "61bd434ec6f04f2abf1b03be05963387": {
      "model_module": "@jupyter-widgets/output",
      "model_module_version": "1.0.0",
      "model_name": "OutputModel",
      "state": {
       "layout": "IPY_MODEL_277cb542b8b0497bb310874118979d0a",
       "outputs": [
        {
         "data": {
          "image/png": "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\n",
          "text/plain": "<Figure size 576x576 with 3 Axes>"
         },
         "metadata": {
          "needs_background": "light"
         },
         "output_type": "display_data"
        }
       ]
      }
     },
     "624798be29cd4bacbb58346d982a0f71": {
      "model_module": "@jupyter-widgets/base",
      "model_module_version": "1.2.0",
      "model_name": "LayoutModel",
      "state": {}
     },
     "68448342e8af47e4b81dcd444cecf788": {
      "model_module": "@jupyter-widgets/controls",
      "model_module_version": "1.5.0",
      "model_name": "IntSliderModel",
      "state": {
       "description": "n",
       "layout": "IPY_MODEL_1b0a80f6655540d5885a0699b89c8b79",
       "max": 10000,
       "min": 1000,
       "step": 1000,
       "style": "IPY_MODEL_10f968a9d2814c60a935dbe1071d27de",
       "value": 1000
      }
     },
     "6a77d923701e45ca9387fcd6ee4afecc": {
      "model_module": "@jupyter-widgets/base",
      "model_module_version": "1.2.0",
      "model_name": "LayoutModel",
      "state": {}
     },
     "6ba4c5a18e4448428fcb3ac633333d94": {
      "model_module": "@jupyter-widgets/controls",
      "model_module_version": "1.5.0",
      "model_name": "FloatSliderModel",
      "state": {
       "description": "mu1",
       "layout": "IPY_MODEL_27bd4785043f4d9a8b8f5464ddbbfabf",
       "max": 5,
       "min": -0.5,
       "step": 0.1,
       "style": "IPY_MODEL_22d86724a1db441cabc0a91fece0baec",
       "value": 2.3
      }
     },
     "6cd861f95ea749eda3bd4f7623b98adf": {
      "model_module": "@jupyter-widgets/controls",
      "model_module_version": "1.5.0",
      "model_name": "FloatSliderModel",
      "state": {
       "description": "rho",
       "layout": "IPY_MODEL_c454b061e7aa49cead37e2a99480334a",
       "max": 0.9,
       "min": -0.9,
       "step": 0.1,
       "style": "IPY_MODEL_a4c84f4628ed4ee095bbffd0bb0437de",
       "value": 0.7
      }
     },
     "6f9279d32e5241239b2bdb30794dadc0": {
      "model_module": "@jupyter-widgets/controls",
      "model_module_version": "1.5.0",
      "model_name": "SliderStyleModel",
      "state": {
       "description_width": ""
      }
     },
     "70c2cd1aa9d64879a2ef636e995f62e0": {
      "model_module": "@jupyter-widgets/base",
      "model_module_version": "1.2.0",
      "model_name": "LayoutModel",
      "state": {}
     },
     "722feca4963548a6a0efd8472719d323": {
      "model_module": "@jupyter-widgets/base",
      "model_module_version": "1.2.0",
      "model_name": "LayoutModel",
      "state": {}
     },
     "7255209fb8f54ddf92956d7d104d3ec0": {
      "model_module": "@jupyter-widgets/controls",
      "model_module_version": "1.5.0",
      "model_name": "FloatSliderModel",
      "state": {
       "description": "r",
       "layout": "IPY_MODEL_90c7252b00904192ab5286a3264cc2ea",
       "max": 4,
       "min": 0.5,
       "step": 0.5,
       "style": "IPY_MODEL_d6f3ff7438854c1c861c4bdef244fc57",
       "value": 1
      }
     },
     "77e6a3ca679745a9845825eeff117e96": {
      "model_module": "@jupyter-widgets/controls",
      "model_module_version": "1.5.0",
      "model_name": "SliderStyleModel",
      "state": {
       "description_width": ""
      }
     },
     "78defb35b8614c7a8f3f9d517c871e54": {
      "model_module": "@jupyter-widgets/controls",
      "model_module_version": "1.5.0",
      "model_name": "DescriptionStyleModel",
      "state": {
       "description_width": ""
      }
     },
     "7e601849712a4827af7f834fac3416ca": {
      "model_module": "@jupyter-widgets/base",
      "model_module_version": "1.2.0",
      "model_name": "LayoutModel",
      "state": {}
     },
     "8361116319e642c59bf8938d9c541f50": {
      "model_module": "@jupyter-widgets/controls",
      "model_module_version": "1.5.0",
      "model_name": "SliderStyleModel",
      "state": {
       "description_width": ""
      }
     },
     "84f1073c5d614a14a1a1fb30701c2bb7": {
      "model_module": "@jupyter-widgets/base",
      "model_module_version": "1.2.0",
      "model_name": "LayoutModel",
      "state": {}
     },
     "853d53c5f0df4f3591163470d95160ca": {
      "model_module": "@jupyter-widgets/output",
      "model_module_version": "1.0.0",
      "model_name": "OutputModel",
      "state": {
       "layout": "IPY_MODEL_fc2ade54b573405ca3effe35aaf0a983",
       "outputs": [
        {
         "data": {
          "image/png": "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\n",
          "text/plain": "<Figure size 576x576 with 3 Axes>"
         },
         "metadata": {
          "needs_background": "light"
         },
         "output_type": "display_data"
        }
       ]
      }
     },
     "855a94a86ff4409781fc20d4e28873bc": {
      "model_module": "@jupyter-widgets/controls",
      "model_module_version": "1.5.0",
      "model_name": "SliderStyleModel",
      "state": {
       "description_width": ""
      }
     },
     "86ef3b069cb24e469ad5d5c4feece8d1": {
      "model_module": "@jupyter-widgets/output",
      "model_module_version": "1.0.0",
      "model_name": "OutputModel",
      "state": {
       "layout": "IPY_MODEL_ecfc96774f1049479cbe22e32070f4aa",
       "outputs": [
        {
         "data": {
          "image/png": "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\n",
          "text/plain": "<Figure size 576x576 with 3 Axes>"
         },
         "metadata": {
          "needs_background": "light"
         },
         "output_type": "display_data"
        }
       ]
      }
     },
     "87fa4d7414f5481e9b8ba7e2421c0834": {
      "model_module": "@jupyter-widgets/controls",
      "model_module_version": "1.5.0",
      "model_name": "FloatSliderModel",
      "state": {
       "description": "sigma1",
       "layout": "IPY_MODEL_7e601849712a4827af7f834fac3416ca",
       "max": 2,
       "min": 0.1,
       "step": 0.1,
       "style": "IPY_MODEL_da068a8465ad4c2d8a5f94ca684edeb9",
       "value": 1.2
      }
     },
     "8b2725e8cf7f4f2e8775681798c88995": {
      "model_module": "@jupyter-widgets/controls",
      "model_module_version": "1.5.0",
      "model_name": "FloatSliderModel",
      "state": {
       "description": "mu2",
       "layout": "IPY_MODEL_96ac1d476f904aa6b1c4e22d38445792",
       "max": 5,
       "min": -0.5,
       "step": 0.1,
       "style": "IPY_MODEL_074955c3feda4006a4d502f881ce3537",
       "value": 1.5
      }
     },
     "8bf1c4061d5c485fa9247067b606603b": {
      "model_module": "@jupyter-widgets/base",
      "model_module_version": "1.2.0",
      "model_name": "LayoutModel",
      "state": {}
     },
     "8d5d76b4b9b74cfeba02a272c31c420f": {
      "model_module": "@jupyter-widgets/controls",
      "model_module_version": "1.5.0",
      "model_name": "FloatSliderModel",
      "state": {
       "description": "sigma2",
       "layout": "IPY_MODEL_624798be29cd4bacbb58346d982a0f71",
       "max": 2,
       "min": 0.1,
       "step": 0.1,
       "style": "IPY_MODEL_0faf70a12acb4f8daba406c6fa0bcc30",
       "value": 0.5
      }
     },
     "8e7a79a75fae4bd1a1ea61e2d81d4d9e": {
      "model_module": "@jupyter-widgets/controls",
      "model_module_version": "1.5.0",
      "model_name": "DescriptionStyleModel",
      "state": {
       "description_width": ""
      }
     },
     "8f2afba5002449689d718447d73b220f": {
      "model_module": "@jupyter-widgets/controls",
      "model_module_version": "1.5.0",
      "model_name": "LabelModel",
      "state": {
       "layout": "IPY_MODEL_0d12d1cd560b4efaa4537bf7c2731248",
       "style": "IPY_MODEL_8e7a79a75fae4bd1a1ea61e2d81d4d9e",
       "value": "Seleccionar parámetros"
      }
     },
     "8fb7d712e12a4ac1a4a7991ede2d1237": {
      "model_module": "@jupyter-widgets/base",
      "model_module_version": "1.2.0",
      "model_name": "LayoutModel",
      "state": {
       "display": "flex",
       "justify_content": "center"
      }
     },
     "8fc6782dc570426da6d9b31e65b3c86f": {
      "model_module": "@jupyter-widgets/base",
      "model_module_version": "1.2.0",
      "model_name": "LayoutModel",
      "state": {
       "align_items": "center",
       "display": "flex",
       "width": "100%"
      }
     },
     "90c7252b00904192ab5286a3264cc2ea": {
      "model_module": "@jupyter-widgets/base",
      "model_module_version": "1.2.0",
      "model_name": "LayoutModel",
      "state": {}
     },
     "91e7b35ebfdc458293840f805677f2f6": {
      "model_module": "@jupyter-widgets/controls",
      "model_module_version": "1.5.0",
      "model_name": "LabelModel",
      "state": {
       "layout": "IPY_MODEL_5272c68581b045838ad03e4f06066bff",
       "style": "IPY_MODEL_78defb35b8614c7a8f3f9d517c871e54",
       "value": "Seleccionar parámetros"
      }
     },
     "954cccfe8465465881d5ef2e1da5bba6": {
      "model_module": "@jupyter-widgets/controls",
      "model_module_version": "1.5.0",
      "model_name": "FloatSliderModel",
      "state": {
       "description": "mu1",
       "layout": "IPY_MODEL_cc94ea568501444d93eed8d2625f67cc",
       "max": 5,
       "min": -0.5,
       "step": 0.1,
       "style": "IPY_MODEL_3c461e9487464422a4c0653845a0e6b5",
       "value": 2.3
      }
     },
     "96ac1d476f904aa6b1c4e22d38445792": {
      "model_module": "@jupyter-widgets/base",
      "model_module_version": "1.2.0",
      "model_name": "LayoutModel",
      "state": {}
     },
     "980ede2fdc864481ad0f15d2d8fb0b93": {
      "model_module": "@jupyter-widgets/base",
      "model_module_version": "1.2.0",
      "model_name": "LayoutModel",
      "state": {}
     },
     "991725af87b24eeca200aa695adc0c8c": {
      "model_module": "@jupyter-widgets/controls",
      "model_module_version": "1.5.0",
      "model_name": "SliderStyleModel",
      "state": {
       "description_width": ""
      }
     },
     "99b12b8f68794bfaa888f34979d7d4f0": {
      "model_module": "@jupyter-widgets/controls",
      "model_module_version": "1.5.0",
      "model_name": "VBoxModel",
      "state": {
       "children": [
        "IPY_MODEL_d22c2d978f3e4bacb65f4e4d9dba6208",
        "IPY_MODEL_6ba4c5a18e4448428fcb3ac633333d94",
        "IPY_MODEL_1ec2485ad104480b84f14fb912d37dc1",
        "IPY_MODEL_308336cfcc0c42be8533e819205ea84e",
        "IPY_MODEL_2c827e981974465ebc32cf01f56ec6a4",
        "IPY_MODEL_2f985fb6105c40209736c89a5330f9d1",
        "IPY_MODEL_efd490b9749b464bbc7e8363fce15640",
        "IPY_MODEL_1decdd3832e7420aa4247ed9f24a75ca"
       ],
       "layout": "IPY_MODEL_722feca4963548a6a0efd8472719d323"
      }
     },
     "99e9d94d863e474d9897e99dd6b8c341": {
      "model_module": "@jupyter-widgets/controls",
      "model_module_version": "1.5.0",
      "model_name": "FloatSliderModel",
      "state": {
       "description": "mu1",
       "layout": "IPY_MODEL_ee9925f0aa57497aaad7d120262af8f3",
       "max": 5,
       "min": -0.5,
       "step": 0.1,
       "style": "IPY_MODEL_991725af87b24eeca200aa695adc0c8c",
       "value": 2.3
      }
     },
     "9aba59ea40f144c1995d5ab881622d36": {
      "model_module": "@jupyter-widgets/base",
      "model_module_version": "1.2.0",
      "model_name": "LayoutModel",
      "state": {}
     },
     "9e0a3d1173b34fa49d15b7009ed6797f": {
      "model_module": "@jupyter-widgets/base",
      "model_module_version": "1.2.0",
      "model_name": "LayoutModel",
      "state": {}
     },
     "9eebfbbe398a486c811408aec0d0937b": {
      "model_module": "@jupyter-widgets/controls",
      "model_module_version": "1.5.0",
      "model_name": "FloatSliderModel",
      "state": {
       "description": "mu2",
       "layout": "IPY_MODEL_fdd5a56d661549279548ba51d0e5f00c",
       "max": 5,
       "min": -0.5,
       "step": 0.1,
       "style": "IPY_MODEL_8361116319e642c59bf8938d9c541f50",
       "value": 1.5
      }
     },
     "9f38a7af33064892b98786729fa876b6": {
      "model_module": "@jupyter-widgets/controls",
      "model_module_version": "1.5.0",
      "model_name": "HBoxModel",
      "state": {
       "children": [
        "IPY_MODEL_86ef3b069cb24e469ad5d5c4feece8d1",
        "IPY_MODEL_99b12b8f68794bfaa888f34979d7d4f0"
       ],
       "layout": "IPY_MODEL_0a01b9c0f80f4b59b740fe4e5d18b64e"
      }
     },
     "a37dcd1850b94d6296f2e6f8a5873c17": {
      "model_module": "@jupyter-widgets/output",
      "model_module_version": "1.0.0",
      "model_name": "OutputModel",
      "state": {
       "layout": "IPY_MODEL_c5cd2752843a42cbb321e7abc07e8b48",
       "outputs": [
        {
         "data": {
          "image/png": "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\n",
          "text/plain": "<Figure size 576x576 with 3 Axes>"
         },
         "metadata": {
          "needs_background": "light"
         },
         "output_type": "display_data"
        }
       ]
      }
     },
     "a384d5a01a654cd3a4e31f84fdc6d7f1": {
      "model_module": "@jupyter-widgets/base",
      "model_module_version": "1.2.0",
      "model_name": "LayoutModel",
      "state": {
       "align_items": "center",
       "display": "flex",
       "width": "100%"
      }
     },
     "a42c5ca08a5242bb8af60e3b95655d6c": {
      "model_module": "@jupyter-widgets/controls",
      "model_module_version": "1.5.0",
      "model_name": "FloatSliderModel",
      "state": {
       "description": "rho",
       "layout": "IPY_MODEL_b0b33a53b16346f1993bead5ef8dcd74",
       "max": 0.9,
       "min": -0.9,
       "step": 0.1,
       "style": "IPY_MODEL_4a0cafa6bdf940de9e4799e6466fbb4a",
       "value": 0.7
      }
     },
     "a432b95da6eb4b519fca0de23d518cd4": {
      "model_module": "@jupyter-widgets/controls",
      "model_module_version": "1.5.0",
      "model_name": "FloatSliderModel",
      "state": {
       "description": "sigma2",
       "layout": "IPY_MODEL_e0c6a8078c864645a79f8a9b9cbcc1a7",
       "max": 2,
       "min": 0.1,
       "step": 0.1,
       "style": "IPY_MODEL_60591ae685344c27a8e6ff8fe5929b29",
       "value": 0.5
      }
     },
     "a4c84f4628ed4ee095bbffd0bb0437de": {
      "model_module": "@jupyter-widgets/controls",
      "model_module_version": "1.5.0",
      "model_name": "SliderStyleModel",
      "state": {
       "description_width": ""
      }
     },
     "a72253c2035d4c339d1e2f8727ea9237": {
      "model_module": "@jupyter-widgets/controls",
      "model_module_version": "1.5.0",
      "model_name": "DescriptionStyleModel",
      "state": {
       "description_width": ""
      }
     },
     "a8bc89a133c742be84ee4ee39aee0136": {
      "model_module": "@jupyter-widgets/controls",
      "model_module_version": "1.5.0",
      "model_name": "SliderStyleModel",
      "state": {
       "description_width": ""
      }
     },
     "ab919ac0d81a49528b4305bfb600fbc0": {
      "model_module": "@jupyter-widgets/base",
      "model_module_version": "1.2.0",
      "model_name": "LayoutModel",
      "state": {}
     },
     "b0b33a53b16346f1993bead5ef8dcd74": {
      "model_module": "@jupyter-widgets/base",
      "model_module_version": "1.2.0",
      "model_name": "LayoutModel",
      "state": {}
     },
     "b345c0fc412b42feab002b1ebe465984": {
      "model_module": "@jupyter-widgets/controls",
      "model_module_version": "1.5.0",
      "model_name": "HBoxModel",
      "state": {
       "children": [
        "IPY_MODEL_61bd434ec6f04f2abf1b03be05963387",
        "IPY_MODEL_31494370da384063b6cd75d012422bbb"
       ],
       "layout": "IPY_MODEL_8fc6782dc570426da6d9b31e65b3c86f"
      }
     },
     "b4e53cc69d134fe894773a2bad92ed12": {
      "model_module": "@jupyter-widgets/base",
      "model_module_version": "1.2.0",
      "model_name": "LayoutModel",
      "state": {}
     },
     "b70d5653e4aa40e5bc3bb3b31ac40391": {
      "model_module": "@jupyter-widgets/controls",
      "model_module_version": "1.5.0",
      "model_name": "IntSliderModel",
      "state": {
       "description": "n",
       "layout": "IPY_MODEL_8bf1c4061d5c485fa9247067b606603b",
       "max": 10000,
       "min": 1000,
       "step": 1000,
       "style": "IPY_MODEL_855a94a86ff4409781fc20d4e28873bc",
       "value": 1000
      }
     },
     "b7d5a16dc5734382afc5fa57b5910d58": {
      "model_module": "@jupyter-widgets/base",
      "model_module_version": "1.2.0",
      "model_name": "LayoutModel",
      "state": {}
     },
     "bb02d9d75c5f494293641e1d90218b20": {
      "model_module": "@jupyter-widgets/controls",
      "model_module_version": "1.5.0",
      "model_name": "SliderStyleModel",
      "state": {
       "description_width": ""
      }
     },
     "bb41167a9cdf4dd5a21a283e759b627a": {
      "model_module": "@jupyter-widgets/controls",
      "model_module_version": "1.5.0",
      "model_name": "SliderStyleModel",
      "state": {
       "description_width": ""
      }
     },
     "bfa7be3a1e354d768175e214f0736d6e": {
      "model_module": "@jupyter-widgets/base",
      "model_module_version": "1.2.0",
      "model_name": "LayoutModel",
      "state": {}
     },
     "c331b677ad064fa0a2a9e394d612727e": {
      "model_module": "@jupyter-widgets/controls",
      "model_module_version": "1.5.0",
      "model_name": "FloatSliderModel",
      "state": {
       "description": "rho",
       "layout": "IPY_MODEL_b7d5a16dc5734382afc5fa57b5910d58",
       "max": 0.9,
       "min": -0.9,
       "step": 0.1,
       "style": "IPY_MODEL_0f2f49190fa649fea76619ee55e90942",
       "value": 0.7
      }
     },
     "c454b061e7aa49cead37e2a99480334a": {
      "model_module": "@jupyter-widgets/base",
      "model_module_version": "1.2.0",
      "model_name": "LayoutModel",
      "state": {}
     },
     "c5cd2752843a42cbb321e7abc07e8b48": {
      "model_module": "@jupyter-widgets/base",
      "model_module_version": "1.2.0",
      "model_name": "LayoutModel",
      "state": {}
     },
     "c8f0acf24e214a6383077edbd848766c": {
      "model_module": "@jupyter-widgets/controls",
      "model_module_version": "1.5.0",
      "model_name": "SliderStyleModel",
      "state": {
       "description_width": ""
      }
     },
     "cacd353983a2495f963301b1987160e5": {
      "model_module": "@jupyter-widgets/controls",
      "model_module_version": "1.5.0",
      "model_name": "LabelModel",
      "state": {
       "layout": "IPY_MODEL_8fb7d712e12a4ac1a4a7991ede2d1237",
       "style": "IPY_MODEL_a72253c2035d4c339d1e2f8727ea9237",
       "value": "Seleccionar parámetros"
      }
     },
     "cc94ea568501444d93eed8d2625f67cc": {
      "model_module": "@jupyter-widgets/base",
      "model_module_version": "1.2.0",
      "model_name": "LayoutModel",
      "state": {}
     },
     "d01e9720c99b44baafaef9d064ed11b6": {
      "model_module": "@jupyter-widgets/base",
      "model_module_version": "1.2.0",
      "model_name": "LayoutModel",
      "state": {}
     },
     "d22c2d978f3e4bacb65f4e4d9dba6208": {
      "model_module": "@jupyter-widgets/controls",
      "model_module_version": "1.5.0",
      "model_name": "LabelModel",
      "state": {
       "layout": "IPY_MODEL_fe6b766c27264529be648d9d6cd51800",
       "style": "IPY_MODEL_f63373759d4f426aa2bca149786662e7",
       "value": "Seleccionar parámetros"
      }
     },
     "d32c2a2c70aa41efab9c0f1746fe8c11": {
      "model_module": "@jupyter-widgets/controls",
      "model_module_version": "1.5.0",
      "model_name": "FloatSliderModel",
      "state": {
       "description": "sigma1",
       "layout": "IPY_MODEL_9aba59ea40f144c1995d5ab881622d36",
       "max": 2,
       "min": 0.1,
       "step": 0.1,
       "style": "IPY_MODEL_a8bc89a133c742be84ee4ee39aee0136",
       "value": 1.2
      }
     },
     "d6f3ff7438854c1c861c4bdef244fc57": {
      "model_module": "@jupyter-widgets/controls",
      "model_module_version": "1.5.0",
      "model_name": "SliderStyleModel",
      "state": {
       "description_width": ""
      }
     },
     "d7c43ef0ba8946509ef804516d757569": {
      "model_module": "@jupyter-widgets/controls",
      "model_module_version": "1.5.0",
      "model_name": "IntSliderModel",
      "state": {
       "description": "n",
       "layout": "IPY_MODEL_980ede2fdc864481ad0f15d2d8fb0b93",
       "max": 10000,
       "min": 1000,
       "step": 1000,
       "style": "IPY_MODEL_77e6a3ca679745a9845825eeff117e96",
       "value": 1000
      }
     },
     "d8e8a58f42d34babaafa4e91280d4084": {
      "model_module": "@jupyter-widgets/controls",
      "model_module_version": "1.5.0",
      "model_name": "HBoxModel",
      "state": {
       "children": [
        "IPY_MODEL_853d53c5f0df4f3591163470d95160ca",
        "IPY_MODEL_1a5a342f94f04f8eb5dc3ffe0bf1e739"
       ],
       "layout": "IPY_MODEL_098013462e2e46b8a2152731dc2df2b0"
      }
     },
     "da068a8465ad4c2d8a5f94ca684edeb9": {
      "model_module": "@jupyter-widgets/controls",
      "model_module_version": "1.5.0",
      "model_name": "SliderStyleModel",
      "state": {
       "description_width": ""
      }
     },
     "e0c6a8078c864645a79f8a9b9cbcc1a7": {
      "model_module": "@jupyter-widgets/base",
      "model_module_version": "1.2.0",
      "model_name": "LayoutModel",
      "state": {}
     },
     "e748db19bb024d7a9a85e87aa53bc0cf": {
      "model_module": "@jupyter-widgets/base",
      "model_module_version": "1.2.0",
      "model_name": "LayoutModel",
      "state": {}
     },
     "ecfc96774f1049479cbe22e32070f4aa": {
      "model_module": "@jupyter-widgets/base",
      "model_module_version": "1.2.0",
      "model_name": "LayoutModel",
      "state": {}
     },
     "ee9925f0aa57497aaad7d120262af8f3": {
      "model_module": "@jupyter-widgets/base",
      "model_module_version": "1.2.0",
      "model_name": "LayoutModel",
      "state": {}
     },
     "efd490b9749b464bbc7e8363fce15640": {
      "model_module": "@jupyter-widgets/controls",
      "model_module_version": "1.5.0",
      "model_name": "IntSliderModel",
      "state": {
       "description": "n",
       "layout": "IPY_MODEL_ab919ac0d81a49528b4305bfb600fbc0",
       "max": 10000,
       "min": 1000,
       "step": 1000,
       "style": "IPY_MODEL_1485f995ba3e4d54ac735031255bae88",
       "value": 1000
      }
     },
     "f0fa380afbe24f30ad4ef0e92734dd86": {
      "model_module": "@jupyter-widgets/controls",
      "model_module_version": "1.5.0",
      "model_name": "SliderStyleModel",
      "state": {
       "description_width": ""
      }
     },
     "f63373759d4f426aa2bca149786662e7": {
      "model_module": "@jupyter-widgets/controls",
      "model_module_version": "1.5.0",
      "model_name": "DescriptionStyleModel",
      "state": {
       "description_width": ""
      }
     },
     "f895dcbb906c44009e96b852e9935eae": {
      "model_module": "@jupyter-widgets/base",
      "model_module_version": "1.2.0",
      "model_name": "LayoutModel",
      "state": {}
     },
     "fb117b94f6ea48b7aaab2b05f681de47": {
      "model_module": "@jupyter-widgets/base",
      "model_module_version": "1.2.0",
      "model_name": "LayoutModel",
      "state": {}
     },
     "fc2ade54b573405ca3effe35aaf0a983": {
      "model_module": "@jupyter-widgets/base",
      "model_module_version": "1.2.0",
      "model_name": "LayoutModel",
      "state": {}
     },
     "fcdf8da5dfbd435e8d5b9d73daf4275d": {
      "model_module": "@jupyter-widgets/controls",
      "model_module_version": "1.5.0",
      "model_name": "FloatSliderModel",
      "state": {
       "description": "sigma1",
       "layout": "IPY_MODEL_fe8f610b44f34b048991a4bb841240e9",
       "max": 2,
       "min": 0.1,
       "step": 0.1,
       "style": "IPY_MODEL_4746425574594011a2f31777431a4dad",
       "value": 1.2
      }
     },
     "fdd5a56d661549279548ba51d0e5f00c": {
      "model_module": "@jupyter-widgets/base",
      "model_module_version": "1.2.0",
      "model_name": "LayoutModel",
      "state": {}
     },
     "fe6b766c27264529be648d9d6cd51800": {
      "model_module": "@jupyter-widgets/base",
      "model_module_version": "1.2.0",
      "model_name": "LayoutModel",
      "state": {
       "display": "flex",
       "justify_content": "center"
      }
     },
     "fe8f610b44f34b048991a4bb841240e9": {
      "model_module": "@jupyter-widgets/base",
      "model_module_version": "1.2.0",
      "model_name": "LayoutModel",
      "state": {}
     },
     "ffbd114276a447b08cc7f2d863238588": {
      "model_module": "@jupyter-widgets/controls",
      "model_module_version": "1.5.0",
      "model_name": "FloatSliderModel",
      "state": {
       "description": "sigma2",
       "layout": "IPY_MODEL_9e0a3d1173b34fa49d15b7009ed6797f",
       "max": 2,
       "min": 0.1,
       "step": 0.1,
       "style": "IPY_MODEL_f0fa380afbe24f30ad4ef0e92734dd86",
       "value": 0.5
      }
     }
    },
    "version_major": 2,
    "version_minor": 0
   }
  }
 },
 "nbformat": 4,
 "nbformat_minor": 2
}
