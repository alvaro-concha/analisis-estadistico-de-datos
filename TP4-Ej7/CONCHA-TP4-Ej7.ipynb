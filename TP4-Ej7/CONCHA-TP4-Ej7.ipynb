{
 "cells": [
  {
   "cell_type": "markdown",
   "metadata": {},
   "source": [
    "# TP4 - Estimación de parámetros\n",
    "\n",
    "## Análisis estadístico de datos, 2021\n",
    "\n",
    "## Alvaro Concha"
   ]
  },
  {
   "cell_type": "code",
   "execution_count": 1,
   "metadata": {},
   "outputs": [
    {
     "name": "stdout",
     "output_type": "stream",
     "text": [
      "Requirement already satisfied: numpy in /home/alvaro/.local/lib/python3.8/site-packages (1.17.4)\r\n",
      "Requirement already satisfied: seaborn in /usr/local/lib/python3.8/dist-packages (0.11.0)\r\n",
      "Requirement already satisfied: pandas>=0.23 in /home/alvaro/.local/lib/python3.8/site-packages (from seaborn) (1.1.3)\r\n",
      "Requirement already satisfied: scipy>=1.0 in /usr/local/lib/python3.8/dist-packages (from seaborn) (1.5.3)\r\n",
      "Requirement already satisfied: matplotlib>=2.2 in /home/alvaro/.local/lib/python3.8/site-packages (from seaborn) (3.4.3)\r\n",
      "Requirement already satisfied: pytz>=2017.2 in /usr/lib/python3/dist-packages (from pandas>=0.23->seaborn) (2019.3)\r\n",
      "Requirement already satisfied: python-dateutil>=2.7.3 in /usr/lib/python3/dist-packages (from pandas>=0.23->seaborn) (2.7.3)\r\n",
      "Requirement already satisfied: pillow>=6.2.0 in /home/alvaro/.local/lib/python3.8/site-packages (from matplotlib>=2.2->seaborn) (8.3.2)\r\n",
      "Requirement already satisfied: pyparsing>=2.2.1 in /usr/local/lib/python3.8/dist-packages (from matplotlib>=2.2->seaborn) (2.4.7)\r\n",
      "Requirement already satisfied: kiwisolver>=1.0.1 in /usr/local/lib/python3.8/dist-packages (from matplotlib>=2.2->seaborn) (1.2.0)\r\n",
      "Requirement already satisfied: cycler>=0.10 in /usr/local/lib/python3.8/dist-packages (from matplotlib>=2.2->seaborn) (0.10.0)\r\n",
      "Requirement already satisfied: six in /usr/lib/python3/dist-packages (from cycler>=0.10->matplotlib>=2.2->seaborn) (1.14.0)\r\n"
     ]
    }
   ],
   "source": [
    "\"\"\"Instalar librerias necesarias\"\"\"\n",
    "%pip install numpy seaborn"
   ]
  },
  {
   "cell_type": "markdown",
   "metadata": {},
   "source": [
    "---\n",
    "## Ejercicio 7 (Para entregar)\n",
    "Considerar las variables $X_1$ and $X_2$ que siguen una distribución binormal con varianzas $\\sigma_1 = 2.3$, $\\sigma_2 = 1.7$ y correlación $\\rho = -0.78$.\n",
    "\n",
    "Calcular la función de verosimilitud de los parámetros $\\mu_1$ y $\\mu_2$ para los valores observados $x_1 = 7.9$ y $x_2 = 13.4$ ($\\mathcal{L}(\\mu1 , \\mu2 )$).\n",
    "\n",
    "Calcular los estimadores de máxima verosimilitud de $\\mu_1$ y $\\mu_2$ y evaluar la verosimilitud máxima $\\mathcal{L}_{\\max}$.\n",
    "\n",
    "Calcular el cociente de verosimilitudes $\\lambda(\\mu_1, \\mu_2) = \\mathcal{L}(\\mu_1, \\mu_2)/\\mathcal{L}_{\\max}$ y graficar la función de costo $J(\\mu_1, \\mu_2) = -2 \\ln \\lambda(\\mu_1, \\mu_2)$."
   ]
  },
  {
   "cell_type": "markdown",
   "metadata": {},
   "source": [
    "### Notación\n",
    "Sean el vector bidimensional $\\mathbf{x} = (x_1, x_2)$, y la función $f: \\mathbb{R}^2 \\mapsto \\mathbb{R}$, denotamos el gradiente de $f$ respecto de $\\mathbf{x}$ como\n",
    "$$\n",
    "\\nabla_{\\mathbf{x}} f(\\mathbf{x}) \\dot{=} \\left[\\partial_{x_1}f(\\mathbf{x}), \\partial_{x_2}f(\\mathbf{x})\\right],\n",
    "$$\n",
    "y denotamos la matriz hessiana de $f$ respecto de $\\mathbf{x}$ como\n",
    "$$\n",
    "\\begin{align*}\n",
    "\\mathrm{Hessian}_{{\\mathbf{x}}} f(\\mathbf{x}) &\\dot{=} \\mathrm{Jacobian}_{{\\mathbf{x}}} \\nabla_{\\mathbf{x}} f(\\mathbf{x})\\\\\n",
    "&\\dot{=} \\left[ \\frac{\\partial^2 f(\\mathbf{x})}{\\partial x_i\\partial x_j} \\right].\n",
    "\\end{align*}\n",
    "$$\n",
    "\n",
    "Sean el vector bidimensional $\\mathbf{x} = (x_1, x_2)$, y la función vectorial $\\mathbf{f}: \\mathbb{R}^2 \\mapsto \\mathbb{R}^2$, con $\\mathbf{f}(\\mathbf{x}) = (f_1(\\mathbf{x}), f_2(\\mathbf{x}))$, usamos el operador gradiente para denotar al jacobiano $\\mathbf{f}$ respecto de $\\mathbf{x}$\n",
    "$$\n",
    "\\begin{align*}\n",
    "\\nabla_{\\mathbf{x}} \\mathbf{f}(\\mathbf{x}) &\\dot{=} \\mathrm{Jacobian}_{{\\mathbf{x}}} \\mathbf{f}(\\mathbf{x})\\\\\n",
    "&\\dot{=} \\left[ \\frac{\\partial f_i(\\mathbf{x})}{\\partial x_j} \\right].\n",
    "\\end{align*}\n",
    "$$"
   ]
  },
  {
   "cell_type": "markdown",
   "metadata": {},
   "source": [
    "## Solución\n",
    "Sea la variable aleatoria binormal\n",
    "$$\n",
    "X = (X_1, X_2) \\sim \\mathcal{N}_2(\\boldsymbol{\\mu}, \\Sigma),\n",
    "$$\n",
    "con media desconocida\n",
    "$$\n",
    "\\boldsymbol{\\mu} = (\\mu_1, \\mu_2),\n",
    "$$\n",
    "y matriz de covarianza\n",
    "$$\n",
    "\\Sigma = \\begin{pmatrix}\n",
    "\\sigma_1^2 & \\rho\\sigma_1\\sigma_2\\\\\n",
    "\\rho\\sigma_1\\sigma_2 & \\sigma_2^2\n",
    "\\end{pmatrix},\n",
    "$$\n",
    "con $\\sigma_1 = 2.3$, $\\sigma_2 = 1.7$, $\\rho = -0.78$.\n",
    "\n",
    "*Comentario*: la matriz de covarianza es simétrica y definida positiva, y su inversa $\\Sigma^{-1}$ también.\n",
    "\n",
    "Luego, la likelihood es la distribución de densidad de probabilidad de $\\mathbf{X}$, pero vista como función de los parámetros $(\\boldsymbol{\\mu}, \\Sigma)$\n",
    "$$\n",
    "\\begin{align*}\n",
    "\\mathcal{L}(\\boldsymbol{\\mu}, \\Sigma; \\mathbf{x}) &= f(\\mathbf{x}; \\boldsymbol{\\mu}, \\Sigma)\\\\\n",
    "&= \\frac{1}{2\\pi \\sqrt{\\det{\\Sigma}}} \\exp\\left[ -\\frac{1}{2} (\\mathbf{x}-\\boldsymbol{\\mu})^T \\Sigma^{-1} (\\mathbf{x}-\\boldsymbol{\\mu}) \\right].\n",
    "\\end{align*}\n",
    "$$\n",
    "\n",
    "En el caso en que $\\Sigma$ y $\\mathbf{x}=(x_1, x_2)$ estén fijos, el estimador maximum likelihood para $\\boldsymbol{\\mu}$ es\n",
    "$$\n",
    "\\begin{align*}\n",
    "\\hat{\\boldsymbol{\\mu}}_{MLE} &= \\underset{\\boldsymbol{\\mu}}{\\mathrm{argmax}} \\left\\{ \\mathcal{L}(\\boldsymbol{\\mu}) \\right\\}\\\\\n",
    "&= \\underset{\\boldsymbol{\\mu}}{\\mathrm{argmax}} \\left\\{ \\ln \\mathcal{L}(\\boldsymbol{\\mu}) \\right\\},\n",
    "\\end{align*}\n",
    "$$\n",
    "donde aplicamos el logaritmo que no cambia la ubicación del máximo por ser monótono creciente.\n",
    "\n",
    "Luego, usando cálculo, el máximo de la likelihood debe satisfacer que\n",
    "$$\n",
    "\\begin{cases}\n",
    "\\nabla_{\\boldsymbol{\\mu}} \\ln \\mathcal{L}(\\boldsymbol{\\mu}) |_{\\boldsymbol{\\mu} = \\hat{\\boldsymbol{\\mu}}_{MLE}} = \\mathbf{0} \\text{ o no definido}\\\\\n",
    "\\mathrm{Hessian}_{\\boldsymbol{\\mu}} \\ln \\mathcal{L}(\\boldsymbol{\\mu}) |_{\\boldsymbol{\\mu} = \\hat{\\boldsymbol{\\mu}}_{MLE}} \\text{ definida negativa}\n",
    "\\end{cases},\n",
    "$$\n",
    "y tenemos que\n",
    "$$\n",
    "\\begin{align*}\n",
    "\\nabla_{\\boldsymbol{\\mu}} \\ln \\mathcal{L}(\\boldsymbol{\\mu}) &= \\nabla_{\\boldsymbol{\\mu}} \\left\\{ \\underbrace{-\\ln2\\pi\\sqrt{\\det\\Sigma}}_{\\text{cte}} + \\left[ -\\frac{1}{2} (\\mathbf{x}-\\boldsymbol{\\mu})^T \\Sigma^{-1} (\\mathbf{x}-\\boldsymbol{\\mu}) \\right] \\right\\}\\\\\n",
    "&= \\nabla_{\\boldsymbol{\\mu}} \\left[ -\\frac{1}{2} (\\mathbf{x}-\\boldsymbol{\\mu})^T \\Sigma^{-1} (\\mathbf{x}-\\boldsymbol{\\mu}) \\right]\\\\\n",
    "&= -\\frac{1}{2} \\left[ \\underbrace{\\mathrm{Jacobian}_{\\boldsymbol{\\mu}}(\\mathbf{x}-\\boldsymbol{\\mu})^T}_{-\\mathbb{1}} \\Sigma^{-1} (\\mathbf{x}-\\boldsymbol{\\mu}) + (\\mathbf{x}-\\boldsymbol{\\mu})^T \\Sigma^{-1} \\underbrace{\\mathrm{Jacobian}_{\\boldsymbol{\\mu}}(\\mathbf{x}-\\boldsymbol{\\mu})}_{-\\mathbb{1}} \\right] \\text{ derivada del producto}\\\\\n",
    "&= \\frac{1}{2} \\left[ \\Sigma^{-1} (\\mathbf{x}-\\boldsymbol{\\mu}) + \\underbrace{(\\mathbf{x}-\\boldsymbol{\\mu})^T \\Sigma^{-1}}_{\\Sigma^{-1} (\\text{ $\\mathbf{x}-\\boldsymbol{\\mu})$ por ser $\\Sigma^{-1}$ simétrica}} \\right]\\\\\n",
    "&= \\Sigma^{-1} (\\mathbf{x}-\\boldsymbol{\\mu}),\n",
    "\\end{align*}\n",
    "$$\n",
    "con\n",
    "$$\n",
    "\\begin{align*}\n",
    "\\mathrm{Hessian}_{\\boldsymbol{\\mu}} \\ln \\mathcal{L}(\\boldsymbol{\\mu}) &= \\mathrm{Jacobian}_{{\\boldsymbol{\\mu}}} \\nabla_{\\boldsymbol{\\mu}} \\ln \\mathcal{L}(\\boldsymbol{\\mu})\\\\\n",
    "&= \\mathrm{Jacobian}_{{\\boldsymbol{\\mu}}} \\Sigma^{-1} (\\mathbf{x}-\\boldsymbol{\\mu})\\\\\n",
    "&= \\Sigma^{-1} \\underbrace{\\mathrm{Jacobian}_{{\\boldsymbol{\\mu}}} (\\mathbf{x}-\\boldsymbol{\\mu})}_{-\\mathbb{1}}\\\\\n",
    "&= -\\Sigma^{-1} \\text{ definida negativa},\n",
    "\\end{align*}\n",
    "$$\n",
    "por lo que el estimador maximum likelihood es solución de\n",
    "$$\n",
    "\\begin{align*}\n",
    "\\Sigma^{-1} (\\mathbf{x}-\\hat{\\boldsymbol{\\mu}}_{MLE}) &= \\mathbf{0}\\\\\n",
    "\\implies \\underbrace{\\Sigma\\Sigma^{-1}}_{\\mathbb{1}} (\\mathbf{x}-\\hat{\\boldsymbol{\\mu}}_{MLE}) &= \\underbrace{\\Sigma\\mathbf{0}}_{\\mathbf{0}}\\\\\n",
    "\\implies \\hat{\\boldsymbol{\\mu}}_{MLE} &= \\mathbf{x}.\n",
    "\\end{align*}\n",
    "$$\n",
    "\n",
    "Por su parte, el valor máximo que adopta la likelihood es\n",
    "$$\n",
    "\\begin{align*}\n",
    "\\mathcal{L}_{\\max} &= \\underset{\\boldsymbol{\\mu}}{\\max} \\left\\{ \\mathcal{L}(\\boldsymbol{\\mu}) \\right\\}\\\\\n",
    "&= \\mathcal{L}(\\hat{\\boldsymbol{\\mu}}_{MLE})\\\\\n",
    "&= \\frac{1}{2\\pi \\sqrt{\\det{\\Sigma}}},\n",
    "\\end{align*}\n",
    "$$\n",
    "y el cociente de likelihood es\n",
    "$$\n",
    "\\begin{align*}\n",
    "\\lambda(\\boldsymbol{\\mu}) &= \\frac{\\mathcal{L}(\\boldsymbol{\\mu})}{\\mathcal{L}_{\\max}}\\\\\n",
    "&= \\exp\\left[ -\\frac{1}{2} (\\mathbf{x}-\\boldsymbol{\\mu})^T \\Sigma^{-1} (\\mathbf{x}-\\boldsymbol{\\mu}) \\right],\n",
    "\\end{align*}\n",
    "$$\n",
    "con función de costo\n",
    "$$\n",
    "\\begin{align*}\n",
    "J(\\boldsymbol{\\mu}) &= -2 \\ln \\lambda(\\boldsymbol{\\mu})\\\\\n",
    "&= (\\mathbf{x}-\\boldsymbol{\\mu})^T \\Sigma^{-1} (\\mathbf{x}-\\boldsymbol{\\mu})\\\\\n",
    "&\\ge 0,\n",
    "\\end{align*}\n",
    "$$\n",
    "la cual se anula en el estimador de maximum likelihood y es su mínimo\n",
    "$$\n",
    "J(\\hat{\\boldsymbol{\\mu}}_{MLE}) = 0,\n",
    "$$\n",
    "y es igual a la forma cuadrática $q(\\mathbf{x}; \\boldsymbol{\\mu}, \\Sigma)$ pero como función de $(\\boldsymbol{\\mu}, \\Sigma)$ y tratando a $\\mathbf{x}$ como parámetro\n",
    "$$\n",
    "\\begin{align*}\n",
    "J(\\boldsymbol{\\mu}, \\Sigma; \\mathbf{x}) &= q(\\mathbf{x}; \\boldsymbol{\\mu}, \\Sigma)\\\\\n",
    "&= (\\mathbf{x}-\\boldsymbol{\\mu})^T \\Sigma^{-1} (\\mathbf{x}-\\boldsymbol{\\mu}),\n",
    "\\end{align*}\n",
    "$$\n",
    "siendo sus superficies de nivel\n",
    "$$\n",
    "q(\\mathbf{x}; \\boldsymbol{\\mu}, \\Sigma) = r^2,\n",
    "$$\n",
    "elipses, si $r > 0$."
   ]
  },
  {
   "cell_type": "code",
   "execution_count": 8,
   "metadata": {},
   "outputs": [
    {
     "data": {
      "application/vnd.jupyter.widget-view+json": {
       "model_id": "a35b7bb289a84c609adc94e947eb4b67",
       "version_major": 2,
       "version_minor": 0
      },
      "text/plain": [
       "HBox(children=(Output(), VBox(children=(Label(value='Seleccionar parámetros', layout=Layout(display='flex', ju…"
      ]
     },
     "metadata": {},
     "output_type": "display_data"
    }
   ],
   "source": [
    "\"\"\"Ejercicio 7 (Para entregar)\"\"\"\n",
    "import numpy as np\n",
    "import matplotlib.pyplot as plt\n",
    "import seaborn as sns\n",
    "import ipywidgets as widgets\n",
    "from IPython.display import display\n",
    "\n",
    "\n",
    "def get_Sigma(sigma1, sigma2, rho):\n",
    "    \"\"\"Retorna la matriz de covarianza.\"\"\"\n",
    "    return np.array(\n",
    "        [[sigma1 ** 2, rho * sigma1 * sigma2], [rho * sigma1 * sigma2, sigma2 ** 2]]\n",
    "    )\n",
    "\n",
    "\n",
    "def get_J(mus, Sigma_inv, x):\n",
    "    \"\"\"Retorna la funcion de costo.\"\"\"\n",
    "    return np.sum(\n",
    "        (x[:, np.newaxis] - mus).T @ Sigma_inv * (x[:, np.newaxis] - mus).T, axis=1\n",
    "    )\n",
    "\n",
    "\n",
    "def plot_ej7(sigma1, sigma2, rho, x1, x2):\n",
    "    \"\"\"Grafica Ejercicio 7.\"\"\"\n",
    "    num_grid = 100\n",
    "    mu1_lims = (-2.5, 17.5)\n",
    "    mu2_lims = (2.5, 22.5)\n",
    "    mu1 = np.linspace(*mu1_lims, num_grid)\n",
    "    mu2 = np.linspace(*mu2_lims, num_grid)\n",
    "    mus = np.meshgrid(mu1, mu2)\n",
    "    mus = np.vstack([mus[0].ravel(), mus[1].ravel()])\n",
    "    Sigma = get_Sigma(sigma1=sigma1, sigma2=sigma2, rho=rho)\n",
    "    x = np.array([x1, x2])\n",
    "    J = get_J(mus=mus, Sigma_inv=np.linalg.inv(Sigma), x=x)\n",
    "    plt.figure(figsize=(8, 8))\n",
    "    sns.set_context(\"paper\", font_scale=1.5)\n",
    "    J = J.reshape((num_grid, num_grid))\n",
    "    mus = mus.reshape((2, num_grid, num_grid))\n",
    "    contour = plt.contour(\n",
    "        *mus, J, levels=(1, 4, 9, 16), colors=[\"r\", \"g\", \"b\", \"brown\"]\n",
    "    )\n",
    "    plt.clabel(contour)\n",
    "    plt.scatter(x1, x2, c=\"k\", s=1)\n",
    "    plt.text(x1, x2, \"0\", ha=\"center\", va=\"center\")\n",
    "    plt.title(r\"Función de costo $J(\\mathbf{\\mu})$\")\n",
    "    plt.xlim(*mu1_lims)\n",
    "    plt.ylim(*mu2_lims)\n",
    "    plt.xlabel(r\"$\\mu_1$\")\n",
    "    plt.ylabel(r\"$\\mu_2$\")\n",
    "    plt.show()\n",
    "    plt.close()\n",
    "\n",
    "\n",
    "def ej7():\n",
    "    \"\"\"Ejercicio 7.\"\"\"\n",
    "    sigma1 = widgets.FloatSlider(description=\"sigma1\", value=2.3, min=0.1, max=3.0)\n",
    "    sigma2 = widgets.FloatSlider(description=\"sigma2\", value=1.7, min=0.1, max=3.0)\n",
    "    rho = widgets.FloatSlider(\n",
    "        description=\"rho\", value=-0.78, min=-0.99, max=0.99, step=0.01\n",
    "    )\n",
    "    x1 = widgets.FloatSlider(description=\"x1\", value=7.9, min=0.1, max=20.0)\n",
    "    x2 = widgets.FloatSlider(description=\"x2\", value=13.4, min=0.1, max=20.0)\n",
    "    parameters = {\n",
    "        \"sigma1\": sigma1,\n",
    "        \"sigma2\": sigma2,\n",
    "        \"rho\": rho,\n",
    "        \"x1\": x1,\n",
    "        \"x2\": x2,\n",
    "    }\n",
    "    out = widgets.interactive_output(plot_ej7, parameters)\n",
    "    title = widgets.Label(\n",
    "        \"Seleccionar parámetros\",\n",
    "        layout=widgets.Layout(display=\"flex\", justify_content=\"center\"),\n",
    "    )\n",
    "    sliders = [title, *parameters.values()]\n",
    "    display(\n",
    "        widgets.HBox(\n",
    "            [out, widgets.VBox(sliders)],\n",
    "            layout=widgets.Layout(width=\"100%\", display=\"flex\", align_items=\"center\"),\n",
    "        )\n",
    "    )\n",
    "\n",
    "\n",
    "if __name__ == \"__main__\":\n",
    "    ej7()\n"
   ]
  }
 ],
 "metadata": {
  "interpreter": {
   "hash": "31f2aee4e71d21fbe5cf8b01ff0e069b9275f58929596ceb00d14d90e3e16cd6"
  },
  "kernelspec": {
   "display_name": "Python 3.8.10 64-bit",
   "name": "python3"
  },
  "language_info": {
   "codemirror_mode": {
    "name": "ipython",
    "version": 3
   },
   "file_extension": ".py",
   "mimetype": "text/x-python",
   "name": "python",
   "nbconvert_exporter": "python",
   "pygments_lexer": "ipython3",
   "version": "3.8.10"
  },
  "widgets": {
   "application/vnd.jupyter.widget-state+json": {
    "state": {
     "032693f070c448d1841530a76a104acb": {
      "model_module": "@jupyter-widgets/controls",
      "model_module_version": "1.5.0",
      "model_name": "SliderStyleModel",
      "state": {
       "description_width": ""
      }
     },
     "0d12d1cd560b4efaa4537bf7c2731248": {
      "model_module": "@jupyter-widgets/base",
      "model_module_version": "1.2.0",
      "model_name": "LayoutModel",
      "state": {
       "display": "flex",
       "justify_content": "center"
      }
     },
     "0faf70a12acb4f8daba406c6fa0bcc30": {
      "model_module": "@jupyter-widgets/controls",
      "model_module_version": "1.5.0",
      "model_name": "SliderStyleModel",
      "state": {
       "description_width": ""
      }
     },
     "10f968a9d2814c60a935dbe1071d27de": {
      "model_module": "@jupyter-widgets/controls",
      "model_module_version": "1.5.0",
      "model_name": "SliderStyleModel",
      "state": {
       "description_width": ""
      }
     },
     "1aedfbd6bf1141998aee149eb778e52b": {
      "model_module": "@jupyter-widgets/controls",
      "model_module_version": "1.5.0",
      "model_name": "FloatSliderModel",
      "state": {
       "description": "r",
       "layout": "IPY_MODEL_d01e9720c99b44baafaef9d064ed11b6",
       "max": 4,
       "min": 0.5,
       "step": 0.5,
       "style": "IPY_MODEL_032693f070c448d1841530a76a104acb",
       "value": 1
      }
     },
     "1b0a80f6655540d5885a0699b89c8b79": {
      "model_module": "@jupyter-widgets/base",
      "model_module_version": "1.2.0",
      "model_name": "LayoutModel",
      "state": {}
     },
     "4e59162fc8e54f27908fd0dda8abb4cf": {
      "model_module": "@jupyter-widgets/controls",
      "model_module_version": "1.5.0",
      "model_name": "HBoxModel",
      "state": {
       "children": [
        "IPY_MODEL_a37dcd1850b94d6296f2e6f8a5873c17",
        "IPY_MODEL_5661280fcd92467c973771a1a9480c9f"
       ],
       "layout": "IPY_MODEL_a384d5a01a654cd3a4e31f84fdc6d7f1"
      }
     },
     "5661280fcd92467c973771a1a9480c9f": {
      "model_module": "@jupyter-widgets/controls",
      "model_module_version": "1.5.0",
      "model_name": "VBoxModel",
      "state": {
       "children": [
        "IPY_MODEL_8f2afba5002449689d718447d73b220f",
        "IPY_MODEL_99e9d94d863e474d9897e99dd6b8c341",
        "IPY_MODEL_9eebfbbe398a486c811408aec0d0937b",
        "IPY_MODEL_87fa4d7414f5481e9b8ba7e2421c0834",
        "IPY_MODEL_8d5d76b4b9b74cfeba02a272c31c420f",
        "IPY_MODEL_6cd861f95ea749eda3bd4f7623b98adf",
        "IPY_MODEL_68448342e8af47e4b81dcd444cecf788",
        "IPY_MODEL_1aedfbd6bf1141998aee149eb778e52b"
       ],
       "layout": "IPY_MODEL_f895dcbb906c44009e96b852e9935eae"
      }
     },
     "624798be29cd4bacbb58346d982a0f71": {
      "model_module": "@jupyter-widgets/base",
      "model_module_version": "1.2.0",
      "model_name": "LayoutModel",
      "state": {}
     },
     "68448342e8af47e4b81dcd444cecf788": {
      "model_module": "@jupyter-widgets/controls",
      "model_module_version": "1.5.0",
      "model_name": "IntSliderModel",
      "state": {
       "description": "n",
       "layout": "IPY_MODEL_1b0a80f6655540d5885a0699b89c8b79",
       "max": 10000,
       "min": 1000,
       "step": 1000,
       "style": "IPY_MODEL_10f968a9d2814c60a935dbe1071d27de",
       "value": 1000
      }
     },
     "6cd861f95ea749eda3bd4f7623b98adf": {
      "model_module": "@jupyter-widgets/controls",
      "model_module_version": "1.5.0",
      "model_name": "FloatSliderModel",
      "state": {
       "description": "rho",
       "layout": "IPY_MODEL_c454b061e7aa49cead37e2a99480334a",
       "max": 0.9,
       "min": -0.9,
       "step": 0.1,
       "style": "IPY_MODEL_a4c84f4628ed4ee095bbffd0bb0437de",
       "value": 0.7
      }
     },
     "7e601849712a4827af7f834fac3416ca": {
      "model_module": "@jupyter-widgets/base",
      "model_module_version": "1.2.0",
      "model_name": "LayoutModel",
      "state": {}
     },
     "8361116319e642c59bf8938d9c541f50": {
      "model_module": "@jupyter-widgets/controls",
      "model_module_version": "1.5.0",
      "model_name": "SliderStyleModel",
      "state": {
       "description_width": ""
      }
     },
     "87fa4d7414f5481e9b8ba7e2421c0834": {
      "model_module": "@jupyter-widgets/controls",
      "model_module_version": "1.5.0",
      "model_name": "FloatSliderModel",
      "state": {
       "description": "sigma1",
       "layout": "IPY_MODEL_7e601849712a4827af7f834fac3416ca",
       "max": 2,
       "min": 0.1,
       "step": 0.1,
       "style": "IPY_MODEL_da068a8465ad4c2d8a5f94ca684edeb9",
       "value": 1.2
      }
     },
     "8d5d76b4b9b74cfeba02a272c31c420f": {
      "model_module": "@jupyter-widgets/controls",
      "model_module_version": "1.5.0",
      "model_name": "FloatSliderModel",
      "state": {
       "description": "sigma2",
       "layout": "IPY_MODEL_624798be29cd4bacbb58346d982a0f71",
       "max": 2,
       "min": 0.1,
       "step": 0.1,
       "style": "IPY_MODEL_0faf70a12acb4f8daba406c6fa0bcc30",
       "value": 0.5
      }
     },
     "8e7a79a75fae4bd1a1ea61e2d81d4d9e": {
      "model_module": "@jupyter-widgets/controls",
      "model_module_version": "1.5.0",
      "model_name": "DescriptionStyleModel",
      "state": {
       "description_width": ""
      }
     },
     "8f2afba5002449689d718447d73b220f": {
      "model_module": "@jupyter-widgets/controls",
      "model_module_version": "1.5.0",
      "model_name": "LabelModel",
      "state": {
       "layout": "IPY_MODEL_0d12d1cd560b4efaa4537bf7c2731248",
       "style": "IPY_MODEL_8e7a79a75fae4bd1a1ea61e2d81d4d9e",
       "value": "Seleccionar parámetros"
      }
     },
     "991725af87b24eeca200aa695adc0c8c": {
      "model_module": "@jupyter-widgets/controls",
      "model_module_version": "1.5.0",
      "model_name": "SliderStyleModel",
      "state": {
       "description_width": ""
      }
     },
     "99e9d94d863e474d9897e99dd6b8c341": {
      "model_module": "@jupyter-widgets/controls",
      "model_module_version": "1.5.0",
      "model_name": "FloatSliderModel",
      "state": {
       "description": "mu1",
       "layout": "IPY_MODEL_ee9925f0aa57497aaad7d120262af8f3",
       "max": 5,
       "min": -0.5,
       "step": 0.1,
       "style": "IPY_MODEL_991725af87b24eeca200aa695adc0c8c",
       "value": 2.3
      }
     },
     "9eebfbbe398a486c811408aec0d0937b": {
      "model_module": "@jupyter-widgets/controls",
      "model_module_version": "1.5.0",
      "model_name": "FloatSliderModel",
      "state": {
       "description": "mu2",
       "layout": "IPY_MODEL_fdd5a56d661549279548ba51d0e5f00c",
       "max": 5,
       "min": -0.5,
       "step": 0.1,
       "style": "IPY_MODEL_8361116319e642c59bf8938d9c541f50",
       "value": 1.5
      }
     },
     "a37dcd1850b94d6296f2e6f8a5873c17": {
      "model_module": "@jupyter-widgets/output",
      "model_module_version": "1.0.0",
      "model_name": "OutputModel",
      "state": {
       "layout": "IPY_MODEL_c5cd2752843a42cbb321e7abc07e8b48",
       "outputs": [
        {
         "data": {
          "image/png": "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\n",
          "text/plain": "<Figure size 576x576 with 3 Axes>"
         },
         "metadata": {
          "needs_background": "light"
         },
         "output_type": "display_data"
        }
       ]
      }
     },
     "a384d5a01a654cd3a4e31f84fdc6d7f1": {
      "model_module": "@jupyter-widgets/base",
      "model_module_version": "1.2.0",
      "model_name": "LayoutModel",
      "state": {
       "align_items": "center",
       "display": "flex",
       "width": "100%"
      }
     },
     "a4c84f4628ed4ee095bbffd0bb0437de": {
      "model_module": "@jupyter-widgets/controls",
      "model_module_version": "1.5.0",
      "model_name": "SliderStyleModel",
      "state": {
       "description_width": ""
      }
     },
     "c454b061e7aa49cead37e2a99480334a": {
      "model_module": "@jupyter-widgets/base",
      "model_module_version": "1.2.0",
      "model_name": "LayoutModel",
      "state": {}
     },
     "c5cd2752843a42cbb321e7abc07e8b48": {
      "model_module": "@jupyter-widgets/base",
      "model_module_version": "1.2.0",
      "model_name": "LayoutModel",
      "state": {}
     },
     "d01e9720c99b44baafaef9d064ed11b6": {
      "model_module": "@jupyter-widgets/base",
      "model_module_version": "1.2.0",
      "model_name": "LayoutModel",
      "state": {}
     },
     "da068a8465ad4c2d8a5f94ca684edeb9": {
      "model_module": "@jupyter-widgets/controls",
      "model_module_version": "1.5.0",
      "model_name": "SliderStyleModel",
      "state": {
       "description_width": ""
      }
     },
     "ee9925f0aa57497aaad7d120262af8f3": {
      "model_module": "@jupyter-widgets/base",
      "model_module_version": "1.2.0",
      "model_name": "LayoutModel",
      "state": {}
     },
     "f895dcbb906c44009e96b852e9935eae": {
      "model_module": "@jupyter-widgets/base",
      "model_module_version": "1.2.0",
      "model_name": "LayoutModel",
      "state": {}
     },
     "fdd5a56d661549279548ba51d0e5f00c": {
      "model_module": "@jupyter-widgets/base",
      "model_module_version": "1.2.0",
      "model_name": "LayoutModel",
      "state": {}
     }
    },
    "version_major": 2,
    "version_minor": 0
   }
  }
 },
 "nbformat": 4,
 "nbformat_minor": 2
}
