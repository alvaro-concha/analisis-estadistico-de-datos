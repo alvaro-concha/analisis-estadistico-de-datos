{
 "cells": [
  {
   "cell_type": "markdown",
   "metadata": {},
   "source": [
    "# TP4 - Estimación de parámetros\n",
    "\n",
    "## Análisis estadístico de datos, 2021\n",
    "\n",
    "## Alvaro Concha"
   ]
  },
  {
   "cell_type": "code",
   "execution_count": 1,
   "metadata": {},
   "outputs": [
    {
     "name": "stdout",
     "output_type": "stream",
     "text": [
      "Requirement already satisfied: numpy in /home/alvaro/.local/lib/python3.8/site-packages (1.17.4)\n",
      "Requirement already satisfied: scipy in /usr/local/lib/python3.8/dist-packages (1.5.3)\n",
      "Requirement already satisfied: seaborn in /usr/local/lib/python3.8/dist-packages (0.11.0)\n",
      "Requirement already satisfied: matplotlib>=2.2 in /home/alvaro/.local/lib/python3.8/site-packages (from seaborn) (3.4.3)\n",
      "Requirement already satisfied: pandas>=0.23 in /home/alvaro/.local/lib/python3.8/site-packages (from seaborn) (1.1.3)\n",
      "Requirement already satisfied: cycler>=0.10 in /usr/local/lib/python3.8/dist-packages (from matplotlib>=2.2->seaborn) (0.10.0)\n",
      "Requirement already satisfied: pillow>=6.2.0 in /home/alvaro/.local/lib/python3.8/site-packages (from matplotlib>=2.2->seaborn) (8.3.2)\n",
      "Requirement already satisfied: python-dateutil>=2.7 in /usr/lib/python3/dist-packages (from matplotlib>=2.2->seaborn) (2.7.3)\n",
      "Requirement already satisfied: kiwisolver>=1.0.1 in /usr/local/lib/python3.8/dist-packages (from matplotlib>=2.2->seaborn) (1.2.0)\n",
      "Requirement already satisfied: pyparsing>=2.2.1 in /usr/local/lib/python3.8/dist-packages (from matplotlib>=2.2->seaborn) (2.4.7)\n",
      "Requirement already satisfied: pytz>=2017.2 in /usr/lib/python3/dist-packages (from pandas>=0.23->seaborn) (2019.3)\n",
      "Requirement already satisfied: six in /usr/lib/python3/dist-packages (from cycler>=0.10->matplotlib>=2.2->seaborn) (1.14.0)\n",
      "Note: you may need to restart the kernel to use updated packages.\n"
     ]
    }
   ],
   "source": [
    "\"\"\"Instalar librerias necesarias\"\"\"\n",
    "%pip install numpy scipy seaborn"
   ]
  },
  {
   "cell_type": "markdown",
   "metadata": {},
   "source": [
    "### Notación\n",
    "Sea $x$ una variable continua unidimensional, utilizamos la siguiente notación para el operador diferencial\n",
    "$$\n",
    "\\begin{align*}\n",
    "d_x &\\dot{=} \\frac{d}{dx}\\\\\n",
    "&\\dot{=} D_x.\n",
    "\\end{align*}\n",
    "$$\n",
    "\n",
    "Sea $\\mathbf{x} = (x_1, x_2)$ un vector bidimensional, utilizamos las siguientes notaciones para operadores diferenciales\n",
    "$$\n",
    "\\begin{align*}\n",
    "d_{\\mathbf{x}} &\\dot{=} \\nabla_{\\mathbf{x}}\\\\\n",
    "&\\dot{=} (\\partial_{x_1}, \\partial_{x_2}),\n",
    "\\end{align*}\n",
    "$$\n",
    "y\n",
    "$$\n",
    "\\begin{align*}\n",
    "d^2_{\\mathbf{x}} &\\dot{=} \\mathrm{Hessian}_{{\\mathbf{x}}}\\\\\n",
    "&\\dot{=} \\mathrm{Jacobian}(\\nabla_{\\mathbf{x}})\\\\\n",
    "&\\dot{=} \\left( \\frac{\\partial^2}{\\partial_{x_i}\\partial_{x_j}} \\right).\n",
    "\\end{align*}\n",
    "$$"
   ]
  },
  {
   "cell_type": "markdown",
   "metadata": {},
   "source": [
    "---\n",
    "## Ejercicio 1\n",
    "Considerar una variable aleatoria $X$ que sigue una distribución normal con media $\\mu$ y varianza $\\sigma ^2$ ambas desconocidas.\n",
    "\n",
    "En un experimento se observaron los siguientes valores de $X = \\{18.9, 17.4, 20.8, 18.3, 17.0\\}$.\n",
    "\n",
    "A partir de los datos, estimar sin sesgo $\\mu$ y $\\sigma^2$."
   ]
  },
  {
   "cell_type": "markdown",
   "metadata": {},
   "source": [
    "## Solución\n",
    "Sea la variable aleatoria $X \\sim \\mathcal{N}(\\mu, \\sigma^2)$, con parámetros desconocidos.\n",
    "\n",
    "Sean $n$ observaciones $\\vec{x} = (x_1, \\dots, x_n)$ de la variable aleatoria $X$.\n",
    "\n",
    "Podemos estimar la media poblacional $\\mu$ de $X$ usando la media muestral\n",
    "$$\n",
    "\\begin{align*}\n",
    "\\bar{X} &= \\frac{1}{n} \\sum_{i=1}^n x_i\\\\\n",
    "&\\sim \\mathcal{N}(\\mu, \\frac{\\sigma^2}{n}),\n",
    "\\end{align*}\n",
    "$$\n",
    "o, la mediana\n",
    "$$\n",
    "\\begin{align*}\n",
    "\\tilde{X} &= \\mathrm{Mediana}(\\vec{x})\\\\\n",
    "&\\sim \\mathcal{N}(\\mu, \\frac{\\pi}{2} \\frac{\\sigma^2}{n}),\n",
    "\\end{align*}\n",
    "$$\n",
    "ambos son estimadores sin sesgo, siendo el sesgo de un estimador $\\hat{\\theta}$ igual a [[Wikipedia - Bias of an estimator](https://en.wikipedia.org/wiki/Bias_of_an_estimator)]\n",
    "$$\n",
    "\\mathrm{B}(\\hat{\\theta}) = \\mathrm{E}(\\hat{\\theta}) - \\theta.\n",
    "$$\n",
    "\n",
    "sin embargo, la media muestral tiene una varianza menor que la mediana, por lo que es más eficiente, siendo la eficiencia inversamente proporcional a la varianza [[Wikipedia - Efficiency of an estimator](https://en.wikipedia.org/wiki/Bias_of_an_estimator)]\n",
    "$$\n",
    "e(\\hat{\\theta}) = \\frac{1/\\mathcal{I}(\\theta)}{\\mathrm{Var}(\\hat{\\theta})},\n",
    "$$\n",
    "donde $\\mathcal{I}(\\theta)$ es la información de Fisher de la muestra dado que el valor verdadero del parámetro es $\\theta$ [[Wikipedia - Fisher information](https://en.wikipedia.org/wiki/Fisher_information)].\n",
    "\n",
    "Mientras que para estimar la varianza poblacional $\\sigma^2$ podemos usar la varianza muestral, con cero delta grados de libertad [[Numpy - Variance](https://numpy.org/doc/stable/reference/generated/numpy.var.html)]\n",
    "$$\n",
    "\\begin{align*}\n",
    "s_n^2 &= \\frac{1}{n} \\sum_{i=1}^n (x_i - \\bar{X})^2\\\\\n",
    "&\\sim \\frac{\\sigma^2}{n}\\chi_{n-1}^2,\n",
    "\\end{align*}\n",
    "$$\n",
    "o, con un delta grado de libertad\n",
    "$$\n",
    "\\begin{align*}\n",
    "s_{n-1}^2 &= \\frac{1}{n-1} \\sum_{i=1}^n (x_i - \\bar{X})^2\\\\\n",
    "&\\sim \\frac{\\sigma^2}{n-1}\\chi_{n-1}^2,\n",
    "\\end{align*}\n",
    "$$\n",
    "con sesgos\n",
    "$$\n",
    "\\mathrm{B}(s_n^2) = -\\frac{\\sigma^2}{n},\n",
    "$$\n",
    "y\n",
    "$$\n",
    "\\mathrm{B}(s_{n-1}^2) = 0,\n",
    "$$\n",
    "y con varianzas\n",
    "$$\n",
    "\\mathrm{Var}(s_n^2) = \\left(\\frac{n-1}{n}\\right)^2 \\frac{2}{n-1} \\sigma^4,\n",
    "$$\n",
    "y\n",
    "$$\n",
    "\\mathrm{Var}(s_{n-1}^2) = \\frac{2}{n-1} \\sigma^4.\n",
    "$$\n",
    "\n",
    "Finalmente, si tuviéramos acceso al valor verdadero del parámetro $\\mu$, podríamos calcular también el estimador de varianza\n",
    "$$\n",
    "\\begin{align*}\n",
    "t^2 &= \\frac{1}{n} \\sum_{i=1}^n (x_i - \\mu)^2\\\\\n",
    "&\\sim \\frac{\\sigma^2}{n}\\chi_{n}^2,\n",
    "\\end{align*}\n",
    "$$\n",
    "con sesgo\n",
    "$$\n",
    "\\mathrm{B}(t^2) =  0,\n",
    "$$\n",
    "y varianza\n",
    "$$\n",
    "\\mathrm{Var}(s_n^2) = \\frac{2}{n} \\sigma^4.\n",
    "$$"
   ]
  },
  {
   "cell_type": "markdown",
   "metadata": {},
   "source": [
    "## Observación\n",
    "Se dice que un estimador $\\hat{\\theta}$ es consistente, si su sesgo satisface [[Wikipedia - Consistency of an estimator](https://en.wikipedia.org/wiki/Consistent_estimator)]\n",
    "$$\n",
    "\\mathrm{B}(\\hat{\\theta}) \\xrightarrow[n \\to \\infty]{} 0,\n",
    "$$\n",
    "en el límite cuando el número de observaciones $n$ tiende a infinito.\n",
    "\n",
    "Por ej., el estimador\n",
    "$$\n",
    "\\hat{\\theta} = x_i,\n",
    "$$\n",
    "es un estimador sin sesgo de la media de poblacional, sin embargo no es consistente.\n",
    "\n",
    "Mientras que el estimador\n",
    "$$\n",
    "\\hat{\\theta} = \\frac{1}{n} \\sum_{i=1}^n x_i + \\frac{1}{n},\n",
    "$$\n",
    "es consistente, pero tiene sesgo.\n",
    "\n",
    "Si una secuencia de estimadores no tiene sesgo y converge a un valor, entonces es consistente y converge al valor correcto."
   ]
  },
  {
   "cell_type": "code",
   "execution_count": 2,
   "metadata": {},
   "outputs": [
    {
     "name": "stdout",
     "output_type": "stream",
     "text": [
      "Media muestral\t18.48\n",
      "Mediana\t\t18.30\n",
      "Varianza muestral\t\t2.24\n",
      "Varianza muestral sesgada\t1.79\n"
     ]
    }
   ],
   "source": [
    "%run ./ej1.py"
   ]
  },
  {
   "cell_type": "markdown",
   "metadata": {},
   "source": [
    "---\n",
    "## Ejercicio 2\n",
    "Simular una muestra de tres variables aleatorias $X_1$, $X_2$ y $X_3$ que siguen una distribución normal estándar.\n",
    "\n",
    "Calcular la media muestral $\\bar{X}$.\n",
    "\n",
    "Repetir este procedimiento 1000 veces y contruir un histograma de frecuencia de $\\bar{X}$.\n",
    "\n",
    "A partir de este histograma estimar el sesgo y varianza de $\\bar{X}$, graficar el histograma y superponer la función de densidad de probabilidad de $\\bar{X}$.\n",
    "\n",
    "*Nota: no ajustar el histograma.*"
   ]
  },
  {
   "cell_type": "markdown",
   "metadata": {},
   "source": [
    "## Solución\n",
    "Sean las $n$ variables aleatorias iid $X_i \\sim \\mathcal{N}(\\mu, \\sigma^2)$.\n",
    "\n",
    "Luego, la media sigue una distribución\n",
    "$$\n",
    "\\begin{align*}\n",
    "\\bar{X} &= \\frac{1}{n} \\sum_{i=1}^n x_i\\\\\n",
    "&\\sim \\mathcal{N}(\\mu, \\frac{\\sigma^2}{n}).\n",
    "\\end{align*}\n",
    "$$"
   ]
  },
  {
   "cell_type": "code",
   "execution_count": 3,
   "metadata": {},
   "outputs": [
    {
     "data": {
      "application/vnd.jupyter.widget-view+json": {
       "model_id": "fdb2eef5cc384336bd3e28d8f1a70988",
       "version_major": 2,
       "version_minor": 0
      },
      "text/plain": [
       "VBox(children=(Label(value='Seleccionar parámetros', layout=Layout(display='flex', justify_content='center')),…"
      ]
     },
     "metadata": {},
     "output_type": "display_data"
    }
   ],
   "source": [
    "%run ./ej2.py"
   ]
  },
  {
   "cell_type": "markdown",
   "metadata": {},
   "source": [
    "---\n",
    "## Ejercicio 3\n",
    "Simular una muestra de dos variables aleatorias $X_1$ y $X_2$ que siguen una distribución normal estándar.\n",
    "\n",
    "Calcular la varianza muestral $s^2$.\n",
    "\n",
    "Repetir la simulación 1000 veces y construir un histograma de frecuencia de $s^2$.\n",
    "\n",
    "A partir del histograma estimar el sesgo y la varianza de $s^2$.\n",
    "\n",
    "Graficar el histograma y superponer la distribución de probabilidad de $s^2$.\n",
    "\n",
    "*Nota: no ajustar el histograma.*"
   ]
  },
  {
   "cell_type": "markdown",
   "metadata": {},
   "source": [
    "## Solución\n",
    "Sean las $n$ variables aleatorias iid $X_i \\sim \\mathcal{N}(\\mu, \\sigma^2)$.\n",
    "\n",
    "Luego, la varianza muestral con $\\delta$ grados de libertad menos es\n",
    "$$\n",
    "\\begin{align*}\n",
    "s_{n - \\delta}^2 &= \\frac{1}{n - \\delta} \\sum_{i=1}^n (x_i - \\bar{X})^2\\\\\n",
    "&\\sim \\frac{\\sigma^2}{n - \\delta}\\chi_{n-1}^2,\n",
    "\\end{align*}\n",
    "$$\n",
    "con valor esperado\n",
    "$$\n",
    "\\mathrm{E}(s_{n - \\delta}^2) = \\frac{n - 1}{n - \\delta} \\sigma^2,\n",
    "$$\n",
    "y, por lo tanto, con sesgo\n",
    "$$\n",
    "\\mathrm{B}(s_{n - \\delta}^2) = \\frac{\\delta - 1}{n - \\delta} \\sigma^2.\n",
    "$$\n",
    "\n",
    "Finalmente, su varianza es\n",
    "$$\n",
    "\\mathrm{Var}(s_{n - \\delta}^2) = \\left(\\frac{n-1}{n-\\delta}\\right)^2 \\frac{2}{n-1} \\sigma^4.\n",
    "$$"
   ]
  },
  {
   "cell_type": "code",
   "execution_count": 4,
   "metadata": {},
   "outputs": [
    {
     "data": {
      "application/vnd.jupyter.widget-view+json": {
       "model_id": "c00fe5b33ef94646a8b7882fbd1ef0f1",
       "version_major": 2,
       "version_minor": 0
      },
      "text/plain": [
       "VBox(children=(Label(value='Seleccionar parámetros', layout=Layout(display='flex', justify_content='center')),…"
      ]
     },
     "metadata": {},
     "output_type": "display_data"
    }
   ],
   "source": [
    "%run ./ej3.py"
   ]
  },
  {
   "cell_type": "markdown",
   "metadata": {},
   "source": [
    "---\n",
    "## Ejercicio 4\n",
    "Considerar una variable aleatoria $X$ que sigue una distribución normal con una media $\\mu$ desconocida y una desviación estándar $\\sigma = 4.5$.\n",
    "\n",
    "En un experimento se observa el valor $x = 37.2$.\n",
    "\n",
    "Encontrar la función de verosimilitud $\\mathcal{L}(\\mu)$.\n",
    "\n",
    "Calcular el estimador de máxima verosimilitud de $\\mu$ ($\\hat{\\mu}$).\n",
    "\n",
    "Calcular la verosimilitud máxima $\\mathcal{L}_{\\max} = \\mathcal{L}(\\hat{\\mu})$.\n",
    "\n",
    "Calcular el cociente de verosimilitudes $\\lambda(\\mu) = \\mathcal{L}(\\mu)/\\mathcal{L}_{\\max}$ y graficar la función de costo $J(\\mu) = -2 \\ln \\lambda(\\mu)$."
   ]
  },
  {
   "cell_type": "markdown",
   "metadata": {},
   "source": [
    "## Observación\n",
    "Sean las variables aleatorias $X$ (datos) y $\\Theta$ (parámetros)\n",
    "\n",
    "Supongamos que tenemos acceso o que podemos conocer a la distribución $f(x; \\theta)$\n",
    "$$\n",
    "{\\color{red}{P(X=x|\\Theta=\\theta)}} = f(x; \\theta),\n",
    "$$\n",
    "que en el caso continuo se expresaría como\n",
    "$$\n",
    "P(x\\le X \\le x+dx|\\Theta=\\theta) = f(x; \\theta)dx,\n",
    "$$\n",
    "pero, por simplicidad, voy a usar la notación ${\\color{red}{P(X=x|\\Theta=\\theta)}}$.\n",
    "\n",
    "Entonces, la función likelihood es igual a\n",
    "$$\n",
    "\\mathcal{L}(\\theta; x) = f(x; \\theta),\n",
    "$$\n",
    "es decir, resulta de tratar a la distribución $f(x; \\theta)$ como función de $\\theta$ tratando a $x$ como parámetro.\n",
    "\n",
    "Note que la likelihood en general no es igual a la probabilidad condicional\n",
    "$$\n",
    "\\mathcal{L}(\\theta; x) \\ne {\\color{black}{P(\\Theta=\\theta|X=x)}},\n",
    "$$\n",
    "sino que sería una representación incompleta de ${\\color{black}{P(\\Theta=\\theta|X=x)}}$.\n",
    "\n",
    "Para obtener exactamente la condicional ${\\color{black}{P(\\Theta=\\theta|X=x)}}$, podemos usar el teorema de Bayes\n",
    "$$\n",
    "{\\color{black}{\\underbrace{P(\\Theta=\\theta|X=x)}_{\\text{Posterior}}}} = \\frac{ {\\color{red}{\\overbrace{P(X=x|\\Theta=\\theta)}^{\\text{Likelihood}}}} {\\color{green}{\\overbrace{P(\\Theta=\\theta)}^{\\text{Prior}}}} }{ {\\color{blue}{\\underbrace{P(X=x)}_{\\text{Evidencia}}}} }.\n",
    "$$\n",
    "\n",
    "Como la evidencia (o likelihood marginal) no depende de $\\theta$, entonces se puede ignorar su contribución al buscar el estimador $\\hat\\theta_{MAP}$ (*Maximum a posteriori estimator*) que maximice la posterior como\n",
    "$$\n",
    "\\begin{align*}\n",
    "\\hat\\theta_{MAP} &= \\underset{\\theta}{\\mathrm{argmax}} \\left\\{ {\\color{black}{P(\\Theta=\\theta|X=x)}} \\right\\}\\\\\n",
    "&= \\underset{\\theta}{\\mathrm{argmax}} \\left\\{ {\\color{red}{P(X=x|\\Theta=\\theta)} \\color{green}{P(\\Theta=\\theta)}} \\right\\}.\n",
    "\\end{align*}\n",
    "$$\n",
    "\n",
    "Por lo pronto, en esta práctica nos vamos a concentrar en calcular estimadores que maximicen solamente la likelihood $\\hat\\theta_{MLE}$ (*Maximum likelihood estimator*), de la forma\n",
    "$$\n",
    "\\hat\\theta_{MLE} = \\underset{\\theta}{\\mathrm{argmax}} \\left\\{ {\\color{red}{P(X=x|\\Theta=\\theta)}} \\right\\}.\n",
    "$$\n",
    "\n",
    "Para el caso en el que la prior sea constante en $\\theta$ o que tenga un único máximo que coincida con el máximo de la likelihood (y que sea también único), entonces\n",
    "$$\n",
    "\\hat\\theta_{MLE} = \\hat\\theta_{MAP}.\n",
    "$$\n",
    "\n",
    "* [Wikipedia - Likelihood function](https://en.wikipedia.org/wiki/Likelihood_function)\n",
    "* [Wikipedia - Maximum likelihood estimation](https://en.wikipedia.org/wiki/Maximum_likelihood_estimation)\n",
    "* [Wikipedia - Maximum a posteriori estimation](https://en.wikipedia.org/wiki/Maximum_a_posteriori_estimation)"
   ]
  },
  {
   "cell_type": "markdown",
   "metadata": {},
   "source": [
    "## Solución\n",
    "Sea la variable aleatoria con distribución normal\n",
    "$$\n",
    "X \\sim \\mathcal{N}(\\mu, \\sigma^2),\n",
    "$$\n",
    "luego, la likelihood es la distribución de densidad de probabilidad de $X$, pero vista como función de los parámetros $(\\mu, \\sigma)$\n",
    "$$\n",
    "\\begin{align*}\n",
    "\\mathcal{L}(\\mu, \\sigma; x) &= f(x; \\mu, \\sigma)\\\\\n",
    "&= \\frac{1}{\\sigma\\sqrt{2\\pi}} \\exp\\left[-\\frac{1}{2}\\left(\\frac{x-\\mu}{\\sigma}\\right)^2\\right].\n",
    "\\end{align*}\n",
    "$$\n",
    "\n",
    "En el caso en que $\\sigma$ y $x$ estén fijos, el estimador maximum likelihood para $\\mu$ es\n",
    "$$\n",
    "\\begin{align*}\n",
    "\\hat\\mu_{MLE} &= \\underset{\\mu}{\\mathrm{argmax}} \\left\\{ \\mathcal{L}(\\mu) \\right\\}\\\\\n",
    "&= \\underset{\\mu}{\\mathrm{argmax}} \\left\\{ \\ln \\mathcal{L}(\\mu) \\right\\},\n",
    "\\end{align*}\n",
    "$$\n",
    "donde aplicamos el logaritmo que no cambia la ubicación del máximo por ser monótono creciente.\n",
    "\n",
    "Luego, usando cálculo, el máximo debe satisfacer que las derivadas\n",
    "$$\n",
    "\\begin{cases}\n",
    "d_\\mu \\ln \\mathcal{L}(\\mu) |_{\\mu = \\hat\\mu_{MLE}} = 0 \\text{ o no definida}\\\\\n",
    "d^2_\\mu \\ln \\mathcal{L}(\\mu) |_{\\mu = \\hat\\mu_{MLE}} < 0\n",
    "\\end{cases},\n",
    "$$\n",
    "y tenemos que\n",
    "$$\n",
    "\\begin{align*}\n",
    "d_\\mu \\ln \\mathcal{L}(\\mu) &= d_\\mu \\left\\{ \\underbrace{-\\ln\\sqrt{2\\pi}\\sigma}_{\\text{cte}} + \\left[ -\\frac{1}{2}\\left(\\frac{x-\\mu}{\\sigma}\\right)^2 \\right]  \\right\\}\\\\\n",
    "&= \\frac{x-\\mu}{\\sigma^2},\n",
    "\\end{align*}\n",
    "$$\n",
    "con\n",
    "$$\n",
    "\\begin{align*}\n",
    "d^2_\\mu \\ln \\mathcal{L}(\\mu) &= -\\frac{1}{\\sigma^2}\\\\\n",
    "&< 0,\n",
    "\\end{align*}\n",
    "$$\n",
    "por lo que\n",
    "$$\n",
    "\\hat\\mu_{MLE} = x.\n",
    "$$\n",
    "\n",
    "Por su parte, el valor máximo que adopta la likelihood es\n",
    "$$\n",
    "\\begin{align*}\n",
    "\\mathcal{L}_{\\max} &= \\underset{\\mu}{\\max} \\left\\{ \\mathcal{L}(\\mu) \\right\\}\\\\\n",
    "&= \\mathcal{L}(\\hat\\mu_{MLE})\\\\\n",
    "&= \\frac{1}{\\sigma\\sqrt{2\\pi}},\n",
    "\\end{align*}\n",
    "$$\n",
    "y el cociente de likelihood es\n",
    "$$\n",
    "\\begin{align*}\n",
    "\\lambda(\\mu) &= \\frac{\\mathcal{L}(\\mu)}{\\mathcal{L}_{\\max}}\\\\\n",
    "&= \\exp\\left[-\\frac{1}{2}\\left(\\frac{x-\\mu}{\\sigma}\\right)^2\\right],\n",
    "\\end{align*}\n",
    "$$\n",
    "con función de costo\n",
    "$$\n",
    "\\begin{align*}\n",
    "J(\\mu) &= -2 \\ln \\lambda(\\mu)\\\\\n",
    "&= \\left(\\frac{x-\\mu}{\\sigma}\\right)^2,\n",
    "\\end{align*}\n",
    "$$\n",
    "la cual es una parábola con vértice en $\\mu=x=\\hat\\mu_{MLE}$, abierta hacia arriba, con ancho de apertura proporcional a $\\sigma$ y \n",
    "$$\n",
    "J(\\hat\\mu_{MLE}) = 0.\n",
    "$$"
   ]
  },
  {
   "cell_type": "code",
   "execution_count": 5,
   "metadata": {},
   "outputs": [
    {
     "data": {
      "application/vnd.jupyter.widget-view+json": {
       "model_id": "50892cde136846979f8a0ae16a9ce657",
       "version_major": 2,
       "version_minor": 0
      },
      "text/plain": [
       "VBox(children=(Label(value='Seleccionar parámetros', layout=Layout(display='flex', justify_content='center')),…"
      ]
     },
     "metadata": {},
     "output_type": "display_data"
    }
   ],
   "source": [
    "%run ./ej4.py"
   ]
  },
  {
   "cell_type": "markdown",
   "metadata": {},
   "source": [
    "---\n",
    "## Ejercicio 5\n",
    "Una moneda cargada se lanza $n = 12$ veces de la cuáles salen $k = 8$ caras.\n",
    "\n",
    "Considerar la función de masa de probabilidad binomial del número de caras $P(k) = {n\\choose k} p^k (1 - p)^{n-k}$.\n",
    "\n",
    "Graficar la función de verosimilitud del parámetro $p$ para los valores dados de $n$ y $k$ ($\\mathcal{L}(p)$).\n",
    "\n",
    "Calcular el estimador de máxima verosimilitud de $p$ en función de $n$ y $k$ derivando $\\mathcal{L}(p)$ ($\\hat{p}$).\n",
    "\n",
    "Calcular la máxima verosimilitud $\\mathcal{L}_{\\max} = \\mathcal{L}(\\hat{p})$.\n",
    "\n",
    "Calcular el cociente de verosimilitudes $\\lambda(p) = \\mathcal{L}(p)/\\mathcal{L}_{\\max}$ y graficar la función de costo $J(p) = -2 \\ln \\lambda(p)$."
   ]
  },
  {
   "cell_type": "markdown",
   "metadata": {},
   "source": [
    "## Solución\n",
    "Sea la variable aleatoria con distribución binomial\n",
    "$$\n",
    "K \\sim B(n, p),\n",
    "$$\n",
    "luego, la likelihood es la distribución de masa de probabilidad de $K$, pero vista como función de los parámetros $(n, p)$\n",
    "$$\n",
    "\\begin{align*}\n",
    "\\mathcal{L}(n, p; k) &= f(k; n, p)\\\\\n",
    "&= {n\\choose k} p^k (1 - p)^{n-k}.\n",
    "\\end{align*}\n",
    "$$\n",
    "\n",
    "En el caso en que $p$ y $k$ estén fijos, el estimador maximum likelihood para $p$ es\n",
    "$$\n",
    "\\begin{align*}\n",
    "\\hat{p}_{MLE} &= \\underset{p}{\\mathrm{argmax}} \\left\\{ \\mathcal{L}(p) \\right\\}\\\\\n",
    "&= \\underset{p}{\\mathrm{argmax}} \\left\\{ \\ln \\mathcal{L}(p) \\right\\},\n",
    "\\end{align*}\n",
    "$$\n",
    "donde aplicamos el logaritmo que no cambia la ubicación del máximo por ser monótono creciente.\n",
    "\n",
    "Luego, usando cálculo, el máximo debe satisfacer que las derivadas\n",
    "$$\n",
    "\\begin{cases}\n",
    "d_p \\ln \\mathcal{L}(p) |_{p = \\hat{p}_{MLE}} = 0 \\text{ o no definida}\\\\\n",
    "d^2_p \\ln \\mathcal{L}(p) |_{p = \\hat{p}_{MLE}} < 0\n",
    "\\end{cases},\n",
    "$$\n",
    "y tenemos que\n",
    "$$\n",
    "\\begin{align*}\n",
    "d_p \\ln \\mathcal{L}(p) &= d_p \\left[ \\underbrace{\\ln {n\\choose k}}_{\\text{cte}} + k \\ln p + (n-k) \\ln (1-p) \\right]\\\\\n",
    "&= \\frac{k}{p} + \\frac{n-k}{1-p},\n",
    "\\end{align*}\n",
    "$$\n",
    "con\n",
    "$$\n",
    "\\begin{align*}\n",
    "d^2_p \\ln \\mathcal{L}(p) &= -\\frac{k}{p^2} - \\frac{n-k}{(1-p)^2}\\\\\n",
    "&< 0, \\text{ pues $k < n$, }\n",
    "\\end{align*}\n",
    "$$\n",
    "por lo que\n",
    "$$\n",
    "\\hat{p}_{MLE} = \\frac{k}{n}.\n",
    "$$\n",
    "\n",
    "Por su parte, el valor máximo que adopta la likelihood es\n",
    "$$\n",
    "\\begin{align*}\n",
    "\\mathcal{L}_{\\max} &= \\underset{p}{\\max} \\left\\{ \\mathcal{L}(p) \\right\\}\\\\\n",
    "&= \\mathcal{L}(\\hat{p}_{MLE})\\\\\n",
    "&= {n\\choose k} \\left(\\frac{k}{n}\\right)^k \\left(1 - \\frac{k}{n}\\right)^{n-k},\n",
    "\\end{align*}\n",
    "$$\n",
    "y el cociente de likelihood es\n",
    "$$\n",
    "\\begin{align*}\n",
    "\\lambda(p) &= \\frac{\\mathcal{L}(p)}{\\mathcal{L}_{\\max}}\\\\\n",
    "&= \\left(\\frac{p}{k/n}\\right)^k \\left(\\frac{1 - p}{1 - k/n}\\right)^{n-k},\n",
    "\\end{align*}\n",
    "$$\n",
    "con función de costo\n",
    "$$\n",
    "\\begin{align*}\n",
    "J(p) &= -2 \\ln \\lambda(p)\\\\\n",
    "&= -2 \\left[ k \\ln \\left(\\frac{p}{k/n}\\right) + (n-k) \\ln  \\left(\\frac{1 - p}{1 - k/n}\\right) \\right],\n",
    "\\end{align*}\n",
    "$$\n",
    "lo cual evaluado en $\\hat{p}_{MLE} = k/n$ es\n",
    "$$\n",
    "J(\\hat{p}_{MLE}) = 0.\n",
    "$$"
   ]
  },
  {
   "cell_type": "code",
   "execution_count": 6,
   "metadata": {},
   "outputs": [
    {
     "data": {
      "application/vnd.jupyter.widget-view+json": {
       "model_id": "35b360d7919d4dca81375882a8f00b61",
       "version_major": 2,
       "version_minor": 0
      },
      "text/plain": [
       "VBox(children=(Label(value='Seleccionar parámetros', layout=Layout(display='flex', justify_content='center')),…"
      ]
     },
     "metadata": {},
     "output_type": "display_data"
    }
   ],
   "source": [
    "%run ./ej5.py"
   ]
  },
  {
   "cell_type": "markdown",
   "metadata": {},
   "source": [
    "---\n",
    "## Ejercicio 6\n",
    "Un experimento mide tres veces una variable normal $X$ obteniendo los valores $x_1 = 3.38$, $x_2 = 5.06$ y $x_3 = 7.67$.\n",
    "\n",
    "Escribir la distribución de probabilidad conjunta de ($X_1$, $X_2$, $X_3$).\n",
    "\n",
    "Considerando que la media $\\mu$ es desconocida y la desviación estándar es $\\sigma = 1.4$, encontrar y graficar la función de verosimilitud $\\mathcal{L}(\\mu)$.\n",
    "\n",
    "Calcular el estimador de máxima verosimilitud de $\\mu$.\n",
    "\n",
    "Calcular el cociente de verosimilitudes $\\lambda(\\mu) = \\mathcal{L}(\\mu)/\\mathcal{L}_{\\max}$ y graficar la función de costo $J(\\mu) = -2 \\ln \\lambda(\\mu)$."
   ]
  },
  {
   "cell_type": "markdown",
   "metadata": {},
   "source": [
    "## Solución\n",
    "Sea $X_i$ la $i$-ésima observación de una variable aleatoria con distribución normal\n",
    "$$\n",
    "X_i \\sim \\mathcal{N}(\\mu, \\sigma^2),\n",
    "$$\n",
    "se realizan $n$ observaciones iid y se obtienen\n",
    "$$\n",
    "X_i = x_i,\n",
    "$$\n",
    "con las que se construye el vector de datos\n",
    "$$\n",
    "\\mathbf{x} = (x_1, \\dots, x_n).\n",
    "$$\n",
    "\n",
    "Este problema puede también interpretarse como generar una realización de una variable aleatoria multinormal independiente y no correlacionada\n",
    "$$\n",
    "\\mathbf{X} \\sim \\mathcal{N}_n(\\mu \\mathbf{1}, \\sigma^2 \\mathbb{1}).\n",
    "$$\n",
    "\n",
    "Luego, la likelihood es la distribución de densidad de probabilidad de $\\mathbf{X}$, pero vista como función de los parámetros $(\\mu, \\sigma)$\n",
    "$$\n",
    "\\begin{align*}\n",
    "\\mathcal{L}(\\mu, \\sigma; \\mathbf{x}) &= f(\\mathbf{x}; \\mu, \\sigma)\\\\\n",
    "&= \\prod_i f(x_i; \\mu, \\sigma)\\\\\n",
    "&= \\prod_i \\frac{1}{\\sigma\\sqrt{2\\pi}} \\exp\\left[-\\frac{1}{2}\\left(\\frac{x_i-\\mu}{\\sigma}\\right)^2\\right].\n",
    "\\end{align*}\n",
    "$$\n",
    "\n",
    "En el caso en que $\\sigma$ y $\\mathbf{x}$ estén fijos, el estimador maximum likelihood para $\\mu$ es\n",
    "$$\n",
    "\\begin{align*}\n",
    "\\hat\\mu_{MLE} &= \\underset{\\mu}{\\mathrm{argmax}} \\left\\{ \\mathcal{L}(\\mu) \\right\\}\\\\\n",
    "&= \\underset{\\mu}{\\mathrm{argmax}} \\left\\{ \\ln \\mathcal{L}(\\mu) \\right\\},\n",
    "\\end{align*}\n",
    "$$\n",
    "donde aplicamos el logaritmo que no cambia la ubicación del máximo por ser monótono creciente.\n",
    "\n",
    "Luego, usando cálculo, el máximo debe satisfacer que las derivadas\n",
    "$$\n",
    "\\begin{cases}\n",
    "d_\\mu \\ln \\mathcal{L}(\\mu) |_{\\mu = \\hat\\mu_{MLE}} = 0 \\text{ o no definida}\\\\\n",
    "d^2_\\mu \\ln \\mathcal{L}(\\mu) |_{\\mu = \\hat\\mu_{MLE}} < 0\n",
    "\\end{cases},\n",
    "$$\n",
    "y tenemos que\n",
    "$$\n",
    "\\begin{align*}\n",
    "d_\\mu \\ln \\mathcal{L}(\\mu) &= d_\\mu \\left\\{ \\underbrace{-n\\ln\\sqrt{2\\pi}\\sigma}_{\\text{cte}} + \\sum_i \\left[ -\\frac{1}{2}\\left(\\frac{x_i-\\mu}{\\sigma}\\right)^2 \\right]  \\right\\}\\\\\n",
    "&= \\frac{1}{\\sigma^2} \\left[ \\left( \\sum_i x_i\\right) - n\\mu \\right],\n",
    "\\end{align*}\n",
    "$$\n",
    "con\n",
    "$$\n",
    "\\begin{align*}\n",
    "d^2_\\mu \\ln \\mathcal{L}(\\mu) &= -\\frac{n}{\\sigma^2}\\\\\n",
    "&< 0,\n",
    "\\end{align*}\n",
    "$$\n",
    "por lo que\n",
    "$$\n",
    "\\begin{align*}\n",
    "\\hat\\mu_{MLE} &= \\frac{1}{n} \\sum_i x_i\\\\\n",
    "&= \\hat{\\bar{x}}.\n",
    "\\end{align*}\n",
    "$$\n",
    "\n",
    "Por su parte, el valor máximo que adopta la likelihood es\n",
    "$$\n",
    "\\begin{align*}\n",
    "\\mathcal{L}_{\\max} &= \\underset{\\mu}{\\max} \\left\\{ \\mathcal{L}(\\mu) \\right\\}\\\\\n",
    "&= \\mathcal{L}(\\hat\\mu_{MLE})\\\\\n",
    "&= \\prod_i \\frac{1}{\\sigma\\sqrt{2\\pi}} \\exp\\left[-\\frac{1}{2}\\left(\\frac{x_i-\\hat{\\bar{x}}}{\\sigma}\\right)^2\\right],\n",
    "\\end{align*}\n",
    "$$\n",
    "y el cociente de likelihood es\n",
    "$$\n",
    "\\begin{align*}\n",
    "\\lambda(\\mu) &= \\frac{\\mathcal{L}(\\mu)}{\\mathcal{L}_{\\max}}\\\\\n",
    "&= \\prod_i \\exp\\left\\{ -\\frac{1}{2}\\left[ \\left(\\frac{x_i-\\mu}{\\sigma}\\right)^2 - \\left(\\frac{x_i-\\hat{\\bar{x}}}{\\sigma}\\right)^2 \\right] \\right\\},\n",
    "\\end{align*}\n",
    "$$\n",
    "con función de costo\n",
    "$$\n",
    "\\begin{align*}\n",
    "J(\\mu) &= -2 \\ln \\lambda(\\mu)\\\\\n",
    "&= \\frac{1}{\\sigma^2} \\sum_i \\left[ (x_i-\\mu)^2 - (x_i-\\hat{\\bar{x}})^2 \\right]\\\\\n",
    "&= \\frac{1}{\\sigma^2} \\sum_i \\left[ \\mu^2 - \\hat{\\bar{x}}^2 - 2(\\mu - \\hat{\\bar{x}}) x_i \\right]\\\\\n",
    "&= n \\left(\\frac{\\mu - \\hat{\\bar{x}}}{\\sigma}\\right)^2,\n",
    "\\end{align*}\n",
    "$$\n",
    "la cual es una parábola con vértice en $\\mu=\\hat{\\bar{x}}=\\hat{\\mu}_{MLE}$, abierta hacia arriba, con ancho de apertura proporcional a $\\sigma / \\sqrt{n}$ y\n",
    "$$\n",
    "J(\\hat\\mu_{MLE}) = 0,\n",
    "$$\n",
    "y si $n=1$ se recupera el comportamiento del Ejercicio 4."
   ]
  },
  {
   "cell_type": "code",
   "execution_count": 7,
   "metadata": {},
   "outputs": [
    {
     "data": {
      "application/vnd.jupyter.widget-view+json": {
       "model_id": "d7ab692b08d244d99c0060e1bf2b4efb",
       "version_major": 2,
       "version_minor": 0
      },
      "text/plain": [
       "VBox(children=(Label(value='Seleccionar parámetros', layout=Layout(display='flex', justify_content='center')),…"
      ]
     },
     "metadata": {},
     "output_type": "display_data"
    }
   ],
   "source": [
    "%run ./ej6.py"
   ]
  },
  {
   "cell_type": "markdown",
   "metadata": {},
   "source": [
    "---\n",
    "## Ejercicio 7 (Para entregar)\n",
    "Considerar las variables $X_1$ and $X_2$ que siguen una distribución binormal con varianzas $\\sigma_1 = 2.3$, $\\sigma_2 = 1.7$ y correlación $\\rho = -0.78$.\n",
    "\n",
    "Calcular la función de verosimilitud de los parámetros $\\mu_1$ y $\\mu_2$ para los valores observados $x_1 = 7.9$ y $x_2 = 13.4$ ($\\mathcal{L}(\\mu1 , \\mu2 )$).\n",
    "\n",
    "Calcular los estimadores de máxima verosimilitud de $\\mu_1$ y $\\mu_2$ y evaluar la verosimilitud máxima $\\mathcal{L}_{\\max}$.\n",
    "\n",
    "Calcular el cociente de verosimilitudes $\\lambda(\\mu_1, \\mu_2) = \\mathcal{L}(\\mu_1, \\mu_2)/\\mathcal{L}_{\\max}$ y graficar la función de costo $J(\\mu_1, \\mu_2) = -2 \\ln \\lambda(\\mu_1, \\mu_2)$."
   ]
  },
  {
   "cell_type": "markdown",
   "metadata": {},
   "source": [
    "### Notación\n",
    "Sean el vector bidimensional $\\mathbf{x} = (x_1, x_2)$, y la función $f: \\mathbb{R}^2 \\mapsto \\mathbb{R}$, denotamos el gradiente de $f$ respecto de $\\mathbf{x}$ como\n",
    "$$\n",
    "\\nabla_{\\mathbf{x}} f(\\mathbf{x}) \\dot{=} \\left[\\partial_{x_1}f(\\mathbf{x}), \\partial_{x_2}f(\\mathbf{x})\\right],\n",
    "$$\n",
    "y denotamos la matriz hessiana de $f$ respecto de $\\mathbf{x}$ como\n",
    "$$\n",
    "\\begin{align*}\n",
    "\\mathrm{Hessian}_{{\\mathbf{x}}} f(\\mathbf{x}) &\\dot{=} \\mathrm{Jacobian}_{{\\mathbf{x}}} \\nabla_{\\mathbf{x}} f(\\mathbf{x})\\\\\n",
    "&\\dot{=} \\left[ \\frac{\\partial^2 f(\\mathbf{x})}{\\partial x_i\\partial x_j} \\right].\n",
    "\\end{align*}\n",
    "$$\n",
    "\n",
    "Sean el vector bidimensional $\\mathbf{x} = (x_1, x_2)$, y la función vectorial $\\mathbf{f}: \\mathbb{R}^2 \\mapsto \\mathbb{R}^2$, con $\\mathbf{f}(\\mathbf{x}) = (f_1(\\mathbf{x}), f_2(\\mathbf{x}))$, usamos el operador gradiente para denotar al jacobiano $\\mathbf{f}$ respecto de $\\mathbf{x}$\n",
    "$$\n",
    "\\begin{align*}\n",
    "\\nabla_{\\mathbf{x}} \\mathbf{f}(\\mathbf{x}) &\\dot{=} \\mathrm{Jacobian}_{{\\mathbf{x}}} \\mathbf{f}(\\mathbf{x})\\\\\n",
    "&\\dot{=} \\left[ \\frac{\\partial f_i(\\mathbf{x})}{\\partial x_j} \\right].\n",
    "\\end{align*}\n",
    "$$"
   ]
  },
  {
   "cell_type": "markdown",
   "metadata": {},
   "source": [
    "## Solución\n",
    "Sea la variable aleatoria binormal\n",
    "$$\n",
    "X = (X_1, X_2) \\sim \\mathcal{N}_2(\\boldsymbol{\\mu}, \\Sigma),\n",
    "$$\n",
    "con media desconocida\n",
    "$$\n",
    "\\boldsymbol{\\mu} = (\\mu_1, \\mu_2),\n",
    "$$\n",
    "y matriz de covarianza\n",
    "$$\n",
    "\\Sigma = \\begin{pmatrix}\n",
    "\\sigma_1^2 & \\rho\\sigma_1\\sigma_2\\\\\n",
    "\\rho\\sigma_1\\sigma_2 & \\sigma_2^2\n",
    "\\end{pmatrix},\n",
    "$$\n",
    "con $\\sigma_1 = 2.3$, $\\sigma_2 = 1.7$, $\\rho = -0.78$.\n",
    "\n",
    "*Comentario*: la matriz de covarianza es simétrica y definida positiva, y su inversa $\\Sigma^{-1}$ también.\n",
    "\n",
    "Luego, la likelihood es la distribución de densidad de probabilidad de $\\mathbf{X}$, pero vista como función de los parámetros $(\\boldsymbol{\\mu}, \\Sigma)$\n",
    "$$\n",
    "\\begin{align*}\n",
    "\\mathcal{L}(\\boldsymbol{\\mu}, \\Sigma; \\mathbf{x}) &= f(\\mathbf{x}; \\boldsymbol{\\mu}, \\Sigma)\\\\\n",
    "&= \\frac{1}{2\\pi \\sqrt{\\det{\\Sigma}}} \\exp\\left[ -\\frac{1}{2} (\\mathbf{x}-\\boldsymbol{\\mu})^T \\Sigma^{-1} (\\mathbf{x}-\\boldsymbol{\\mu}) \\right].\n",
    "\\end{align*}\n",
    "$$\n",
    "\n",
    "En el caso en que $\\Sigma$ y $\\mathbf{x}=(x_1, x_2)$ estén fijos, el estimador maximum likelihood para $\\boldsymbol{\\mu}$ es\n",
    "$$\n",
    "\\begin{align*}\n",
    "\\hat{\\boldsymbol{\\mu}}_{MLE} &= \\underset{\\boldsymbol{\\mu}}{\\mathrm{argmax}} \\left\\{ \\mathcal{L}(\\boldsymbol{\\mu}) \\right\\}\\\\\n",
    "&= \\underset{\\boldsymbol{\\mu}}{\\mathrm{argmax}} \\left\\{ \\ln \\mathcal{L}(\\boldsymbol{\\mu}) \\right\\},\n",
    "\\end{align*}\n",
    "$$\n",
    "donde aplicamos el logaritmo que no cambia la ubicación del máximo por ser monótono creciente.\n",
    "\n",
    "Luego, usando cálculo, el máximo de la likelihood debe satisfacer que\n",
    "$$\n",
    "\\begin{cases}\n",
    "\\nabla_{\\boldsymbol{\\mu}} \\ln \\mathcal{L}(\\boldsymbol{\\mu}) |_{\\boldsymbol{\\mu} = \\hat{\\boldsymbol{\\mu}}_{MLE}} = \\mathbf{0} \\text{ o no definido}\\\\\n",
    "\\mathrm{Hessian}_{\\boldsymbol{\\mu}} \\ln \\mathcal{L}(\\boldsymbol{\\mu}) |_{\\boldsymbol{\\mu} = \\hat{\\boldsymbol{\\mu}}_{MLE}} \\text{ definida negativa}\n",
    "\\end{cases},\n",
    "$$\n",
    "y tenemos que\n",
    "$$\n",
    "\\begin{align*}\n",
    "\\nabla_{\\boldsymbol{\\mu}} \\ln \\mathcal{L}(\\boldsymbol{\\mu}) &= \\nabla_{\\boldsymbol{\\mu}} \\left\\{ \\underbrace{-\\ln2\\pi\\sqrt{\\det\\Sigma}}_{\\text{cte}} + \\left[ -\\frac{1}{2} (\\mathbf{x}-\\boldsymbol{\\mu})^T \\Sigma^{-1} (\\mathbf{x}-\\boldsymbol{\\mu}) \\right] \\right\\}\\\\\n",
    "&= \\nabla_{\\boldsymbol{\\mu}} \\left[ -\\frac{1}{2} (\\mathbf{x}-\\boldsymbol{\\mu})^T \\Sigma^{-1} (\\mathbf{x}-\\boldsymbol{\\mu}) \\right]\\\\\n",
    "&= -\\frac{1}{2} \\left[ \\underbrace{\\mathrm{Jacobian}_{\\boldsymbol{\\mu}}(\\mathbf{x}-\\boldsymbol{\\mu})^T}_{-\\mathbb{1}} \\Sigma^{-1} (\\mathbf{x}-\\boldsymbol{\\mu}) + (\\mathbf{x}-\\boldsymbol{\\mu})^T \\Sigma^{-1} \\underbrace{\\mathrm{Jacobian}_{\\boldsymbol{\\mu}}(\\mathbf{x}-\\boldsymbol{\\mu})}_{-\\mathbb{1}} \\right] \\text{ derivada del producto}\\\\\n",
    "&= \\frac{1}{2} \\left[ \\Sigma^{-1} (\\mathbf{x}-\\boldsymbol{\\mu}) + \\underbrace{(\\mathbf{x}-\\boldsymbol{\\mu})^T \\Sigma^{-1}}_{\\Sigma^{-1} (\\text{ $\\mathbf{x}-\\boldsymbol{\\mu})$ por ser $\\Sigma^{-1}$ simétrica}} \\right]\\\\\n",
    "&= \\Sigma^{-1} (\\mathbf{x}-\\boldsymbol{\\mu}),\n",
    "\\end{align*}\n",
    "$$\n",
    "con\n",
    "$$\n",
    "\\begin{align*}\n",
    "\\mathrm{Hessian}_{\\boldsymbol{\\mu}} \\ln \\mathcal{L}(\\boldsymbol{\\mu}) &= \\mathrm{Jacobian}_{{\\boldsymbol{\\mu}}} \\nabla_{\\boldsymbol{\\mu}} \\ln \\mathcal{L}(\\boldsymbol{\\mu})\\\\\n",
    "&= \\mathrm{Jacobian}_{{\\boldsymbol{\\mu}}} \\Sigma^{-1} (\\mathbf{x}-\\boldsymbol{\\mu})\\\\\n",
    "&= \\Sigma^{-1} \\underbrace{\\mathrm{Jacobian}_{{\\boldsymbol{\\mu}}} (\\mathbf{x}-\\boldsymbol{\\mu})}_{-\\mathbb{1}}\\\\\n",
    "&= -\\Sigma^{-1} \\text{ definida negativa},\n",
    "\\end{align*}\n",
    "$$\n",
    "por lo que el estimador maximum likelihood es solución de\n",
    "$$\n",
    "\\begin{align*}\n",
    "\\Sigma^{-1} (\\mathbf{x}-\\hat{\\boldsymbol{\\mu}}_{MLE}) &= \\mathbf{0}\\\\\n",
    "\\implies \\underbrace{\\Sigma\\Sigma^{-1}}_{\\mathbb{1}} (\\mathbf{x}-\\hat{\\boldsymbol{\\mu}}_{MLE}) &= \\underbrace{\\Sigma\\mathbf{0}}_{\\mathbf{0}}\\\\\n",
    "\\implies \\hat{\\boldsymbol{\\mu}}_{MLE} &= \\mathbf{x}.\n",
    "\\end{align*}\n",
    "$$\n",
    "\n",
    "Por su parte, el valor máximo que adopta la likelihood es\n",
    "$$\n",
    "\\begin{align*}\n",
    "\\mathcal{L}_{\\max} &= \\underset{\\boldsymbol{\\mu}}{\\max} \\left\\{ \\mathcal{L}(\\boldsymbol{\\mu}) \\right\\}\\\\\n",
    "&= \\mathcal{L}(\\hat{\\boldsymbol{\\mu}}_{MLE})\\\\\n",
    "&= \\frac{1}{2\\pi \\sqrt{\\det{\\Sigma}}},\n",
    "\\end{align*}\n",
    "$$\n",
    "y el cociente de likelihood es\n",
    "$$\n",
    "\\begin{align*}\n",
    "\\lambda(\\boldsymbol{\\mu}) &= \\frac{\\mathcal{L}(\\boldsymbol{\\mu})}{\\mathcal{L}_{\\max}}\\\\\n",
    "&= \\exp\\left[ -\\frac{1}{2} (\\mathbf{x}-\\boldsymbol{\\mu})^T \\Sigma^{-1} (\\mathbf{x}-\\boldsymbol{\\mu}) \\right],\n",
    "\\end{align*}\n",
    "$$\n",
    "con función de costo\n",
    "$$\n",
    "\\begin{align*}\n",
    "J(\\boldsymbol{\\mu}) &= -2 \\ln \\lambda(\\boldsymbol{\\mu})\\\\\n",
    "&= (\\mathbf{x}-\\boldsymbol{\\mu})^T \\Sigma^{-1} (\\mathbf{x}-\\boldsymbol{\\mu})\\\\\n",
    "&\\ge 0,\n",
    "\\end{align*}\n",
    "$$\n",
    "la cual se anula en el estimador de maximum likelihood y es su mínimo\n",
    "$$\n",
    "J(\\hat{\\boldsymbol{\\mu}}_{MLE}) = 0,\n",
    "$$\n",
    "y es igual a la forma cuadrática $q(\\mathbf{x}; \\boldsymbol{\\mu}, \\Sigma)$ pero como función de $(\\boldsymbol{\\mu}, \\Sigma)$ y tratando a $\\mathbf{x}$ como parámetro\n",
    "$$\n",
    "\\begin{align*}\n",
    "J(\\boldsymbol{\\mu}, \\Sigma; \\mathbf{x}) &= q(\\mathbf{x}; \\boldsymbol{\\mu}, \\Sigma)\\\\\n",
    "&= (\\mathbf{x}-\\boldsymbol{\\mu})^T \\Sigma^{-1} (\\mathbf{x}-\\boldsymbol{\\mu}),\n",
    "\\end{align*}\n",
    "$$\n",
    "siendo sus superficies de nivel\n",
    "$$\n",
    "q(\\mathbf{x}; \\boldsymbol{\\mu}, \\Sigma) = r^2,\n",
    "$$\n",
    "elipses, si $r > 0$."
   ]
  },
  {
   "cell_type": "code",
   "execution_count": 8,
   "metadata": {},
   "outputs": [
    {
     "data": {
      "application/vnd.jupyter.widget-view+json": {
       "model_id": "f4c64264123d4ca39a067deb745837ec",
       "version_major": 2,
       "version_minor": 0
      },
      "text/plain": [
       "HBox(children=(Output(), VBox(children=(Label(value='Seleccionar parámetros', layout=Layout(display='flex', ju…"
      ]
     },
     "metadata": {},
     "output_type": "display_data"
    }
   ],
   "source": [
    "%run ./ej7.py"
   ]
  }
 ],
 "metadata": {
  "interpreter": {
   "hash": "31f2aee4e71d21fbe5cf8b01ff0e069b9275f58929596ceb00d14d90e3e16cd6"
  },
  "kernelspec": {
   "display_name": "Python 3 (ipykernel)",
   "language": "python",
   "name": "python3"
  },
  "language_info": {
   "codemirror_mode": {
    "name": "ipython",
    "version": 3
   },
   "file_extension": ".py",
   "mimetype": "text/x-python",
   "name": "python",
   "nbconvert_exporter": "python",
   "pygments_lexer": "ipython3",
   "version": "3.8.10"
  },
  "widgets": {
   "application/vnd.jupyter.widget-state+json": {
    "state": {
     "00346840f82947d68b66c23449ff3acf": {
      "model_module": "@jupyter-widgets/controls",
      "model_module_version": "1.5.0",
      "model_name": "DescriptionStyleModel",
      "state": {
       "description_width": ""
      }
     },
     "01dd4d4631174f1194f3dd3bf57d1e8a": {
      "model_module": "@jupyter-widgets/controls",
      "model_module_version": "1.5.0",
      "model_name": "SliderStyleModel",
      "state": {
       "description_width": ""
      }
     },
     "024bedfd831a4640909360cd5445dd2b": {
      "model_module": "@jupyter-widgets/base",
      "model_module_version": "1.2.0",
      "model_name": "LayoutModel",
      "state": {
       "display": "flex",
       "justify_content": "center"
      }
     },
     "024fe5259085424eb57b85223ae736ef": {
      "model_module": "@jupyter-widgets/controls",
      "model_module_version": "1.5.0",
      "model_name": "SliderStyleModel",
      "state": {
       "description_width": ""
      }
     },
     "03ac090a7d9a4874899ec2d7a29a911b": {
      "model_module": "@jupyter-widgets/base",
      "model_module_version": "1.2.0",
      "model_name": "LayoutModel",
      "state": {}
     },
     "041f5e1616054fb08d599473dc2a2b05": {
      "model_module": "@jupyter-widgets/base",
      "model_module_version": "1.2.0",
      "model_name": "LayoutModel",
      "state": {}
     },
     "0712d10966e94faebb1e05198c97f03f": {
      "model_module": "@jupyter-widgets/controls",
      "model_module_version": "1.5.0",
      "model_name": "FloatSliderModel",
      "state": {
       "description": "r",
       "layout": "IPY_MODEL_aff797ac5e1f4a10a581c050474438a2",
       "max": 4,
       "min": 0.5,
       "step": 0.5,
       "style": "IPY_MODEL_3a2e78924b7944bfa77068b3f73a09d6",
       "value": 1
      }
     },
     "0872ffa3f290487096bfc1db8bff27dc": {
      "model_module": "@jupyter-widgets/controls",
      "model_module_version": "1.5.0",
      "model_name": "DescriptionStyleModel",
      "state": {
       "description_width": ""
      }
     },
     "0c70b3123fe84e26a1ae4386a58d9b5e": {
      "model_module": "@jupyter-widgets/controls",
      "model_module_version": "1.5.0",
      "model_name": "FloatSliderModel",
      "state": {
       "description": "sigma2",
       "layout": "IPY_MODEL_d4912015d6674ceca3b18963a5cdf220",
       "max": 10,
       "min": 0.1,
       "step": 0.1,
       "style": "IPY_MODEL_76bee7d4895d48b491369a307710df10",
       "value": 2.3
      }
     },
     "0d2e54d426e94923bded21e16b6e9bfb": {
      "model_module": "@jupyter-widgets/base",
      "model_module_version": "1.2.0",
      "model_name": "LayoutModel",
      "state": {}
     },
     "0de8f3ab10494dea80ac3301a2bb71dc": {
      "model_module": "@jupyter-widgets/base",
      "model_module_version": "1.2.0",
      "model_name": "LayoutModel",
      "state": {}
     },
     "0e06c47c93e640bf8cbdb36e4023e2fd": {
      "model_module": "@jupyter-widgets/controls",
      "model_module_version": "1.5.0",
      "model_name": "IntSliderModel",
      "state": {
       "description": "n",
       "layout": "IPY_MODEL_ddf50443db2a48a2a1677a15ab4fd354",
       "min": 1,
       "style": "IPY_MODEL_25f377e065b0421e928cc13e031f1a37",
       "value": 3
      }
     },
     "0ed25e181f2246a89fbf4153757cc6ea": {
      "model_module": "@jupyter-widgets/base",
      "model_module_version": "1.2.0",
      "model_name": "LayoutModel",
      "state": {}
     },
     "101a97edfbdb4a07b888e5e9b3846d68": {
      "model_module": "@jupyter-widgets/base",
      "model_module_version": "1.2.0",
      "model_name": "LayoutModel",
      "state": {}
     },
     "154b18ed36e745bc93d802dc91a1e291": {
      "model_module": "@jupyter-widgets/base",
      "model_module_version": "1.2.0",
      "model_name": "LayoutModel",
      "state": {}
     },
     "1be272bec9554205af99903d58a03a4b": {
      "model_module": "@jupyter-widgets/base",
      "model_module_version": "1.2.0",
      "model_name": "LayoutModel",
      "state": {}
     },
     "1d37b29907c8468c892b376fa06bd4f7": {
      "model_module": "@jupyter-widgets/controls",
      "model_module_version": "1.5.0",
      "model_name": "IntSliderModel",
      "state": {
       "description": "n",
       "layout": "IPY_MODEL_f92a4c6bbd034ffea780981879c8ed4e",
       "min": 8,
       "style": "IPY_MODEL_ef27c356c2b74263b1f46513aaae3893",
       "value": 12
      }
     },
     "1d5492939f2c40f4921c0894082470c0": {
      "model_module": "@jupyter-widgets/controls",
      "model_module_version": "1.5.0",
      "model_name": "IntSliderModel",
      "state": {
       "description": "r",
       "layout": "IPY_MODEL_bc07ae6873754eb08e73c08a253c9dcc",
       "max": 4,
       "min": 1,
       "style": "IPY_MODEL_7f8284f4c5204ff8b0e81116ac623c88",
       "value": 1
      }
     },
     "1de1ffb469884f76863659a6820c990b": {
      "model_module": "@jupyter-widgets/controls",
      "model_module_version": "1.5.0",
      "model_name": "LabelModel",
      "state": {
       "layout": "IPY_MODEL_9a9c2b078f6243ae82677628096439eb",
       "style": "IPY_MODEL_3fa8046ff9804853a5ba0384a8aa6984",
       "value": "Seleccionar parámetros"
      }
     },
     "1ebad845a87945c99267b26bd3a6779f": {
      "model_module": "@jupyter-widgets/controls",
      "model_module_version": "1.5.0",
      "model_name": "LabelModel",
      "state": {
       "layout": "IPY_MODEL_abb31028ffc24895ab50f5fe57ccfd53",
       "style": "IPY_MODEL_47c93b1e109d4ab0b18f6aeb72ab108e",
       "value": "Seleccionar parámetros"
      }
     },
     "1ff25bd4a6f54552bb0c0b01d8c06d74": {
      "model_module": "@jupyter-widgets/controls",
      "model_module_version": "1.5.0",
      "model_name": "VBoxModel",
      "state": {
       "children": [
        "IPY_MODEL_5e3d74d24a4c416da2a720195cac3487",
        "IPY_MODEL_c322f4f7624746c39bda1d21c64db258",
        "IPY_MODEL_dbd22644f2d94bc6b18fd66c1a62f4c9",
        "IPY_MODEL_f23849adaccf4fa6879c66b7ba3be7e1",
        "IPY_MODEL_0c70b3123fe84e26a1ae4386a58d9b5e",
        "IPY_MODEL_9bc436903349466b85ad9aa238747e53",
        "IPY_MODEL_1d5492939f2c40f4921c0894082470c0"
       ],
       "layout": "IPY_MODEL_bfd3377a124f48d1bd183da9c2f73770"
      }
     },
     "2568e82a78e24d84ab816847db148e5b": {
      "model_module": "@jupyter-widgets/controls",
      "model_module_version": "1.5.0",
      "model_name": "LabelModel",
      "state": {
       "layout": "IPY_MODEL_ddac2a82d52d46289b6811ee8315dae6",
       "style": "IPY_MODEL_0872ffa3f290487096bfc1db8bff27dc",
       "value": "Seleccionar parámetros"
      }
     },
     "25f377e065b0421e928cc13e031f1a37": {
      "model_module": "@jupyter-widgets/controls",
      "model_module_version": "1.5.0",
      "model_name": "SliderStyleModel",
      "state": {
       "description_width": ""
      }
     },
     "26347331a0fc437c865f518baba62474": {
      "model_module": "@jupyter-widgets/base",
      "model_module_version": "1.2.0",
      "model_name": "LayoutModel",
      "state": {
       "align_items": "center",
       "display": "flex",
       "width": "100%"
      }
     },
     "266e64067fc9451283051c71854c558b": {
      "model_module": "@jupyter-widgets/controls",
      "model_module_version": "1.5.0",
      "model_name": "LabelModel",
      "state": {
       "layout": "IPY_MODEL_8c94a8bd99f44783ab811b6cae358935",
       "style": "IPY_MODEL_3545408e00e341f2a17eeba6ae002f4d",
       "value": "Seleccionar parámetros"
      }
     },
     "285684afc2d747ac83a1b07f7467431f": {
      "model_module": "@jupyter-widgets/controls",
      "model_module_version": "1.5.0",
      "model_name": "FloatSliderModel",
      "state": {
       "description": "sigma",
       "layout": "IPY_MODEL_53f5c6bbb3ba4a30973afaa93b50a619",
       "max": 105,
       "min": 0.5,
       "style": "IPY_MODEL_e9112bca7d1e42e1ae706a0479d44d39",
       "value": 4.5
      }
     },
     "29973073ed594d58badd8601d0ae7169": {
      "model_module": "@jupyter-widgets/base",
      "model_module_version": "1.2.0",
      "model_name": "LayoutModel",
      "state": {}
     },
     "29d883da17ab49b7bcb44713dfcf122b": {
      "model_module": "@jupyter-widgets/base",
      "model_module_version": "1.2.0",
      "model_name": "LayoutModel",
      "state": {
       "align_items": "center",
       "display": "flex",
       "width": "100%"
      }
     },
     "2b7aa54e9f694ae3bd4e38123fa41b26": {
      "model_module": "@jupyter-widgets/base",
      "model_module_version": "1.2.0",
      "model_name": "LayoutModel",
      "state": {
       "display": "flex",
       "justify_content": "center"
      }
     },
     "2c40e39a9a8a47029435cd1b049c56bc": {
      "model_module": "@jupyter-widgets/controls",
      "model_module_version": "1.5.0",
      "model_name": "FloatSliderModel",
      "state": {
       "description": "rho",
       "layout": "IPY_MODEL_6055d3c7448a44a681efbd0fc67fc4d5",
       "max": 0.9,
       "min": -0.9,
       "step": 0.1,
       "style": "IPY_MODEL_565d9db3688944878a054bdf9b99e099",
       "value": 0.7
      }
     },
     "2e234ce69c7542368751ec8b523aaebb": {
      "model_module": "@jupyter-widgets/base",
      "model_module_version": "1.2.0",
      "model_name": "LayoutModel",
      "state": {}
     },
     "315014c6451d4a3a937aa1cec427a653": {
      "model_module": "@jupyter-widgets/output",
      "model_module_version": "1.0.0",
      "model_name": "OutputModel",
      "state": {
       "layout": "IPY_MODEL_0d2e54d426e94923bded21e16b6e9bfb",
       "outputs": [
        {
         "data": {
          "image/png": "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\n",
          "text/plain": "<Figure size 576x288 with 1 Axes>"
         },
         "metadata": {
          "needs_background": "light"
         },
         "output_type": "display_data"
        }
       ]
      }
     },
     "3545408e00e341f2a17eeba6ae002f4d": {
      "model_module": "@jupyter-widgets/controls",
      "model_module_version": "1.5.0",
      "model_name": "DescriptionStyleModel",
      "state": {
       "description_width": ""
      }
     },
     "35b360d7919d4dca81375882a8f00b61": {
      "model_module": "@jupyter-widgets/controls",
      "model_module_version": "1.5.0",
      "model_name": "VBoxModel",
      "state": {
       "children": [
        "IPY_MODEL_f8e92d2223564c0aad78f3f817f62a5b",
        "IPY_MODEL_1d37b29907c8468c892b376fa06bd4f7",
        "IPY_MODEL_7a46d7bc37784757a7cc1b5585c27ac0",
        "IPY_MODEL_633c9ac062af4bd3a9456daec4c7b4db"
       ],
       "layout": "IPY_MODEL_26347331a0fc437c865f518baba62474"
      }
     },
     "3a2e78924b7944bfa77068b3f73a09d6": {
      "model_module": "@jupyter-widgets/controls",
      "model_module_version": "1.5.0",
      "model_name": "SliderStyleModel",
      "state": {
       "description_width": ""
      }
     },
     "3ced6f15f52a4ba88347207d4a9b0ce6": {
      "model_module": "@jupyter-widgets/output",
      "model_module_version": "1.0.0",
      "model_name": "OutputModel",
      "state": {
       "layout": "IPY_MODEL_101a97edfbdb4a07b888e5e9b3846d68",
       "outputs": [
        {
         "data": {
          "image/png": "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\n",
          "text/plain": "<Figure size 576x576 with 3 Axes>"
         },
         "metadata": {
          "needs_background": "light"
         },
         "output_type": "display_data"
        }
       ]
      }
     },
     "3dff18124b5e49d88c7f5f3efcad55d7": {
      "model_module": "@jupyter-widgets/controls",
      "model_module_version": "1.5.0",
      "model_name": "HBoxModel",
      "state": {
       "children": [
        "IPY_MODEL_3ced6f15f52a4ba88347207d4a9b0ce6",
        "IPY_MODEL_6dc5635e50dd4f818fbb2559d410b6da"
       ],
       "layout": "IPY_MODEL_29d883da17ab49b7bcb44713dfcf122b"
      }
     },
     "3ea61ac41061477383e48a49d975d864": {
      "model_module": "@jupyter-widgets/base",
      "model_module_version": "1.2.0",
      "model_name": "LayoutModel",
      "state": {
       "align_items": "center",
       "display": "flex",
       "width": "100%"
      }
     },
     "3fa8046ff9804853a5ba0384a8aa6984": {
      "model_module": "@jupyter-widgets/controls",
      "model_module_version": "1.5.0",
      "model_name": "DescriptionStyleModel",
      "state": {
       "description_width": ""
      }
     },
     "441e2dd92be24cab95c9f9d8be268429": {
      "model_module": "@jupyter-widgets/controls",
      "model_module_version": "1.5.0",
      "model_name": "DropdownModel",
      "state": {
       "_options_labels": [
        "0",
        "1"
       ],
       "description": "delta",
       "index": 0,
       "layout": "IPY_MODEL_a0396d9633564086a7f6d0e1783630c4",
       "style": "IPY_MODEL_fb76dbb90c1447719231e076ee577dca"
      }
     },
     "47b4726ef1d04d289c4664fd5f2b4dd7": {
      "model_module": "@jupyter-widgets/base",
      "model_module_version": "1.2.0",
      "model_name": "LayoutModel",
      "state": {}
     },
     "47c93b1e109d4ab0b18f6aeb72ab108e": {
      "model_module": "@jupyter-widgets/controls",
      "model_module_version": "1.5.0",
      "model_name": "DescriptionStyleModel",
      "state": {
       "description_width": ""
      }
     },
     "4e03ed5d26cc473cb22736a66908485f": {
      "model_module": "@jupyter-widgets/controls",
      "model_module_version": "1.5.0",
      "model_name": "FloatSliderModel",
      "state": {
       "description": "rho",
       "layout": "IPY_MODEL_1be272bec9554205af99903d58a03a4b",
       "max": 0.99,
       "min": -0.99,
       "step": 0.01,
       "style": "IPY_MODEL_ca3a658116814eb0a874fb60f19fb8f7",
       "value": -0.78
      }
     },
     "4e34e9ca977b45a09041efd6e0138d5a": {
      "model_module": "@jupyter-widgets/output",
      "model_module_version": "1.0.0",
      "model_name": "OutputModel",
      "state": {
       "layout": "IPY_MODEL_6b41b2a66dcd40eab26497ac72730a39",
       "outputs": [
        {
         "data": {
          "image/png": "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\n",
          "text/plain": "<Figure size 576x576 with 3 Axes>"
         },
         "metadata": {
          "needs_background": "light"
         },
         "output_type": "display_data"
        }
       ]
      }
     },
     "4f1c8e08d55c4d0c8c5ac6f38a88071e": {
      "model_module": "@jupyter-widgets/controls",
      "model_module_version": "1.5.0",
      "model_name": "LabelModel",
      "state": {
       "layout": "IPY_MODEL_024bedfd831a4640909360cd5445dd2b",
       "style": "IPY_MODEL_d766abff4ec6471391b81557aea34388",
       "value": "Seleccionar parámetros"
      }
     },
     "4ff904c938b44a56896364c88b18eb6b": {
      "model_module": "@jupyter-widgets/controls",
      "model_module_version": "1.5.0",
      "model_name": "FloatSliderModel",
      "state": {
       "description": "sigma2",
       "layout": "IPY_MODEL_eba6e86c560f49af8ab775ceed5e9802",
       "max": 2,
       "min": 0.1,
       "step": 0.1,
       "style": "IPY_MODEL_514c52bba90849638b7f84279667f658",
       "value": 0.5
      }
     },
     "500562c1d3ba48ab9c1bde64a8c58eb1": {
      "model_module": "@jupyter-widgets/controls",
      "model_module_version": "1.5.0",
      "model_name": "SliderStyleModel",
      "state": {
       "description_width": ""
      }
     },
     "50892cde136846979f8a0ae16a9ce657": {
      "model_module": "@jupyter-widgets/controls",
      "model_module_version": "1.5.0",
      "model_name": "VBoxModel",
      "state": {
       "children": [
        "IPY_MODEL_4f1c8e08d55c4d0c8c5ac6f38a88071e",
        "IPY_MODEL_bf0e5713c6104b79a858fc546dbd35c4",
        "IPY_MODEL_285684afc2d747ac83a1b07f7467431f",
        "IPY_MODEL_5dc6ba451b204493971ded53d28c3aa5"
       ],
       "layout": "IPY_MODEL_3ea61ac41061477383e48a49d975d864"
      }
     },
     "50f58047b9004ebc97fda4dd2b533d30": {
      "model_module": "@jupyter-widgets/controls",
      "model_module_version": "1.5.0",
      "model_name": "FloatSliderModel",
      "state": {
       "description": "sigma1",
       "layout": "IPY_MODEL_c2b1de999c704d2a819486d584c3f828",
       "max": 3,
       "min": 0.1,
       "step": 0.1,
       "style": "IPY_MODEL_602d9a4ebfec40209f4942fabf801e8d",
       "value": 2.3
      }
     },
     "514c52bba90849638b7f84279667f658": {
      "model_module": "@jupyter-widgets/controls",
      "model_module_version": "1.5.0",
      "model_name": "SliderStyleModel",
      "state": {
       "description_width": ""
      }
     },
     "52b422be1eb845cd9c33f5a2f6c87212": {
      "model_module": "@jupyter-widgets/base",
      "model_module_version": "1.2.0",
      "model_name": "LayoutModel",
      "state": {}
     },
     "53f5c6bbb3ba4a30973afaa93b50a619": {
      "model_module": "@jupyter-widgets/base",
      "model_module_version": "1.2.0",
      "model_name": "LayoutModel",
      "state": {}
     },
     "565d9db3688944878a054bdf9b99e099": {
      "model_module": "@jupyter-widgets/controls",
      "model_module_version": "1.5.0",
      "model_name": "SliderStyleModel",
      "state": {
       "description_width": ""
      }
     },
     "56ada981316c4d70b5e84e164a30d465": {
      "model_module": "@jupyter-widgets/base",
      "model_module_version": "1.2.0",
      "model_name": "LayoutModel",
      "state": {}
     },
     "5958ebb10a7e4df89eebe3785457389c": {
      "model_module": "@jupyter-widgets/base",
      "model_module_version": "1.2.0",
      "model_name": "LayoutModel",
      "state": {}
     },
     "5dc6ba451b204493971ded53d28c3aa5": {
      "model_module": "@jupyter-widgets/output",
      "model_module_version": "1.0.0",
      "model_name": "OutputModel",
      "state": {
       "layout": "IPY_MODEL_691db9239eec4654862d9ac48affa1fe",
       "outputs": [
        {
         "data": {
          "image/png": "iVBORw0KGgoAAAANSUhEUgAAAaYAAAEQCAYAAAD74tBrAAAAOXRFWHRTb2Z0d2FyZQBNYXRwbG90bGliIHZlcnNpb24zLjQuMywgaHR0cHM6Ly9tYXRwbG90bGliLm9yZy/MnkTPAAAACXBIWXMAAAsTAAALEwEAmpwYAAAuFklEQVR4nO3deXxkdZnv8c+TdJZO0kk6Sac3eoMGBmRrWdygAREdlPGOG8s4XBkdFPQOovey6EWn3VBwHF/ggKijMo4jw6DOXMEBFBVBmBEQaHakoTd6y9bppLIvz/3jnEBRnaVSqapzqur7fr3Oq5NzTp16+nR1nvx+v+f8fubuiIiIxEVZ1AGIiIgkU2ISEZFYUWISEZFYUWISEZFYUWISEZFYUWISEZFYmRd1AHFjZqqfFxHJgLtbNq6jxDQJPdslEvj7XzzHUzt7+O75x0cdSmR27RvgDV/+NQ9++jRa66ujDie2zLKSkwB15YnINJpqK+nsG446jEh1JoK//8LayogjKR1KTCIypaa6Kvb2l3Zi6uobpr56HhXl+nGZL7rTIjKlpppKuhJKTM11VVGHUVKUmERkSk21lfQOjTI0OhZ1KJHp6humSd14eaXEJCJTaq4LfiDv7RuJOJLodPUNs7BGiSmflJhEZEoTP5C7SrgAorNvmGa1mPJKiUlEplQ5r4wFVfNKOjF19Q3RVKfElE9KTCIyraa6Sjr7hqIOIzJdajHlnRKTiEyrqbaypFtMnSp+yDslJhGZVnNtJXtLODHtVWLKOyUmEZnWwprSnf1hbNzpHhhRYsqzyBOTmZ1jZveZWU/qBKpm9n4zS6Rso2a2cZrrnW9m4ymveSD3fxOR4tRUV7pdeXv7h3FHiSnPIk9MwF7gBuCS1APu/i/uXjexAQuBDuCfZ7jmtuTXufsbsx61SIloLuH58iYScnOtZn7Ip8hnF3f3uwDM7JQ0Tn8PUA98L4chiUiShTWlO8bUmRhmfkU58yvLow6lpMShxTQbHwVucfeuGc5bama7zGynmf3MzI6a7CQz22BmnrxlP2SRwtZcwl15mo4oGgWTmMzsCOAkgm6/6dwLHAUcABwBPAvcY2bLU0909w3ubslbtuMWKXRNtcEM4+Pjpfd7W1f/8MvTMkn+FExiImgtPezuD013kru/6O7PufuYu3e5+2VAJ/COvEQpUmSaaysZd9g3UHrz5XUlNE9eFAoiMZnZAuAvmbm1NBUH1BoSycDEAnmlWADR1TekWR8iEHliMrNyM6sGKsPvq8MtObbzgBHgX9O43p+b2XILNJjZVcAi4I5cxC9S7Gory6mcV1aS40ya9SEakScmgqQzANwVfj8QbuuTzrkIuMndB1JfbGY3mlly0nkb8DDQBzxHMN50mrtvy0HsIkXPzGiuraSrBOfL6+ob1gSuEYhDufhNwE0znHPkNMcuTPn+IoJEJiJZEsyXV4JjTJrANRJxaDGJSMw11VbSmSjNFpOKH/JPiUlEZtRSV1VyxQ/uzl6Vi0dCiUlEZtRSV0l7ibWYegZHGRlzmjQdUd4pMYnIjJrrqkquK2/i76sWU/4pMYnIjFrqquhIlFZXXkdi+OWl5SW/lJhEZEYtdZV0lFiLqSMxxKK6Ksz0bH6+KTGJyIxa6qro7h9hZGw86lDypiMxRIu68SKhxCQiM2qpCwoASmn2h47EMM11KnyIghKTiMxoYlqeUurOU4spOkpMIjKjynllNMyvKKkCiI7eoZdbipJfSkwikpaWuko6ekunxdTZp668qCgxiUhamuuq6CyhiVzVlRedjAr0zexQ4EBgPtAOPOruiWwGJiLxsqjEnmXq6A3KxSX/0k5MZraaYBXZ9wNLePXCe6Nm9jvgRuBWdy+9NZhFilxzCT3LNDA8Rt/wGC0LlJiikFZXnpn9HfAkcCjwf4EjgAagClgKvB14APgK8JiZvTYn0YpIZEpp9oeJBKwlL6KRboupDjjE3XdOcmxPuN0NXGlm7wMOAx7JTogiEgctdVUlU/zQkRiivMy05EVE0kpMqYvxzXDurZmHIyJx1VxXWTLFDx2JYEn1sjJNRxSFWVflmdmFZna8mVWl7J9vZvMzuN45ZnafmfWY2X5jU2bmZjZgZomkbcoVbcPXXGJm28ys38zuN7OjZxuXiLxaS10VnYlhxseLfwi5IzGkbrwIZVKVdwWwkqDg4VmCLrtHgDHgEuDgWV5vL3ADQYXfd6c45wx3vyedi5nZOcBnCca9HgMuB+40s0PcvXeWsYlIqKWuktFxp2dwhMYi7+LqTAyxSIUPkZl1i8ndVwOLgHcA/0Iw/vRF4DqgPIPr3eXuNwMvzva1U7gQ+I67/7e7DwJfCPe/K0vXFylJE7MglEJlXkdiWLM+RCijB2zdvdPdf+nuV7v7e4FVwH3AZVmN7hU3m1mnmT1iZhfMcO7RwMNJsY4TtOiOyVFsIiWhtmoe8yvKae8t/sq8dj1cG6mszPzg7nuBK4EvZ+N6Kd5C8DDvUuDTwNVmdtE059cD3Sn7usP9r2JmG8IxrJe37IQsUpxKpQCiMzGk6YgilEnxwwFTHGoDpjqWMXf/lbsPuPuwu98J/D1w3jQv6SF4xipZY7g/9dob3N2St6wFLlKESqVkXF150cqk+GGbmbXzStHDI8AO4GPAT7MY21TGefWsE6k2AscBPwYwszJgHXBL7kMTKW4tdZV0lsCaTJonL1qZJKajCH7QrwPeSDBN0UQL5X4zu46gGu4xd5/xIVszKwcqgMrw++rw0DDBuFAZ8DhBQjoV+CTw+WkueSNwvZn9lCBJXUaQyP493b+giEwumP2huFtMI2PjdPePqMUUoVknJnd/kmB6on+e2Gdma3glWa0D3kMwn146VXrnAd9P+n4g/PNUYAFwDbACGAW2Ale6+41J730jsMrdzwjj+1czWwr8BGgBHgX+VKXiInPXXFfJc7uLe77miVV6lZiik9Hs4qncfTOwmaSuPDNrTfO1NwE3TXPKbTO8fr9ZKdz968DX03l/EUlfS10VD/R1Rh1GTrWHY2jN6sqLTLqTuB6b7gXNrMrMDnP3tszDEpE4KoWuvI7EEI01FVSUa7m6qKR75/+fmf27mb0tLCbYj5ktN7NPAZuAN2UtQhGJjea6SjqLfIbxjsSwpiOKWLpdeYcSTEX0Q6DazB4lqMQbBJqA1wBrgHuAc939d9kPVUSitqiuiv7hMfqHR6mpzMpIQOx0JoY0vhSxtFpM7t7n7p8heE7pPIKZFaoJHnrtAa4HXuPupykpiRSviYdOO4p49oeOxJAWCIzYrH7lcfch4D/CTURKTOP8CirKjfbEICuba6IOJyc6EsNaUj1is1la/U6CltIfgIfdfXvOohKRWCorM1rqqmjrKd4CiI7EEAe21EYdRkmbTYtpGDifYL46N7NOwiQV/vkHJSuR4te6oIr2Iq7Ma+/VkhdRS7se0t3f6e4HEIwr/RnwDWCIIFn9FNhiZrvM7PszLeQnIoVr0YLqom4xtfcO0VqvxBSlTGZ+2AP8Z7gBLz9MexxwPHAG8JCZne7u92UrUBGJh0ULqmjrHYw6jJwYGRuns2+Y1gXVM58sOZOtZS/a3P0/3f1z7v564CpyswSGiESsdUHVy7MjFJuJh4db1ZUXqVw92vwDggX7RKTIBC2m4kxMbT1DmEGTHrCNVK4S0zaCcSgRKTKtxZyYeodorq1inqYjilRO7r67j7v7Pbm4tohEq7W+ms7EEGPjxbfgc1vvoLrxYkC/FojIrCxaUMW4U5RLrKsiLx4ySkxmdqqZ3R2Wh+8ys1+a2SnZDU1E4mhiVoRiLIBo6x1SiykGZp2YzOxc4G6COfK+Em4J4G4zOzu74YlI3FTOK2NhTUVRjjO19QypVDwGMmkxXUmwiuy73f3acHsX8FngM9kNT0TiaNGCKtqL8CHb9t5BdeXFQCaJaS1w6yT7bw2PzYqZnWNm95lZj5l5yrHXm9nPzWxPePwRM3v3DNc738zGzSyRtD0w27hEZGqtC6qLcloideXFQyaJqR04apL9R4fHZmsvcANwySTHmoBbCNZ7agS+BPzIzE6Y4Zrb3L0uaXtjBnGJyBRaF1TR1lNcsz+Mj7vmyYuJTFb6+iHwLTNbBExMObQe+ALwndlezN3vApiseMLd/zNl10/CVXJPBB6c7XuJSHYsWlDFtq7+qMPIqu6BEUbHXWNMMZBJYroSKAeuBSoAI5jM9TqCcaacMbNlwGHAxhlOXWpmuwAnmP38Snd/PJexiZSSRQuq+MPWvVGHkVUT8/+pxRS9WXflufuou18KLASOIejCa3L3y919NMvxvczM6ghmMb/N3X81zan3EnQ1HgAcATwL3GNmyye55gYz8+QtF7GLFJtinJaorWeI+up5VFeURx1KycukXHy9mc1z9wF3fyLcBsxsnpmtz0WQZtYA3AnsAv7ndOe6+4vu/py7j7l7l7tfBnQC75jk3A3ubslbLuIXKTatC6pp6x3EvXh+l2vrHaK1Xt14cZBJ8cNvCIoSUjWEx7LKzJqBXwHbgfe5+3AGl3GCLkcRyYLW+ioGR8ZJDOWskyTvNB1RfGSSmIzgB32qBmDWo6FmVm5m1UBl+H11uJWZ2RLgt8DjwPvT6So0sz83s+UWaDCzq4BFwB2zjU1EJjcxDlNM3XnBw7VKTHGQdvGDmX0v/NKB68xsIOlwOXAswRLrs3Ue8P2k7yeueypwMkGp+BrgLLOXGz0/dPcLw7huBFa5+xnhsbcB3yRIlD0ExQ+nufu2DGITkUksqJpHdUUZbT1DHLSoLupwsqK9d4jlC+dHHYYwu6q8FeGfBiwDkrvUhoF7gK/NNgB3vwm4aYrD9wCfm+H1F6Z8fxFw0WzjEJH0mVnRPWTb3jvEMSsaow5DmEVicvfTAczs+8DF7t6bs6hEJPYWFdlDtm2ajig2MhljupmkmR/M7AIze8jMbjKzBdkLTUTibHF9cZWMt2nWh9jIJDFdDbQAmNkhwPUE4zjHAV/NXmgiEmeL66vZva84WkyJoVH6h8c060NMZJKYDgKeDL9+F3B3OK5zAXBmtgITkXhbUl/N7iLpytsT/j0WqysvFjJdwXaiXPxk4Bfh1zuA5jlHJCIFYUlD9cs/0Avdnn2D1FaWs6C6IupQhMwS0+PAReEsD2/mlcS0gsxmFxeRAjTRlVcMsz/s7hlkcYO68eIik8R0BfBBglkefuDuT4f7/wx4KFuBiUi8LamvZmh0nH0DI1GHMme79g2yRNMRxcasZxd399+ZWSuwwN27kw59B+jLVmAiEm9LwhbG7p5BGmsqI45mbvb0DL7895HoZTTGFE6Q2p2y7wV3352VqEQk9qorymmYX1EUlXm71WKKlYwSk5mdamZ3m9mucPvlZAv9iUhxW1JfHAUQajHFSybLXpwL3E0wD91Xwi0B3G1mZ2c3PBGJs8UN1ezeV/gP2e7aN8hitZhiI9MVbK909y8n7bvWzD4NfAa4JSuRiUjsLamvKvhnmUbHxulIDKkrL0Yy6cpbC9w6yf5bw2MiUiKKoSuvPTHEuMNSdeXFRiaJqZ2kufKSHI2eYxIpKUFXXmEnpl37BikvM5rrNOtDXGTSlfdD4Ftmtgi4L9y3HvgCQcm4iJSIYmgx7dkXrFxbXqZFruMi0zGmcuBaoIJgfaYh4Drgs9kLTUTibnF9NZ19wwyNjlE1rzzqcDKyu0eFD3Ez6648dx9190uBhcAxBF14Te5+eTpLn4tI8ZgosW7rKdzKvN09eoYpbjKdxBV3H3D3J8JtYOZXTM7MzjGz+8ysx8z2m3TLzNaZ2QNm1m9m28zs4hmuV2ZmV5nZHjNLmNmdZrYq0/hEZGpNNZVUlFtBd+ft3qdnmOImk+eYbjWzT02y/wozy6RUfC9wA3DJJNesB+4E7gKagLOADWb23mmudxlwLsG41xJgG3CbmWWchEVkcmVlwRLrhVwyrsQUP5n8sF4P3DHJ/jvCY7Pi7ne5+83Ai5McfjcwBnzB3Qfd/b8JCiw+Os0lLwSucffn3D1BkKgOBU6cbWwiMrMlBV6Zt0ddebGTSWJqIJjpIVU/wbhTNh0NPOru40n7HiYY29qPmTUAq8JzAAjn9Ns01WtEZG4KuTLP3VX8EEOZJKYXgNMn2X86sHlu4eynHuhO2dcd7p/q/IlzZnyNmW0wM0/eMo5UpEQtrq9md4EWP+wbGGFwZFxdeTGTSWK6AbjazD5hZkeE2ycJ5sy7Ibvh0UPQQkvWGO6f6nzSfY27b3B3S97mEKtISVrSUMWeAu3KmxgbU1devGSyHtP14XpMXwL+Ltw9BHzN3b+RzeCAjcBZZlaW1J13LPDYFLHtM7OtwHGE3Xlh995BU71GROZmScN8dvVkXJgbqd37BmmYX8H8ysJ8BqtYZboe098CLcDrw22Ru38mk2uZWbmZVQOV4ffV4VYG/JQgef5fM6sysxOAC4BvTnPJG4FLzewQM6sFrgb+CPwuk/hEZHrLG4Pih/HxwusJ1zpM8TSX55j63f2hcJvLyrXnAQMEJeGEXw8A6929B/hT4O0E40Q/AT7n7i9PImtmd5jZjUnXuwb4N4JE1AasAd6ZUkAhIlmyrHE+I2NOR6Lwxpl2qVQ8ljKZkiir3P0m4KZpjj8KvGGa42ekfD8OfCrcRCTHWhdUU15m7OgeoLXAWh87uwdYvnB+1GFICj10KiJzUl5mLKmvZmd34RVA7Nw3wPJGJaa4UWISkTlb1ljNzu7CK4DY2T3IssbCauWVAiUmEZmzZY3z2VFgicnd2dE9wLIGtZjiZk6JycyazUzP/oiUuGWN89m1r7ASU2ffMMOj4yxTV17sZDKJa7mZfc7M9gJ7CKreMLOvmNlHsh2giMTfssb5BTfGtLN7ADNUlRdDmbSYLgc+AFwMDCftfxQ4PwsxiUiBWV6AY0w7uwdYvKCainKNaMRNJv8iHwAudPd/Jpj5e8ITwCFZiUpECsqyxvl09g0zODI288kx8dJelYrHVSaJaSXwzCT7RwH9K4uUoIlxmkJqNQUVefqRFUeZJKYtBMtRpHoL8OycohGRglRfXUFd1byCGmfa2T2gUvGYymTmhxuAa81s4hN4sJn9KXAV8MmsRSYiBaXQnmXauW+AN65tjjoMmUQms4t/w8yagX8n6Lq7AxgErnL372U5PhEpEIX2LNNOPcMUWxnNlefuG8zsauA1BN2BT81xIlcRKXCF9CzT4MgYHYlhjTHFVMaTuLr7AElLmItIaVveOJ//eqEz6jDSsitc2FDz5MVTWonJzJ4H0lpsxd1VMi5SggppjGln9wC1leXUz498gQWZRLr/Kj9M+roK+BivXnzvTcChwD9kLzQRKSRLG4IxJncn7jOV7QiXu4h7nKUqrcTk7p+b+NrMbgC+7e6XJp8TjjmpxEWkRC1vnM/Q6DhdfcM011VFHc60glJxdePFVSbPMZ0NfGeS/d8Nj4lICVpcX02ZURCVeTv2KjHFWSaJqZzJpx46dI6xTMrMnjKzRNLWb2ZuZu+a4vwtZjaY8pozcxGbiLyicl4ZS+qr2d4V/8SkBQLjLZPEdDPwj2b2QTM7LNw+BHwb+Nfshgfu/hp3r5vYgCuAToLnp6ZyYfJr3P32bMclIvs7oKmG7Xv7ow5jRi/tVWKKs0xKUi4heKD2eqASMIJZxm8kSBq5dhHwXXcvnLlPRErEioU1bO+Kd2IaG3d2dg+wokmJKa5m3WJy9yF3/wRBocMxBPPmNbn7JblOFmb2ZoJuxBtnOPUaM+sysyfN7DIzq8hlXCISWNE0n+17492Vt7tnkJExZ0VTTdShyBQyXojE3fvd/Ylwy9evSB8F7nT3zdOc8wHgIKAV+DBwIfDFyU40sw3heNXLW9YjFikhKxbW8FLMW0zbOvuprihjUcwrB0tZwayQZWbLgP9BMInslNz9t+7e6+6j7v4A8FngvCnO3eDulrxlP3KR0rGiqYaX9g4wPh7f3/G27+1nxcIaPcMUYwWTmAhaP9uZvuhhMuME42AikmMrmuYzPDZOW+9Q1KFMaXtXv7rxYq4gEpOZzQMuAL7l7uPTnHewma03s2ozKzOzE4DPE1QSikiOLV5QTWV5Wawr87Z39bNCK9fGWkEkJoIuvGaCh3hfZmYrw+eUTgp3LQS+AbQD3cA/Ad8DLs9fqCKlq6zMWL5wfqwr87apxRR7sy4XN7Magh/0bwEWk5Lc3P3A7IT2qmv+BPjJJPu3AXVJ3z/I5KvrikieHLBwfqwfst2+d0CJKeYyeY7pm8CZwC3ATtKcdVxESsPKGD9kOzA8RnvvECuVmGItk8R0JnC2u9+d7WBEpPCtaKrhN8+2RR3GpF4KE6ZaTPGWyRjTMLAt24GISHFYsTAoGY+j7Xv7aaqtpK5K6zDFWSaJ6XrgI9kORESKw4qmYIn1kbEpC2gjs61TFXmFIJNfG1YB7wmnB9pI0IJ6mbt/OBuBiUhhWrGwhnEP1jxa1VwbdTivsn3vAAeoGy/2MklMawkSEgRJKpkKIURKXGNNBQuq57G1sz92iWlbVz9rW+tmPlEiNevE5O6n5iIQESkOZsbq5lq2dPaxnkVRh/Mq27v6OfXQ1qjDkBkUygO2IlJAVrfUsrmjL+owXmV83NnS2cfqFnXlxV1GicnMTjWzu81sV7j90sxOyW5oIlKo1jTXsCVmiWlP7yCDI+OsaYlX96Lsb8bEZGZvDmd7mPj+XOBuoAf4SrglgLvN7OxcBSoihWNVcy1bO+P1kO3mjj6qK8pYvKA66lBkBum0mP4E+LWZNYbfXwlc6e7vdvdrw+1dBMtLfCZHcYpIAVndUsu2rn5GY1QyvqWjn9XNtZSVabGBuJsxMbn7DQSzc98T7loL3DrJqbeGx0SkxK1pqWV03NnRHZ8Hbbd09rE6ZlWCMrm0xpjc/Vrgb8Jv24GjJjnt6PCYiJS4hWHJeJwKIDZ39LFa40sFIe1ycXe/L/zyh8C3zGwRMLFvPfAF4DvZDU9ECpGZsaYlXuNMWzr6OP2wxVGHIWnI5AHbK4Fy4FqggmB12CHgOoJxJhERVjfHp2R8bNzZ2tWvFlOByOQB21HgUjP7LK+MKW1y9/h0JotI5Fa31PL4S91RhwEE0yMNj47rGaYCkfEDtu4+4O5PhJuSkoi8yuoYPcu0pbOP2spyFtVVRR2KpCGtFpOZ/QJ4n7vvC7+ekru/NSuRvfLeGwjK0JOT323ufu4U568hWMzwRKCPYNzrM+6uefxE8mh1Sy0v7Q1mGa8oj3aSmS1h4YOZSsULQbpdeTuA8aSv8+0+dz9lppPMrBy4HbgfWAIsB+4EuoG/y2F8IpJiTXNYMr53IPKxnc0dGl8qJGklJnf/q8m+jqGTCMa93uTuCeA5M7sGuBQlJpG8aqypoLGmghfaE5EnhS2dfRy+tD7SGCR9hTKJ63Fm1m5mW83sR2F33WSOJijE6E7a9zCwxsz0qRTJIzPj4NY6NrUlog6FzR19miOvgMw6MZnZrWb2qUn2X2Fmt2QnrFf5MfAaoBV4AzBKMC/fZIuq1BN02yXrTjr2Kma2wcw8ecta1CLC2hgkpsGRMbZ29nHwYq3DVCgyaTGtB+6YZP8d4bGscvcn3X2rB3YCHwKWAm+c5PQeoCFlX2PSsdRrb3B3S96yGbtIqTtoUR2b2qNNTFs6+xj3IBYpDJkkpgaC2cRT9QML5xZOWjzcJksiG4G1ZpacnI4FNrv7folJRHJrbWsdm/YkiLIo9vk9CZY3zqe2KpP5BCQKmSSmF4DTJ9l/OrB5buHsz8zODqc/wsxaCcq/24EHJjn9vjC+q82s1swOAS4jKB8XkTw7ePECeodGaesdiiyG59sS6sYrMJkkphsIfvB/wsyOCLdPEqzLdEN2wwPg/cDTZtYPPApUA29x914zW2lmCTM7CcDdx4AzgTVAG/A7gpnRVZEnEoFlDdXUVJZHOs60qa2XterGKyiZTEl0fdhy+RKv/MAfAr7m7t/IZnDh+71zmmPbgLqUfZuBt2U7DhGZPTMLxpnaErxpbUskMTy/J8HJhyyK5L0lMxl1urr735rZ1QTVcgBPu3s85h4RkVhZ21rH8229kbz3yNg4Wzr7WNu6IJL3l8xkPBro7v3AQ1mMRUSK0NrWOu57Ppql2rZ29jMy5qxtVVdeIZl1YjKzGuBy4C3AYlLGqdz9wOyEJiLFYG1rHd+/f0sk772prZfF9VU0zK+I5P0lM5m0mL5JUGBwC7CToHRbRGRSa1vr6EgMsa9/hIaa/CaI5/ckOFjdeAUnk8R0JnC2u9+d7WBEpPisaqqhsryMP7b1cvzqpry+9/NtCXXjFaBMysWHgW3ZDkREitO88jLWttbxzK78P+OuxFSYMklM1wMfyXYgIlK8Dltan/fENDw6zqa2Xg5bqq68QpNJV94q4D1m9maCKYCGkw+6+4ezEZiIFI/Dl9Xzs4078/qeL7QnGBlzDl2ihQUKTSaJaS1BQoIgSSVTIYSI7OewpQv46l09jI075WX5mSv5mV09rGquoU5z5BWcTGZ+ODUXgYhI8Tp8aT2DI8HDrvma5fvpnT1aHLBAFcpCgSJSwBprKlnaUJ3XcaZndvdwmBJTQcpkocDNZvbiVFsughSRwpfPAgh355ldvUpMBSqTztd/TPm+gmDNoxOBa+cckYgUpcOWLuCZXfmZM6+td4iuvmFV5BWoTMaYvjTZfjO7HDhgzhGJSFE6bGk9P31kR17e6+mdPdRXz2N54/y8vJ9kVzbHmH5MsHaSiMh+Dl9az659g+ztG5755Dl6elcPf7K0HrP8VABKdmUzMa0j5ZkmEZEJq5prqaks56mduR9nevylbo5a3pDz95HcyGR28W+n7gKWEcw2fn02ghKR4lNeZhyxvIGNL3Vz4sG5XTTw8Zf2ceZRy3L6HpI7mRQ/HJzy/TjBMuYfBf5pzhGJSNFat6KRjdu7c/oee3oG2bVvkKMPaMzp+0juxP4B23Cl3DOBFUACuAO4zN07p3nNFmAJMJq0+xx3vz2HoYrIDI5e0ch/PJbbAoiN27tZWFPBiiYVPhSqtMeYzOwsM6vMZTBTGAP+EmgGjiFIUDel8boL3b0uaVNSEonY0Ssa2dMzxK59Azl7j8df2sfRKxpV+FDAZlP8cDPQOPGNmT1jZiuzHlEKd/+0uz/q7iPu3gZcB5yc6/cVkexb1lBNS11VTrvzNr7UzVHqxitos0lMqb9+HEBmY1RzdRqvTCI7nWvMrMvMnjSzy8xsv6UzzWyDmXnylv1wRWSCmXHMigYe274vJ9d3dzZu7+aYFarIK2QFNVeemZ0F/DXw8RlO/QBwENAKfBi4EPhi6knuvsHdLXnLdswi8mpHH5C7AojNHX30DI6qxVTgZpOYnP2XtchbC8PMzgG+BbzT3R+Z7lx3/62797r7qLs/AHwWOC8fcYrI9I5Z2cjGl7oZHRvP+rUf3rKX1c01tNRVZf3akj+z6Yoz4FYzm3iIthr4gZm9ahTT3d+areBefmOzDwFfBc509/szuMQ4+3dFikgEXrtyIUOj4zy5s4djVjRm9dq/39zFCWuasnpNyb/ZJKbUZ5R+mM1ApmJmFxO0eN7q7g+ncf7BwFLgQYKZKI4DPk9QvCEiEautmseRyxv4/YudWU9MD27p5OOnHZLVa0r+pZ2Y3P2vchnINK4leB7pnpTyz8PdfVtYGfg0cIa73wcsBL4BHEjQ1bgD+B5Bi0tEYuB1Bzbx4OYuPnLyQVm75q59A2zvGuB1ajEVvNivOTxTQYK7bwPqkr5/EDg613GJSOZet6aJH/1+W1aXWn9wcxdLG6o5YKEerC10BVWVJyLF4bjVTfQNjWZ14cAHw/ElPVhb+JSYRCTv6qsrOHxZPb/f3JW1a/5+cxfHr1Y3XjFQYhKRSLzhwGbu39SRlWvt6B5gU1uC9Qcvysr1JFpKTCISiZMPaeW/XuhkcGRszte694/trGmpZWVzTRYik6gpMYlIJI5fsxAzeGjL3LvzfvtcOycfotZSsVBiEpFIVM0r540HNXPPc+1zus7I2Dj3b+pQYioiSkwiEpmTD23lN8+1zekaD23pYmhsnNcdqMKHYqHEJCKROf2wxbzY3scf9/RmfI07n9zNKYcsoqYy9o9lSpqUmEQkMksaqjlu1UJ+/viujF4/Nu7c8eRu3n7k0ixHJlFSYhKRSL39yKX8/InMEtMftu5lX/8Ibz6sNctRSZSUmEQkUm8/cimb2hI8u3v2s0DctnEn6w9pob56v3VApYApMYlIpJY0VPOmtc3c8tD2Wb1uYHiM/3hsB+89dkWOIpOoKDGJSOT+4oRV/OQPL83qYdufP7GLqnnlnKZuvKKjxCQikTv98MVUzivj9lkUQdz84DbOOu4AKsr1Y6zY6F9URCJXOa+MvzhhJd++9wXGx33G8x/a0sXG7d38xetW5iE6yTclJhGJhQ+euIZd3YNpVeh949ebeNe65RywUHPjFSMlJhGJhcaaSj544hq+fvcfGRqdeqzpN8+18d8vdPKxU9fmMTrJp4JITGZWZmZXmdkeM0uY2Z1mtmqa89eZ2QNm1m9m28zs4nzGKyKZuWD9gQyNjHP9rzdNerx3cIQNP3uKvz5pDatbavMcneRLQSQm4DLgXGA9sATYBtxmZvvFb2b1wJ3AXUATcBawwczem79wRSQTdVXz+PK7j+SGe17g7qf3ALCts597/9jOi+0JLr31ceZXlHPxaQdHHKnkkrnPPNAYNTPbAlzt7t8Mv28E9gCnu/u9KeeeD1wFHODu4+G+q4Hj3f3NabyXF8I9ESlm3/vdZr5y57OsP7iFh7d0MTLmDI2OU11Rzu1/c6JaSzFkZrh7Vta1j/2sh2bWAKwCHp7Y5+7dZrYJOAa4N+UlRwOPTiSl0MPABTkOVUSy5IMnrsGAz9/+NMm/JpYZlFlWfvZJjBVCV159+Gd3yv7upGOp56d1rpltMDNP3uYUqYhkzUGtddRWlb9qnwNbu/qiCUjyphAS08QEWg0p+xuTjqWen9a57r7B3S15m2OsIpIlq5tr93t4dl6ZsapJ3XjFLvaJyd33AVuB4yb2hd17BwGPTfKSjcC6lMKIY6c4V0RiamVzDRedfBALaypYUD2PhTUVfPSUtaxs1rNLxa5Qih+uIBgjOgPYAXwNeCNwTMpY0kRV3vPAPwDXEIw53QFc6O63pvFeKn4QiZFtnf1s7epjVVOtklKMZbP4oVASUxnwJeBDQC3wO+Aj7r7FzE4iSDyHu/u28Px1wA0ExREdwFfd/bo030uJSURklkouMeWTEpOIyOxlMzHFfoxJRERKixKTiIjEihKTiIjEihKTiIjEihKTiIjESuznyouCaS4uEZHIKDFNohCmJgrL2hVnlijO7CmEGEFxZls25xpVV56IiMSKEpOIiMSKEpOIiMSKEtP+Phd1AGlSnNmlOLOnEGIExZltWYtTc+WJiEisqMUkIiKxosQkIiKxUpKJycxOM7NfmVmnmbmZrZ7knDVmdqeZJcxsj5l90ZKevDWzMjO7KjyWCM9dleO47wjfa2LrC+P/RNI5W8xsMOW8M3MZ1yRxnm9m4ykxPJByzrT3N09x/m8ze8TM9oUx3Jr6WYjJ/cz7Zy2NmK42s6fMrMfMdprZd82sOeUcN7OBlHt3ZJ7j3GBmYykx3Jx0fJ2ZPWBm/Wa2zcwuzmd8SXE8lRJjf3j/3hUej+Remtk5ZnZf+O+837jPTPfPzOab2bfMrCu8xi1m1jTjG7t7yW3A64EPAO8AHFidcrwceAr4NlAHHApsBv5P0jlXhPsODc/5NvA4UJbHv8c7gWFgadK+LcD5Ed/f84Et0xyf8f7mKc5PAW8CqoF64AfAEynnxOF+Rv5ZmySmq4B1QAXQCvwCuC3lHAdOifjebQDumeJYPbAH+NvwM/B6oAt4b5Qxh7FdTLDIaXWU9xJ4G3Au8MEgXczu/gE3Ag8Dy4CFwM+B22d836j/ASL+x189RWI6BRgCGpP2XQS8mPT9FuCipO8bw9esz2P8dwK3pOyLww/SmRLTjPc3oriPCD8PTTG7n5F/1tKI8UygJ2Vf3BPT+cDO5AQPXA38Ogb38xng6rjcy/D/rM/m/gHzgQHgjKTjh4V/l5XTvV9JduWl4Whgk7t3J+17GFhjZvVm1gCsCvcBEJ67iWA595wzs4OAtxIsIZ/qmrDp/KSZXWZmFfmIKcVSM9sVdvP8zMyOSjo27f3Na5Svdhrwkrt3peyP7H7G4bOWptOAjZPsv9mCLvNHzOyCfAcVOs7M2s1sq5n9yMzWhPuPBh519/Gkcx8m4vtqZm8GDiFobSSLw71MNtP9O4SgJZX82X0G6GeGe1xUicnMbgr7YqfafpzmpeqB7pR93UnH6lP2JZ8z6x+sGcZ9EfC0u/82Zf8HgIMIulc+DFwIfHG2Mc0xznuBo4ADCFohzwL3mNny8PhM9zdfcSa/5iTgSwT3K1nO7measvpZywUzOwv4a+DjKYfeAhwILAU+DVxtZhflObwfA68h+Pd7AzAK3G1mdUz9OYz6vn4UuNPdNyfti8O9TDXT/cv8sxt1kzXLzc06oGWabUHK+auZvCvv48CTKfuOD8+tBxrCr49LOecp4OI8xF0NdAIfS+PafwnsjOL+prz2eeDD6dzfCD4HpwB7gXPzeT/T/Ltk9bOWg/jOCe/dqWmceyXwQMTxVhD8xv5W4OukjHcA7wO6IoxvGTACvCNO95LJu/KmvX8ELSoHWlLO6QPeOd37FdXs4u6eABJZuNRGYK2ZNbj7vnDfscBmd+8BMLOtwHGEzdSwy+Ug4LE8xH0OUEkwWD+TcSAr1W5zvL+eFMeM93cuZhOnmZ0B3Ax80N1/msZLsnY/0+Hu+7L5WcsmM/sQ8FXgTHe/P42X5PXeTcF55bO4ETjLzMr8le6oY4n2vn4Y2A7cMcN5cbiXM92/PwKDBJ/dOwHM7E+AGibv9n1FVL8ZRLkRdGFWE1Q5efhnNVAeHp+oGrsRqCXoK30RuDTpGlcAL4THasNz81IpBTwIfHOS/QcD68O/SxlwAsFYxN/n+f7+ObCc4D9OA0EF117CAc907m+e4nwPsA94+xTH43I/I/usTRPTRNXYcVMcf234A6mSYHmd08Pz89rKA84GFoVftwLfJygmWcArVWWfAarCf99O4H0R3dN5wA7g8rjcy/D/ajVBC9PDryf+P8x4/8LP6oMEXZALgduAn8/4vlH8A0S9ETZLJ9nOTzpnDXAXQbOzjWD8wZKOlwFfDo/1heeuzkPsx4axHjnJsRMIfhPpBXoIKns+DVTk+f5+E9hF0GWyG7gdeG3KOdPe3zzFuZlgzCGRsp0Us/sZyWdthpicoMsp9d5N/PLxZ+H9ShCMKWwELowgzp8B7eFncQdB63ht0vF1wH8RVI9tz8cP+2lifQ9BCyO16yuye0lQeTfZz8pT0rl/BJV53yb4xbQH+DeSql6n2jRXnoiIxEpRVeWJiEjhU2ISEZFYUWISEZFYUWISEZFYUWISEZFYUWISEZFYUWISEZFYUWISEZFYUWISiTEzOzKcEX1lyv6tZvbRqOISySUlJpF4Wwd0uPu2iR1m1gKsBB6JLCqRHFJiEom3deyfgF4LjDHTDM0iBUqJSSTepkpMz7r7QATxiOScEpNITJmZESxBnZqYjp9kn0jRUGISia81BOtZ7ZjYYWYLCdbGUWKSolVUK9iKFJl14Z8fM7NOYBHBulV1wJiZ1bp7X2TRieSIWkwi8bUOeIDg/+lG4J+A64GtwCXRhSWSW1ooUCSmzOznwGZ3/19RxyKST2oxicTXOuCxqIMQyTclJpEYMrPFwFKUmKQEqStPRERiRS0mERGJFSUmERGJFSUmERGJFSUmERGJFSUmERGJFSUmERGJFSUmERGJFSUmERGJlf8P/dfbq1yFscUAAAAASUVORK5CYII=\n",
          "text/plain": "<Figure size 432x288 with 1 Axes>"
         },
         "metadata": {
          "needs_background": "light"
         },
         "output_type": "display_data"
        }
       ]
      }
     },
     "5e350717a978471b862527719a2fe650": {
      "model_module": "@jupyter-widgets/base",
      "model_module_version": "1.2.0",
      "model_name": "LayoutModel",
      "state": {}
     },
     "5e3d74d24a4c416da2a720195cac3487": {
      "model_module": "@jupyter-widgets/controls",
      "model_module_version": "1.5.0",
      "model_name": "LabelModel",
      "state": {
       "layout": "IPY_MODEL_75dfca68760f4e21b45e616468241555",
       "style": "IPY_MODEL_86bc2ffceead48f889053616423b2be2",
       "value": "Seleccionar parámetros"
      }
     },
     "5f9a130cd9cf4dcfa427a7f32b0fd5ca": {
      "model_module": "@jupyter-widgets/controls",
      "model_module_version": "1.5.0",
      "model_name": "IntSliderModel",
      "state": {
       "description": "n_realizaciones",
       "layout": "IPY_MODEL_56ada981316c4d70b5e84e164a30d465",
       "max": 10000,
       "min": 1000,
       "step": 1000,
       "style": "IPY_MODEL_91de704fab8e4144ab4074ead87aa5ad",
       "value": 1000
      }
     },
     "602d9a4ebfec40209f4942fabf801e8d": {
      "model_module": "@jupyter-widgets/controls",
      "model_module_version": "1.5.0",
      "model_name": "SliderStyleModel",
      "state": {
       "description_width": ""
      }
     },
     "6055d3c7448a44a681efbd0fc67fc4d5": {
      "model_module": "@jupyter-widgets/base",
      "model_module_version": "1.2.0",
      "model_name": "LayoutModel",
      "state": {}
     },
     "6172d3fc38be4ed2a1168a32c6eb0d63": {
      "model_module": "@jupyter-widgets/base",
      "model_module_version": "1.2.0",
      "model_name": "LayoutModel",
      "state": {}
     },
     "618e2831f51f4f639ff7702eb82133d4": {
      "model_module": "@jupyter-widgets/base",
      "model_module_version": "1.2.0",
      "model_name": "LayoutModel",
      "state": {}
     },
     "633c9ac062af4bd3a9456daec4c7b4db": {
      "model_module": "@jupyter-widgets/output",
      "model_module_version": "1.0.0",
      "model_name": "OutputModel",
      "state": {
       "layout": "IPY_MODEL_c5379db3715b40f5a38f31ccba1a2d7c",
       "outputs": [
        {
         "data": {
          "image/png": "iVBORw0KGgoAAAANSUhEUgAAAZUAAAEVCAYAAAAo63jjAAAAOXRFWHRTb2Z0d2FyZQBNYXRwbG90bGliIHZlcnNpb24zLjQuMywgaHR0cHM6Ly9tYXRwbG90bGliLm9yZy/MnkTPAAAACXBIWXMAAAsTAAALEwEAmpwYAAAsPUlEQVR4nO3dd5hdZbn///c9PdMzSSa9kIQktISQgDQpUUBQLKgUC4IKCB7PTz0HRUENVvCA/oIHlGY7igIqKggoUcDQEwghEFoS0vtkJpPp7f7+sdaQzTBlz87aZWY+r+ta1957lWffswhzz7OeZu6OiIhIFLLSHYCIiAweSioiIhIZJRUREYmMkoqIiERGSUVERCKjpCIiIpFRUhERkcikPamY2blmtsTMas3sbYNmzGyumT1hZg1mtsHM/rPL8WFmdrOZ7Q7LuNPMKlL3E4iISKe0JxWgGrgJ+GLXA2ZWCjwI/B2oAM4GFprZR2JO+zEwDzgUmAwUA79ObsgiItIdy5QR9WZ2EvCwu1vMvguA7wMT3L0j3HctcKS7LzCzYcBu4Cx3fyA8fhCwCpjs7htS+kOIiAxxmVBT6c0cYHlnQgktAw4P388ACsJ9ALj7y0BDzDkiIpIiOekOoA+lQE2XfTXhfmJeezvnTWa2EPhWRLGJiAxpsU+WOmV6UqkFRnfZVx7uJ+a1DNjVwzlvcveFwMLYfWbmmfIIUERkoDB7Wz4BMv/x1wpgrpnFxjkPeD58/xrQBMzvPGhms4DC8FoREUmhtCcVM8s2swIgL/xcEG5ZwJ8IalNXmlm+mR0FXAT8FMDdG4FfAd82s7FmNhz4H+B+d1+fjp9HRGQoS3tSAT4JNBJ0GyZ83wic4O61wHuAMwjaSf4IXO3ud8dc/yWCmssqYH147SdTEbiIiLxVxnQpThe1qYiI9J+ZddtQnwk1FRERGSSUVEREJDKZ3qVYREQySEeHs66qvsfjqqmIiEjcGlrbWXD9oz0eV1IREZG49dWxSUlFRETi1ldfWSUVERGJW18jMJRUREQkfkoqIiKSKkoqIiISN++jqqKkIiIicVObioiIREa9v0REJDIapyIiIimjpCIiInHT4y8REYmMGupFRCQy6lIsIiIpo6QiIiLx0+MvERGJihrqRUQkMmqoFxGRyKihXkREUkZJRURE4qbHX3Ho6Oir6UlEREAN9XFpU1IREYmLJpSMQ0t7R7pDEBEZEPT4Kw7Nre3pDkFEZFBQUgGa21RTERGJQk4iF5nZTGAqMAzYCSx397ooA0slJRURkfhE9vjLzKaY2Q/NbDOwCvgb8AfgUWC3mf3LzM42M9uPeHv67tFmdoeZ7TCzGjN7wsxOiDn+bjNbYWYNZvaamZ3dn/Kb2/T4S0QkHpEMfjSz64AXgZnAlcChQBmQD4wFzgCeAK4BnjezIxIPuVs3AeOAg4ERwB+Bv5lZuZlNAf4K3ACUA18Gfmlm74i38OZW1VREROLRV00l3sdfxcAMd9/SzbHt4bYYuMrMPgocBDwXf5h9mg7c4u67AMzsZuA6YBpwJrDS3W8Pz73PzO4FLgGejqdwPf4SEYlGXDUVd/9cDwmlu3Pvdvff7l9Yb3MtcJaZjTGzXODzwGsEtac5wLIu5y8DDo+38BYlFRGRuCRl8KOZHWJmF5vZJWY2P5Ey+ukJoBXYCjQSPOK6wN2bgVKgpsv5NeH+tzCzhWbmsRuoTUVEJF6RD340s0uBF4DrgauBZ8xseRLaUTq/Lwv4J7AJqAAKgIuBB8zsMKCWoH0nVnm4/y3cfaG7W+wGevwlIhKvZNRUvg78CChz9zHAgcBSYImZHZVAeX0ZTtB9eZG7V7t7m7v/BVgLnAqsALrWluYBz8f7BaqpiIjEJxkj6iuAm9y9I/gCX+PuFxP0vrougfJ65e5VwMvAf5hZqZllmdn7gUOAZ4FfAbPN7EIzyzWzMwga72+O9zvU+0tEJBqJJJWlBF17u7qVt9cYovIBYDSwmqC95HvA5939EXd/A3g/8CWCR16LgE+7e1w9v0CPv0RE4td7VSWREfUPAD8xs23u/mzM/mkEDemRc/fXgQ/2cnwxMDvR8vX4S0QkPlGNU4n1nfC6Z8zsUYLxKFkEtYn/SKC8tFOXYhGR+PTVUJ9IUikhqBUcAcwFTiAYYV8A3GpmzxM0ni939z8kUH7K6fGXiEh8Iq+phGNDloYbAGaWTdDOMpcg2RwPXEYwN1jGU1IREYlGQrMUd+Xu7cDKcPt1FGWmktZTERGJT1QTSs6L9wvNLN/MDor3/EygmoqISHyiGqfyFzO7x8xOC0e4v42ZjTezKwi6/R7XryjTTElFRCQ+UbWpzASuAH4DFJjZcmAz0EQwGPIQ4ADgEeA8d38ssXDTQ12KRUSiEe8sxfXu/g1gAvBJglmACwjWUqkFbgQOcfd3DbSEAtDYoqQiIhKPvtpU+tVQH/b8+nO4DRr1zUoqIiLxiKxLsZk9SFBDeRZY5u4b9yuyDFLX3JbuEEREBoX+1FRagAsIZil2M6siTDDh67MDNdHUtyipiIjEI7JZit39/e4+gaAd5UzgJ0AzQaL5E7DOzLaa2S/CdU4GjLomJRURkSgkMqJ+O3B/uAFgZpUEMxQfCZwOLDWzU9x9SVSBJpMef4mIxCeSwY99fon7Dne/392vdvejge8DP4ii7FRobuugtV1jVURE+pKMRbri8WtgTpLKTop61VZERPrkgFnPx5OVVDYQtLsMGHoEJiLSN3enl5wSzYSS3XxpB8Ho+gFDSUVEZP8lq6YyoORkmR5/iYjEIXj81XNdJaGkYmYnm9nisAvxVjN7yMxOSizE9CsuyKFOo+pFRPrkTq+Pv/qdVMzsPGAxwZxf14RbHbDYzM5JKMo0K8rL0VgVEZG4eK8N9Ym0qVwFXOXusV2GF5nZ14FvAHcmUGZalQ7LpbapNd1hiIhkvGR0KZ4O3N3N/rvDYwPO8MJcqhta0h2GiMiAYL08AEskqewEZnezf054bMApL8ylpkE1FRGRvjj02qiSyOOv3wA3m9kooHMalhOA7wC3JlBe2pUX5lFdr5qKiEhf+mqoT7RNJRtYBOQSlN8M3AB8M4Hy0m54YS6vba9LdxgiIhnPPeKGendvAy43s2+yrw1ltbs3JhRhBhhemEeN2lRERPrURzt9Ql2KTzCzHHdvdPeV4dZoZjlmdkKCcaZVeWEe1WpTERGJS9QN9Q8DFd3sLwuPDTjDC3NVUxERiYN79BNKGt3XgMqAhgTKS7vywjxqGlrxvjpgi4gMcU5EE0qa2c/fLBNuMLPYNpRsYB7BssJJYWYnAt8F5hIsbbzE3T8QHns3cD1wILCJYHDmXfGWPaIoj7YOZ09jK+WFedEHLyIyWPTxt3d/Guonhq8GjCP4xd6phWBW4uv7UV7cwraavwKXESxd3A4cHh6bEh77AvB/wKnAXWa23t2fjqf8ytJ8AHbsbVZSERHpQ28TSsadVNz9lLCwXwD/6e579z+0uF0D3OLuv43Z90z4egGw0t1vDz/fZ2b3ApcAcSWVwrwcSgpy2F7bxIzRJVHFLCIy6DgRTygJ/I6YEfVmdpGZLTWzX5pZ5L+RzawIeEf4fpmZVZnZk2b2rvCUOcCyLpctI6zJxGt0aQHba5v3N1wRkUHN+8gqiSSVa4GRAGY2A7iR4Jf4fOB/EiivL8MJ4vwEcBEwBvg5cK+ZTQVKgZou19SE+9/CzBaamcdunccqS/LZsbcpCeGLiAwefTXUJ5JUpgEvhu8/BCx290sJfuG/L4Hy+tL5mO3n7r7c3Vvd/VbgDeA0gin4y7pcUx7ufwt3X+juFrt1HhtdWsAO1VRERHqVjFmKYV/7/4nAP8L3m4ERCZbX8xe57wHW8vY+B52fVxDUkmLNA57vz/dUluazvVY1FRGRvkS98uMLwKVhj6wF7EsqE0neLMU3Ap82s8PMLNvMLgSmAA8AvwJmm9mFZpZrZmcAZwI39+cLKksK2LFXNRURkd4Eywn3fDyRCSWvAP4CfBm43d1XhfvPBJYmUF48fgwUA38PX18C3uvu6wDM7P3Aj4CbCMapfDre7sSdRqumIiLSJ/eIBj/GFPiYmVUCJe5eE3PoVqC+v+XF+Z0OfDvcuju+mO7XeIlbZ5tKMANnb7dMRGToinxCSQB3b++SUHD3Ne6+LZHyMsGY0gJa2jvYVac5wEREeuTRt6lgZieb2WIz2xpuD5nZSQmGmBHGlhWQk2VsrB6Q05eJiKRMpF2Kzew8YDFBl91rwq0OWGxm5yQUYQbIyc5i/PBhbNytpCIi0hMn4kW6CFZ+vMrdfxCzb5GZfR34BnBnAmVmhEkVhWyoUlIREemJ97FIfSKPv6YDd3ez/272rQQ5IE2sKGSDaioiIj1KxuDHnXTf02oOyRunkhKTlFRERHqVjHEqvwFuNrNRwJJw3wnAdwi6FQ9YkyoK1aYiItKHSMepELSpZAOLgNyw/GbgBuCbCZSXMSZVFLK1tomm1nYKcrPTHY6ISMYJxvL1fLzfj7/cvc3dLyeYPfhwgsdeFe7+VXdvSzDOjDBlZBHusK4qKWM4RUQGvKQMfgRw90Z3XxlujX1fkfmK83MYXz6M17fXpTsUEZGM5A4WZe8vM7vbzL7Wzf4rzGzAdifuNL2ymNe3p3JRSxGRgSTix18EjfIPdLP/gfDYgDZjdDGv71BNRUSkJ1Ev0lVGMIK+qwaCdpYB7cDKEiUVEZEeeBLm/loDnNLN/lMIVmMc0KaPLmbdrnqa29rTHYqISMbpq6E+kS7FNwHXmlkB8FC471RgIXBlAuVllJmjS+hw5/XtdRw6vusqxSIiQ1tfI+oTWU/lxnA9le8B14W7m4Hr3f0n/S0v0xTl5zC9spgXNu1RUhER6UbUI+px92+Z2bXAIeGuVe4+aAZ3HDa+nJWba4BJ6Q5FRCSj9DVL8f6MU2lw96XhNmgSCsDsCWW8sGlPusMQEck4yZhQctA7bEIZr27bS1OrGutFRGI5EQ9+HAoOHluKA69u0yBIEZFYkc/9NRQU5GYzY3QJyzdUpzsUEZGME/XgxyHhqCnDeWbd7nSHISKScaIe/Bhb8AjrrfQB7B1TR/DMG7vxvlqlRESGkMgb6s0s28yuNrNqYDtwQLj/GjO7JJEgM9FRB1Swq66FNTsHVcc2EZH94njkj7++CnwK+E+gJWb/cuCCBMrLSCOL85leWczTb1SlOxQRkYzhQfevHiWSVD4FfM7d/w+I7XO7EpiRQHkZ6x0HVPDUWrWriIjEirqmMgl4uZv9bcCwBMrLWMdPH8njq3fR3qF2FRERSM4sxesIlhDu6t3AKwmUl7GOO3AktY2trNhUk+5QREQyQjKWE74JWGRmp4afDzSzy4DvA/+bQHkZq7Qgl/lThvPIKzvSHYqISEZwj7ihPpyJ+FfAPUARwYqP1wHXufvPE4oyg508s5KHX92Z7jBERDKC0/ssxQmNU3H3hcBI4CjgaGCUu383kbL6w8zuMTM3s5Ni9r3bzFaYWYOZvWZmZ0f5nQtmVbJy8x627WmKslgRkQErKXN/uXujuy9z92dSMUuxmZ0PFHbZNwX4K3ADUA58Gfilmb0jqu+dXlnM9Mpi7l+5NaoiRUQGrigW6TKz1/suKvw+98i7FZvZBOC7wPHA+phDFwAr3f328PN9ZnYvcAnwdETfzXsPG8t9L2zh08cfEEWRIiIDVlTrqfwG+G24/QEYDewB/hZuNeG+uxMPtXvhNDA/B77r7hu6HJ4DLOuybxlweJQxnDlnLM9tqGFzTWOUxYqIDDiRLCfs7ld3vjezm4Bb3P3y2HPClSBH9D/EPl0KmLvf0s2xUmBVl3014f63MbOFwLf6G8D0yhJmjSnh/he2ctEJU/t7uYjIoNHa3kF+Ts/1kUTaVM4Bbu1m/+3hsciY2TTgG8BnezilFui6kHx5uP9t3H2hu1vsFm8sZ84Zx5+f3xzv6SIig1JzWwf5Odk9Hk8kqWTT/XQsMxMoqy/vJKj9PGtmu8xsV7j/L2b2U2AFML/LNfOA56MO5KwjxvPy1lpe3KxlhkVk6Gpu6yAv4prK74DbzOzTZnZQuH0GuAX4fYJx9uQuYCpBG0nnBkHN5esE42Vmm9mFZpZrZmcAZwI3RxwHY8uGcdLMSn6/tGuzjojI0BHUVHpOHXG1qXTxRaAJuBHII5hbrAX4GXBFAuX1yN0bgIbYfeGcMzvdvRqoNrP3Az8iGOm/Cfi0u0fS86urc4+cyH/dtYKvn3EQhXmJ3DoRkYGtua2d/NwIk4q7NwNfMrMrgWnh7jVhAki6ru0g7r4YmJ2K714wq5Jhednct2IrZx85MRVfKSKSUZpbo29TAYJahLuvDLeUJJR0y8nO4hNHT+a2x9ZqRUgRGZL6evylNer76RNHT2bD7gYefU3zgYnI0NPc1q6kEqWKojzOnj+RW/69Nt2hiIikXEtbB/m5SXj8NZR95vgDeGptlboXi8iQ09zWQV62aiqRmjyiiNMPG8uif76e7lBERFKqqTXix19mVmhmV5vZ42a22szWxm77Fe0A8qV3z+Bfr+zg+Y016Q5FRCRlGlraKcrvueNwIoMtfgq8D7gT2EKcsxcPNtMri/ng4eO57u+v8pvPRjbTvohIRqtraqM44qTyPuCccHzIkPbFdx/Igusf4Yk1uzh22sh0hyMiknR1zW0UF/ScOhJpU2kBNFcJMLGikI+/YzLfue9l2juGZIVNRIaYuua2Xh9/JZJUbiRYBEsI2la21zZxx9Pr+z5ZRGQAc3fqm6N//DUZ+LCZLSCYJbily5denECZA1ZZYS6XnzaTax54hffOHkdFUV66QxIRSYrmtg7aOrzXpJJITWU6QTKpIUgwB8Zs0xMob8A7e/5EJo8o5Pv3v5zuUEREkqamoRWAsmG5PZ6TyISSJyce0uCUnWVcc9ZsPnDjY7x39lhOnlmZ7pBERCJXVd8M0OsTGQ1+jMjB40q57KTpfO2PK6ltak13OCIikdtd30JJQU7ki3RhZieb2WIz2xpuD5nZSQnGOWh8/uTplBfm8t37VqU7FBGRyFXVtTCij3bjPpOKmS0ws8KYz+cBiwnWgb8m3OqAxWYW6Rr1A01eThbXnz2HPy/fwn0vbEl3OCIikaqqb2FEcX6v58RTU5kF/MvMysPPVwFXuftZ7r4o3D4EfBP4xv4EPBgcMq6MK997EF/740rWV9WnOxwRkchU1TX32cO1z6Ti7jcRrEv/SLhrOnB3N6fezRDt/dXV+cdM5tjpI/iPO5bT3Nae7nBERCKxu76FkcX7mVQA3H0R8IXw4066X753TnhsyDMzfvjhOexpbOXKe17UKpEiMihU1bfsf02lk7svCd/+BrjZzC4xs4PD7XMEE03+X8LRDjJlhbnc9qn5PPjiNm5b8ka6wxER2W/b9jQxurSg13MSGVF/FZANLAJyAQOagRsI2lUkNGN0CTecdzgX//pZplUWsWDW6HSHJCKSsI3VDUwcXtjrOf3uUuzube5+OTAcOJzgsVeFu3/V3dsSCXQwWzBrNF95z0y+cMdyXthUk+5wREQSsreplZqGViZWDOv1vIQHP7p7o7uvDLfGRMsZCi5651TOOXISF/xiKat31KU7HBGRfttUHfyan9BHTSWux19m9g/go+6+J3zfI3c/Nc4Yhwwz46r3HkRNQwvn3/40f7j0WMaV957tRUQyycbdDYwszqcgN7vX8+KtqWwGOmLe97ZJN7KyjGs/MpuDx5Vy3q1PsblGlTsRGTjWVzUweUTvtRQAG+rdXc3MU3kPmtva+fxvl/PKtlp+d9HRTKzo+z+SiEi6/ffdK8jNzuIHZx0GBE9g3N26nqcJJVMsPyebmz5+BIeOK+Ocm59k3S6NuheRzPfa9r3MHF3c53n9TipmdreZfa2b/VeY2Z39LW8oysvJ4icfm8sRk4fzkZ89wYqNNekOSUSkRx0dzuvb65gxpqTPcxOpqZwAPNDN/gfCYxKH3Owsbjh3Lu+fM55zb3mKf72yPd0hiYh0a+2uehpb2zloTGmf5yaSVMoIZiXuqoFg7EqkzOxaM3vJzGrNbIuZ3W5mI7qcM9fMnjCzBjPbYGb/GXUcyZCVZXzzzIP5r1NncPGvn+W3WudeRDLQc+urmTqyiOFxLJeeSFJZA5zSzf5TgGTMR9IOfAIYQTDYciLwy86DZlYKPAj8HagAzgYWmtlHkhBLUnz2nVNZdO5cvn3vKq7680pa2jr6vkhEJEWeXV/NEZPjqzMkklRuAq41sy+Z2aHh9mWCdVVuSqC8Xrn71919ubu3uvsOgulgTow55SyCxPMdd29y96eAW4HLoo4lmd47eyx/vPRYHn5lJx+79Sl27G1Kd0giIgA8t6GaeclKKu5+I/Bj4HvAinD7LrDI3X/S3/IS8K7wOzvNAZa7e+yf98sIajUDyqHjy7j3C8eTl5PFmT95jKfXVqU7JBEZ4qrrW3h9Rx1HTEpeTQV3/xYwEjg63Ea5e9IX6DKzs4HPAv9fzO5SoKbLqTXh/q7XLzQzj92SFWuiKory+PWnj+KsIybw8due5kf/eJW2dj0OE5H0ePS1nYwuzWdGHN2JYf/m/mpw96XhlvTBFmZ2LnAz8H53fy7mUC1B54FY5eH+t3D3he5usVvSAt4POdlZfPU9s/jVp4/i90s3cs4tT7Fxd0O6wxKRIehfr+zg5JmVmMX36zKRcSqFZna1mT1uZqvNbG3s1u+I4/vOzxC017zP3R/ucngFMNfMYn+WecDzyYgllY6bPpIHv3gCwwtzOWPREn73zAYt+CUiKdPW3sGjr+3k5FmVcV+TyHoqPwXeB9wJbAGS+lsu7B78TeBUd1/WzSl/Aq4FrjSzHxK0sVwEfC6ZcaVKRVEet54/n7uXbeI7f1vFfS9s4ZqzZmt6FxFJusfXVNHS1sHx00fGfU2/5/4ysyrgHHdf3M/4EhK2e7QRLAQW62B33xCeM5egJnM4sAv4H3e/Id7yB8pf/9v2NHHlPSt5Yk0Vl582k/OPmUxOtmbaEZHk+NKdzwPw43MOf9uxnub+SiSpbAVOdPfXEgky0wykpALg7vx1xRauvncVo0sL+PYHDuHIKRXpDktEBpm65jaO/O5ifvbJeZw4Y9Tbjkc5oeSNwCUJXCcRMDM+cPh4Hv6vkzhqynDOveUpvnTn8+yo1bgWEYnOXUs3MqI4r1+PviCxmsqtwIeB9QSN5C2xx9394n4VmGYDrabS1aottXzrry/y8ta9XHrSNC48bgqFeYk0lYmIBNo7nJOve4Tzj5nMZ985tdtzonz81bX3VSx39wX9KjDNBnpSgX2PxK77x6s0tXbwxXcfyNnzJ5Kr9hYRScCDL27lv+5awZNffxelBbndnhNZUhlsBkNS6dTS1sEdT6/nJ/9aTemwXP771JmcfugYsrIycjiOiGSg9g7n9EX/ZsGs0Vxx+qwez1NS6cFgSiqd6prbuPXfa7ltyVrGDx/G50+ezvtmjyNbyUVE+vDHZzdx9b0vseQrCygr7L6WAtE+/nqDXsamuHv3D+Ay1GBMKp2q61v4xRPr+MXjbzCqOJ/LTp7OBw4fp8diItKtvU2tnPKjf3PhcVO45MRpvZ4bZVK5ssuuXIIR7McTTCq5sF8FptlgTiqdapta+b8n13PbkrUU5edw4XEHcPb8CZT08KxURIamhX99iSfW7OK+L7yTvJze//hM+uMvM/sqMMHdvxBJgSkyFJJKp/rmNn6/dCO/fOINaupbOfvIiVxw7BSNzhcRnl5bxcdue5o7Lz6a+XGMfUtFUpkGLHX3ATUSbygllU7tHc5Dq7Zx+2Nv8Oz6ak47ZAznHzOFo6dWxD1pnIgMHrvrWzhj0RLOOmI8X3lPz43zsVKRVD4C/K+7j4mkwBQZikkl1gubavj5Y29w/8ptTBg+jPOOmsSH502gIo5lQ0Vk4Gtr7+Czv15GbWMrd15yTNxtrlG2qdzSdRcwDng3cKO7f7lfBabZUE8qnXbXt/Cn5zZxxzMb2LS7kfccOoZzj5rI0QeMUJdkkUHK3fnGX17koVXbueey4xhXPizua5M5+LED2AEsBn7l7m39KjDNlFTeyt15+o3d/O6ZDTywchujSvL54NxxfGjueKZXlqQ7PBGJ0E8fWcP//ut17vrcMRwyruuyVL3TOJUeKKn0rKahhftXbuOe5ZtYuq6aw8aX8aG54zlzzjhGleSnOzwR2Q83P7qG6x96jVvPn9/thJF92e+kEi7l+2d3b+nz5AFESSU+G3c38Oflm7ln+WbW727gmKkjOP2wMZx68BglGJEBxN254Z+ruemR1dySYEKBaJJKOzDW3XeEn18GTutc02SgUlLpH3fnhU17uH/lVh54cRubqhs4ckoFZxw2ltMOGcOYsoJ0hygiPWhua+drf1rJQy9t5+ZPzuPYfs5AHCuKpNIBjIlJKnuBOe6elCWEU0VJJXHuzktbannwxW3c/+JW1u6s54hJ5bzroNEsmFXJrDEl6qIskiG27Wni83c8x869zfz8gvn73UaqpNIDJZVouDuv76jjwRe38a9XdrBiUw1jSws4eVYlC2ZVcuy0kQzLy053mCJD0oMvbuOKP73AoePKuOG8uZEMGYjq8dcYd98Zft4LzHb3N/Y7ujRSUkmOXXXNPPLqTh5+ZQf/fm0nLe0dHDNtBCfOGMXx00cyvbJYtRiRJKtpaOEH97/CPcs3c/lpM/nM8QdENkQgqprKv9m3KNfJwFNAY+x57n7q/oWaWkoqydfa3sGyddU8/OoOlry+i5e31lJZks9x00dy7LQRHDd9ZL/6x4tI7zo6nD8+t4kfPPAKY8sKuPbDszl0fP+6DPcliqTyi3jOc/cL+xlbWimppN6uumaeXFPF46t38djqXWyqbmTqyCKOnT6CdxwwgiOnVKjBXyRBT6+t4od/f5XXtu3lv0+bySeOnpyUZS80TqUHSirpt6GqgcfX7OLx1btYum4322ubmTB8GEdNqWD+lAqOnDKcaaOKNbJfpBcrNtZw3T9e5ck1VZx95ES++K4DqSxN3h9nSio9UFLJLO7OpupGlq7bzdJ11Sxdt5vVO+oYXpjLvMkVHDG5nMMnlHPohLIelzkVGSo6OpxHX9vJbY+t5ck1VXxw7ni++K4ZTBqR/JnHlVR6oKSS+XbXt/Ds+iDBLN9QzYuba2lsbWfaqCLmTCxnzoRy5kws56CxJeTnqIeZDH57Glv564ot/OLxN9ha08RH5k3gwuOmMHVUccpiUFLpgZLKwNPW3sHrO+pYsbGGFZv2sGJjDa9u30uWwUFjSzl0fBkHjy3loLGlzBpTQlF+TrpDFtlv7R3OE2t2cfeyTfz9pW2MLM7n40dP4mNHTaK8MPWziiup9EBJZXBobGln1dY9PL9xDy9t3sOqrbWs3lFHuztTRhRx0NgSDhpTysHjgmQztqxAXZol47W1d7B0XTV/f2kbD764jZrGFk4/dCwfnTeBo6emdwZxJZUeKKkMXs1t7azeUcfLW/eyakstL2+t5eVttdQ0tFI2LJcZo4uZXlnM9MoSDqwM3ivZSLrtaWzlyTW7ePiVnTz08nbqm9s4YcYoTjtkDKcdMjpjlgFXUumBksrQ4u5s3dPEK9uCmszr2+tYvbOO1dvr2NvcRnF+DtNGFQWJZnQx00cVM2VkERMrhqm9RpKiua2dFzbtYcnru1jy+k5WbKyhbFgu7zwwSCQnzRyVkY9wlVR6oKQiECSb7bXNQaLZsTd8rWPNjjqq6lswg3Flw5gyspDJI4qYMqLztYhJFYWagkbitnNvM89tqOa59dU8u76aFzbvAYf5U4Zz/IEjOeHAURw8tjTju9ArqfRASUX6UtvUyoaqBtZV1bO+qoF1u8LXqnp27G0GYExpARMrhjG+fBjjhw9jfHkh48oLmBC+V9IZejprxau21LJqa/D49aUttWzY3UBFUR5HTBrOvMnBNntCGQW5A+vfiJJKD5RUZH/UN7e9mWA2VTewpaaJTdWNbK5pZHN1A7VNwUKoFUV5QcIJk87YsgIqSwuoLMlndGkBo0vzKczLvEcc0rf2DmdzdSNrdtWxdmc9a3fWsWZnHa9s20tNQyvDC3ODDiJhR5G5k4YzZUThgG+7G9RJxcyygO8CnwGKgMeAS9x9fRzXKqlI0uxtamVLTRObaxrYXN3IpppGNlc3sr22ie21zWyvbaK5rQOA4vwcKkvzGV1SELyGSWdUST4jivKpKMpjRHEewwvzyMvJSvNPNnS4O7vrW8I/FII/GDr/cFhfVc+6qgZa2jooLchh6qhipo4qYtqoYmaNKeHgcaWMKR2cnT8Ge1K5ArgEeA+wGfgRcDRwuLt39HGtkoqkjbtT29TGjtomduxtfjPZ7NjbxI4w6ezY20x1fQt7m9vevK6kIIeKorwg0YSvFUX5jCjKo7wwl5KCXEqH5VBakEvZsFxKC3IpLshJyhxQieh8nDhlRFFKRn93p7mtner6VnbVNbOzrpmde5uD93ub2VXXws69Tezc28yWmiYaW9sxg9ElBeHjzaDGObmi8M1EMqIob1Amj54M9qSyDrjW3X8afi4HtgOnuPu/+7hWSUUGhM5fglX1zeyub3nLVlXfQnX4WtPQwt6mNmobW6lvaX9LGcX5OZQW5FAaJpqSghwK83MozM1mWF42heE2LC9n3/vcbArzchgWvs/LySIvO4vcHCM3O4vc7OBzTraRk2V9/mK95dE1/PTRNbR1ODlZxqUnTuPiE6f1eH5Hh9PW4bR1dNDa7rS2d9DY0k5TazsNLe00trbTGL7u+9xGXXM7tY2t7Am3t7xvaqWpdd/fmxVFeYwszmNUST4ji/MZVZzPyJLgdVz5MCYMH8aYsgJys1VD7DRok4qZlQE1wFHuvjRm/0vAze5+Qx/XK6nIoNXW3sHeprYgyTQFv1iD132f61vCX8YtbW/+Ug4+d75ve/NzW0ff/6/kZWeRm23k5mSRHSaY4MXo6HCqG1qILcUMRhbnk2XQFiaNts5E0t5BX18ZJL1sCnI7E2KQ/IrycygbFtbUOl8L9u0rK8xleGFQy1Oy6L+ekspgaBksDV9ruuyviTkGgJktBL6V9IhEMkROdhbDi/IYHsFKfwAtbR1BjaHNaWnvoDVma2nrTAjB+5b2DjrcwcHDNLJy0x5+9ugaGmNqCfk5WXzsqIkcOr6cnCwLazz7aj65MbWgzv2FYU0qPydrSD1yGggGQ1KpDV+7rkBTHnMMAHdfCCyM3WdmqqaIxCkvJ4s8siDBHDV9VAm/fGLdW5LKsNxsPnzExLS1rUi0Bnydz933AOuB+Z37wkdi04Dn0xSWiHRj0ohCLj1xGsMLg/ac4YW5XHbSdCWUQWTAt6nAm72/LgJOJ+j9dT1wLOr9JZKRNlQ1sH53PZMr0tf7S/bPoG2ohzfHqXyPt49TWRfHtUoqIiL9NKiTyv5QUhER6b+eksqAb1MREZHMoaQiIiKRUVIREZHIKKmIiEhklFRERCQySioiIhIZJRUREYmMkoqIiERGSUVERCKjpCIiIpFRUhERkcgoqYiISGSUVEREJDJKKiIiEpnBsJzwftMa1yIi0Rjy66nIPuHaMsqw6F7E0r3YR/eib3r8JSIikVFSERGRyCipiIhIZJRUJNbV6Q4gg+he7KN7sY/uRR/UUC8iIpFRTUVERCKjpCIiIpFRUhkizCzLzL5vZtvNrM7MHjSzyT2ce7SZ/S08t9bMnjOzs1Idc7L05150uW6embWa2SMpCDMl+nsvzGyYmV1vZpvMrN7MVpvZ6amMOVkSuBcfN7OV4f8jm8zs/zez/FTGnImUVIaOrwDnAScAY4ANwL1m1t2/gQrgTuAQoBz4HnCHmR2VmlCTrj/3AgAzKwB+CTyaigBTKO57YcHUE/cQ/Lt4p7sXAScBL6cs2uTqz72YA/yaoOG+DDgOOA24KmXRZig11A8RZrYOuNbdfxp+Lge2A6e4+7/juH4ZcIe7/yiZcaZCIvfCzK4HsoEa4CR3PykVsSZbf+6FmZ0K/AWY6O67Uhxq0vXzXnwIuMXdR8Xsuw6Y6e5npizoDKSayhBgZmXAZGBZ5z53rwFWA4fHcf044CBgRXIiTJ1E7oWZnQC8D/h68iNMnQTuxQLgDeAqM9tmZuvM7CdmVpyCcJMqgXvxd+ANMzvXzLLNbBpwJvCn5Eeb2ZRUhobS8LWmy/6amGPdCn9h/Am4193/GXlkqdevexH+/D8HLnL3hqRGlnr9/XcxkuCPC4CpBI+JjgGuT0JsqdavexH+W7gd+BnQTJB8niR4JDakKakMDbXha1mX/eUxx94m/OvtQWArcH5SIku9/t6L64D743lEOAD1917sBdqBK9y9wd03ANcCH0xWgCnUr3thZp8CfkBQO8kDxhEk3V8lL8SBQUllCHD3PcB6YH7nvjBhTAOe7+4aMxsB/BPYCHzU3VuSH2nyJXAv3gOcb2a7zGwXQWPuceHnA1IQctIkcC+e67w0tphkxZdKCdyL+cDD7r7E3TvcfStwC/CBFISb0ZRUho6fAZeb2QwzKyL4C/M14LGuJ5rZGIJeTi8AH3f3tpRGmnxx3wvgaOBQgufqh4fXLgvfb0hBrMnWn3txD0HD9ffMLD9sa/sK8IeURZtc/bkXS4CTzOwYC1QCFwPPpi7czKSkMnT8ELiL4H+QHcABwPvdvcPM3hn2y58UnnsJQbfRc4Da8Fidmf0sLZFHL+574e7b3H1T50bwKKQ5/Nyetp8gOv25F3XAqcA8oAp4BngcuDwtkUevP/fiLuDbwC8I/k2sBOqBT6Yl8gyiLsUiIhIZ1VRERCQySioiIhIZJRUREYmMkoqIiERGSUVERCKjpCIiIpFRUhERkcgoqYiISGSUVEQyiJkVhKtLXmFmj5pZQ7iq4GXpjk0kHkoqIpllNpADfI5gSvnDgN8D/2tmh6UzMJF4KKmIZJYjwtez3f2v7r4G+CrQQLBkrUhGU1IRySxzgUfd/ZnOHeHElfWApS0qkTgpqYhkliPYt24JAOFStZVoWnUZAJRURDKEmeUQrN3S9f/LrxKsbbM05UGJ9FNOugMQkTcdDBQAHzCz+4E1wGcJ1ug4wbVOhQwASioimWMusBX4D4JVCMcRrDK5wN1VS5EBQYt0iWQIM1sEHOjuZ6Q7FpFEqU1FJHPMBVakOwiR/aGkIpIBzMyAOcDzaQ5FZL/o8ZeIiERGNRUREYmMkoqIiERGSUVERCKjpCIiIpFRUhERkcgoqYiISGSUVEREJDJKKiIiEpn/B3sK6V0hvE8qAAAAAElFTkSuQmCC\n",
          "text/plain": "<Figure size 432x288 with 1 Axes>"
         },
         "metadata": {
          "needs_background": "light"
         },
         "output_type": "display_data"
        }
       ]
      }
     },
     "668c607a165344c48b75ba366e46cea3": {
      "model_module": "@jupyter-widgets/controls",
      "model_module_version": "1.5.0",
      "model_name": "IntSliderModel",
      "state": {
       "description": "n_realizaciones",
       "layout": "IPY_MODEL_0ed25e181f2246a89fbf4153757cc6ea",
       "max": 10000,
       "min": 1000,
       "step": 1000,
       "style": "IPY_MODEL_e6d1b3a91d574b43ba6b6ba90a9d9079",
       "value": 1000
      }
     },
     "691db9239eec4654862d9ac48affa1fe": {
      "model_module": "@jupyter-widgets/base",
      "model_module_version": "1.2.0",
      "model_name": "LayoutModel",
      "state": {}
     },
     "6b41b2a66dcd40eab26497ac72730a39": {
      "model_module": "@jupyter-widgets/base",
      "model_module_version": "1.2.0",
      "model_name": "LayoutModel",
      "state": {}
     },
     "6cec0c44e054495aac7596582e485967": {
      "model_module": "@jupyter-widgets/controls",
      "model_module_version": "1.5.0",
      "model_name": "SliderStyleModel",
      "state": {
       "description_width": ""
      }
     },
     "6dc5635e50dd4f818fbb2559d410b6da": {
      "model_module": "@jupyter-widgets/controls",
      "model_module_version": "1.5.0",
      "model_name": "VBoxModel",
      "state": {
       "children": [
        "IPY_MODEL_1de1ffb469884f76863659a6820c990b",
        "IPY_MODEL_9be878fc569a4e06a6e902cc9cefebcd",
        "IPY_MODEL_c84288021471426e84a7934fffe7a2f1",
        "IPY_MODEL_b17cfc1135b74155a3c56dec13d6b14d",
        "IPY_MODEL_4ff904c938b44a56896364c88b18eb6b",
        "IPY_MODEL_2c40e39a9a8a47029435cd1b049c56bc",
        "IPY_MODEL_fda0422118024d24b8176e49c2deee1f",
        "IPY_MODEL_0712d10966e94faebb1e05198c97f03f"
       ],
       "layout": "IPY_MODEL_0de8f3ab10494dea80ac3301a2bb71dc"
      }
     },
     "74cdfc9fa5954ccaa44f131d6f64b04c": {
      "model_module": "@jupyter-widgets/base",
      "model_module_version": "1.2.0",
      "model_name": "LayoutModel",
      "state": {}
     },
     "757e550e40f14a11b8d3b73c255e9903": {
      "model_module": "@jupyter-widgets/base",
      "model_module_version": "1.2.0",
      "model_name": "LayoutModel",
      "state": {}
     },
     "75dfca68760f4e21b45e616468241555": {
      "model_module": "@jupyter-widgets/base",
      "model_module_version": "1.2.0",
      "model_name": "LayoutModel",
      "state": {
       "display": "flex",
       "justify_content": "center"
      }
     },
     "7672c459205c4f5dab670704f9eaae46": {
      "model_module": "@jupyter-widgets/base",
      "model_module_version": "1.2.0",
      "model_name": "LayoutModel",
      "state": {}
     },
     "76bee7d4895d48b491369a307710df10": {
      "model_module": "@jupyter-widgets/controls",
      "model_module_version": "1.5.0",
      "model_name": "SliderStyleModel",
      "state": {
       "description_width": ""
      }
     },
     "7a46d7bc37784757a7cc1b5585c27ac0": {
      "model_module": "@jupyter-widgets/controls",
      "model_module_version": "1.5.0",
      "model_name": "IntSliderModel",
      "state": {
       "description": "k",
       "layout": "IPY_MODEL_29973073ed594d58badd8601d0ae7169",
       "max": 11,
       "min": 1,
       "style": "IPY_MODEL_f71ea87cbf374907934539bc67e4447d",
       "value": 8
      }
     },
     "7f8284f4c5204ff8b0e81116ac623c88": {
      "model_module": "@jupyter-widgets/controls",
      "model_module_version": "1.5.0",
      "model_name": "SliderStyleModel",
      "state": {
       "description_width": ""
      }
     },
     "80d5ee8738ea4438b3da424f13688629": {
      "model_module": "@jupyter-widgets/base",
      "model_module_version": "1.2.0",
      "model_name": "LayoutModel",
      "state": {
       "align_items": "center",
       "display": "flex",
       "width": "100%"
      }
     },
     "8651306b2fc5405ca0b92f60d6e1e30e": {
      "model_module": "@jupyter-widgets/controls",
      "model_module_version": "1.5.0",
      "model_name": "SliderStyleModel",
      "state": {
       "description_width": ""
      }
     },
     "86bc2ffceead48f889053616423b2be2": {
      "model_module": "@jupyter-widgets/controls",
      "model_module_version": "1.5.0",
      "model_name": "DescriptionStyleModel",
      "state": {
       "description_width": ""
      }
     },
     "87dbf6a411424f0a8afd30e88722ded1": {
      "model_module": "@jupyter-widgets/base",
      "model_module_version": "1.2.0",
      "model_name": "LayoutModel",
      "state": {
       "align_items": "center",
       "display": "flex",
       "width": "100%"
      }
     },
     "8b2f4b69971842078a95101538052d75": {
      "model_module": "@jupyter-widgets/base",
      "model_module_version": "1.2.0",
      "model_name": "LayoutModel",
      "state": {
       "align_items": "center",
       "display": "flex",
       "width": "100%"
      }
     },
     "8c70fb9fa3b548f399b3b196b189895d": {
      "model_module": "@jupyter-widgets/base",
      "model_module_version": "1.2.0",
      "model_name": "LayoutModel",
      "state": {}
     },
     "8c94a8bd99f44783ab811b6cae358935": {
      "model_module": "@jupyter-widgets/base",
      "model_module_version": "1.2.0",
      "model_name": "LayoutModel",
      "state": {
       "display": "flex",
       "justify_content": "center"
      }
     },
     "8d9e9c5fcf4f4243bcbbb685cea045cc": {
      "model_module": "@jupyter-widgets/controls",
      "model_module_version": "1.5.0",
      "model_name": "FloatSliderModel",
      "state": {
       "description": "sigma",
       "layout": "IPY_MODEL_03ac090a7d9a4874899ec2d7a29a911b",
       "max": 11.4,
       "min": 0.4,
       "style": "IPY_MODEL_bbb407c37ac04ad6b3162f09748b0173",
       "value": 1.4
      }
     },
     "90b3fda3c9f04cbeac91f55ba5475271": {
      "model_module": "@jupyter-widgets/controls",
      "model_module_version": "1.5.0",
      "model_name": "SliderStyleModel",
      "state": {
       "description_width": ""
      }
     },
     "91de704fab8e4144ab4074ead87aa5ad": {
      "model_module": "@jupyter-widgets/controls",
      "model_module_version": "1.5.0",
      "model_name": "SliderStyleModel",
      "state": {
       "description_width": ""
      }
     },
     "91ea9a944dc14aafb2293337bb511fe9": {
      "model_module": "@jupyter-widgets/controls",
      "model_module_version": "1.5.0",
      "model_name": "IntSliderModel",
      "state": {
       "description": "n",
       "layout": "IPY_MODEL_a262d59b096b4c36a561ccf316fb7db2",
       "min": 2,
       "style": "IPY_MODEL_6cec0c44e054495aac7596582e485967",
       "value": 2
      }
     },
     "925eb9aa8a2c4373a7e77319f40168fd": {
      "model_module": "@jupyter-widgets/controls",
      "model_module_version": "1.5.0",
      "model_name": "FloatSliderModel",
      "state": {
       "description": "x1",
       "layout": "IPY_MODEL_d0b0351d1d7747df98b6ea1754310ff5",
       "max": 20,
       "min": 0.1,
       "step": 0.1,
       "style": "IPY_MODEL_500562c1d3ba48ab9c1bde64a8c58eb1",
       "value": 7.9
      }
     },
     "92994bfd13d44045be337906739eec0f": {
      "model_module": "@jupyter-widgets/controls",
      "model_module_version": "1.5.0",
      "model_name": "FloatSliderModel",
      "state": {
       "description": "sigma2",
       "layout": "IPY_MODEL_47b4726ef1d04d289c4664fd5f2b4dd7",
       "max": 3,
       "min": 0.1,
       "step": 0.1,
       "style": "IPY_MODEL_f01d4f7642f34ddb9104652625a544b6",
       "value": 1.7
      }
     },
     "92fbe2be8597439da4a48121174e5e1d": {
      "model_module": "@jupyter-widgets/base",
      "model_module_version": "1.2.0",
      "model_name": "LayoutModel",
      "state": {}
     },
     "9720d3d6711646989ac08608991c56e1": {
      "model_module": "@jupyter-widgets/base",
      "model_module_version": "1.2.0",
      "model_name": "LayoutModel",
      "state": {
       "align_items": "center",
       "display": "flex",
       "width": "100%"
      }
     },
     "97ab46505e4048bfaa9e3b1a3a59fe29": {
      "model_module": "@jupyter-widgets/controls",
      "model_module_version": "1.5.0",
      "model_name": "SliderStyleModel",
      "state": {
       "description_width": ""
      }
     },
     "9a9c2b078f6243ae82677628096439eb": {
      "model_module": "@jupyter-widgets/base",
      "model_module_version": "1.2.0",
      "model_name": "LayoutModel",
      "state": {
       "display": "flex",
       "justify_content": "center"
      }
     },
     "9bc436903349466b85ad9aa238747e53": {
      "model_module": "@jupyter-widgets/controls",
      "model_module_version": "1.5.0",
      "model_name": "FloatSliderModel",
      "state": {
       "description": "rho",
       "layout": "IPY_MODEL_154b18ed36e745bc93d802dc91a1e291",
       "max": 0.9,
       "min": -0.9,
       "step": 0.1,
       "style": "IPY_MODEL_90b3fda3c9f04cbeac91f55ba5475271"
      }
     },
     "9be878fc569a4e06a6e902cc9cefebcd": {
      "model_module": "@jupyter-widgets/controls",
      "model_module_version": "1.5.0",
      "model_name": "FloatSliderModel",
      "state": {
       "description": "mu1",
       "layout": "IPY_MODEL_52b422be1eb845cd9c33f5a2f6c87212",
       "max": 5,
       "min": -0.5,
       "step": 0.1,
       "style": "IPY_MODEL_8651306b2fc5405ca0b92f60d6e1e30e",
       "value": 2.3
      }
     },
     "9c16374b3c354be69430b8abc890de2d": {
      "model_module": "@jupyter-widgets/controls",
      "model_module_version": "1.5.0",
      "model_name": "FloatSliderModel",
      "state": {
       "description": "x1",
       "layout": "IPY_MODEL_8c70fb9fa3b548f399b3b196b189895d",
       "max": 13.38,
       "min": -13.38,
       "style": "IPY_MODEL_a4ac3e8a8af44b5b8d55e5b425a5b2dc",
       "value": 3.38
      }
     },
     "a0396d9633564086a7f6d0e1783630c4": {
      "model_module": "@jupyter-widgets/base",
      "model_module_version": "1.2.0",
      "model_name": "LayoutModel",
      "state": {}
     },
     "a15f17fe28484a48801bf9687ceeb05c": {
      "model_module": "@jupyter-widgets/base",
      "model_module_version": "1.2.0",
      "model_name": "LayoutModel",
      "state": {}
     },
     "a262d59b096b4c36a561ccf316fb7db2": {
      "model_module": "@jupyter-widgets/base",
      "model_module_version": "1.2.0",
      "model_name": "LayoutModel",
      "state": {}
     },
     "a2849400bfaa499b92aad059638838ef": {
      "model_module": "@jupyter-widgets/controls",
      "model_module_version": "1.5.0",
      "model_name": "SliderStyleModel",
      "state": {
       "description_width": ""
      }
     },
     "a4ac3e8a8af44b5b8d55e5b425a5b2dc": {
      "model_module": "@jupyter-widgets/controls",
      "model_module_version": "1.5.0",
      "model_name": "SliderStyleModel",
      "state": {
       "description_width": ""
      }
     },
     "a84dd47f6ae948a59b1d36249a9f8ea4": {
      "model_module": "@jupyter-widgets/controls",
      "model_module_version": "1.5.0",
      "model_name": "SliderStyleModel",
      "state": {
       "description_width": ""
      }
     },
     "abb31028ffc24895ab50f5fe57ccfd53": {
      "model_module": "@jupyter-widgets/base",
      "model_module_version": "1.2.0",
      "model_name": "LayoutModel",
      "state": {
       "display": "flex",
       "justify_content": "center"
      }
     },
     "aff797ac5e1f4a10a581c050474438a2": {
      "model_module": "@jupyter-widgets/base",
      "model_module_version": "1.2.0",
      "model_name": "LayoutModel",
      "state": {}
     },
     "b17cfc1135b74155a3c56dec13d6b14d": {
      "model_module": "@jupyter-widgets/controls",
      "model_module_version": "1.5.0",
      "model_name": "FloatSliderModel",
      "state": {
       "description": "sigma1",
       "layout": "IPY_MODEL_757e550e40f14a11b8d3b73c255e9903",
       "max": 2,
       "min": 0.1,
       "step": 0.1,
       "style": "IPY_MODEL_a84dd47f6ae948a59b1d36249a9f8ea4",
       "value": 1.2
      }
     },
     "b2cfb2d8cc3d4d3dbca179a22eb3b75b": {
      "model_module": "@jupyter-widgets/base",
      "model_module_version": "1.2.0",
      "model_name": "LayoutModel",
      "state": {}
     },
     "b5e7409f23774501a74947329fe73c83": {
      "model_module": "@jupyter-widgets/output",
      "model_module_version": "1.0.0",
      "model_name": "OutputModel",
      "state": {
       "layout": "IPY_MODEL_618e2831f51f4f639ff7702eb82133d4",
       "outputs": [
        {
         "data": {
          "image/png": "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\n",
          "text/plain": "<Figure size 576x288 with 1 Axes>"
         },
         "metadata": {
          "needs_background": "light"
         },
         "output_type": "display_data"
        }
       ]
      }
     },
     "b71492735ba94db7abec3411f6d53e62": {
      "model_module": "@jupyter-widgets/output",
      "model_module_version": "1.0.0",
      "model_name": "OutputModel",
      "state": {
       "layout": "IPY_MODEL_5958ebb10a7e4df89eebe3785457389c",
       "outputs": [
        {
         "data": {
          "image/png": "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\n",
          "text/plain": "<Figure size 432x288 with 1 Axes>"
         },
         "metadata": {
          "needs_background": "light"
         },
         "output_type": "display_data"
        }
       ]
      }
     },
     "bbb407c37ac04ad6b3162f09748b0173": {
      "model_module": "@jupyter-widgets/controls",
      "model_module_version": "1.5.0",
      "model_name": "SliderStyleModel",
      "state": {
       "description_width": ""
      }
     },
     "bc07ae6873754eb08e73c08a253c9dcc": {
      "model_module": "@jupyter-widgets/base",
      "model_module_version": "1.2.0",
      "model_name": "LayoutModel",
      "state": {}
     },
     "bf0e5713c6104b79a858fc546dbd35c4": {
      "model_module": "@jupyter-widgets/controls",
      "model_module_version": "1.5.0",
      "model_name": "FloatSliderModel",
      "state": {
       "description": "x",
       "layout": "IPY_MODEL_e4764190c0084d2a8e6ec9a37a9f2366",
       "max": 107.2,
       "min": -107.2,
       "step": 10,
       "style": "IPY_MODEL_dacbe5fc594b4aae96bc665b486c099b",
       "value": 37.2
      }
     },
     "bfd3377a124f48d1bd183da9c2f73770": {
      "model_module": "@jupyter-widgets/base",
      "model_module_version": "1.2.0",
      "model_name": "LayoutModel",
      "state": {}
     },
     "c00fe5b33ef94646a8b7882fbd1ef0f1": {
      "model_module": "@jupyter-widgets/controls",
      "model_module_version": "1.5.0",
      "model_name": "VBoxModel",
      "state": {
       "children": [
        "IPY_MODEL_266e64067fc9451283051c71854c558b",
        "IPY_MODEL_5f9a130cd9cf4dcfa427a7f32b0fd5ca",
        "IPY_MODEL_91ea9a944dc14aafb2293337bb511fe9",
        "IPY_MODEL_441e2dd92be24cab95c9f9d8be268429",
        "IPY_MODEL_b5e7409f23774501a74947329fe73c83"
       ],
       "layout": "IPY_MODEL_8b2f4b69971842078a95101538052d75"
      }
     },
     "c2591b6fc03943ae82e23c2c3f01cfdf": {
      "model_module": "@jupyter-widgets/controls",
      "model_module_version": "1.5.0",
      "model_name": "LabelModel",
      "state": {
       "layout": "IPY_MODEL_efd6913498144fbe8115075e11859560",
       "style": "IPY_MODEL_c83c2325345e4a1e97fa236b3ffbf47c",
       "value": "Seleccionar parámetros"
      }
     },
     "c2b1de999c704d2a819486d584c3f828": {
      "model_module": "@jupyter-widgets/base",
      "model_module_version": "1.2.0",
      "model_name": "LayoutModel",
      "state": {}
     },
     "c322f4f7624746c39bda1d21c64db258": {
      "model_module": "@jupyter-widgets/controls",
      "model_module_version": "1.5.0",
      "model_name": "FloatSliderModel",
      "state": {
       "description": "mu1",
       "layout": "IPY_MODEL_7672c459205c4f5dab670704f9eaae46",
       "max": 2,
       "min": -2,
       "step": 0.1,
       "style": "IPY_MODEL_f288624f2f4343cc973aa9f4239f2d37",
       "value": 1.3
      }
     },
     "c4f3d256ec5e48559edea11e4d8313af": {
      "model_module": "@jupyter-widgets/output",
      "model_module_version": "1.0.0",
      "model_name": "OutputModel",
      "state": {
       "layout": "IPY_MODEL_041f5e1616054fb08d599473dc2a2b05",
       "outputs": [
        {
         "data": {
          "image/png": "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\n",
          "text/plain": "<Figure size 576x576 with 1 Axes>"
         },
         "metadata": {
          "needs_background": "light"
         },
         "output_type": "display_data"
        }
       ]
      }
     },
     "c5379db3715b40f5a38f31ccba1a2d7c": {
      "model_module": "@jupyter-widgets/base",
      "model_module_version": "1.2.0",
      "model_name": "LayoutModel",
      "state": {}
     },
     "c83c2325345e4a1e97fa236b3ffbf47c": {
      "model_module": "@jupyter-widgets/controls",
      "model_module_version": "1.5.0",
      "model_name": "DescriptionStyleModel",
      "state": {
       "description_width": ""
      }
     },
     "c84288021471426e84a7934fffe7a2f1": {
      "model_module": "@jupyter-widgets/controls",
      "model_module_version": "1.5.0",
      "model_name": "FloatSliderModel",
      "state": {
       "description": "mu2",
       "layout": "IPY_MODEL_6172d3fc38be4ed2a1168a32c6eb0d63",
       "max": 5,
       "min": -0.5,
       "step": 0.1,
       "style": "IPY_MODEL_ec5d9c811079438ba0b3e1fd07b556ca",
       "value": 1.5
      }
     },
     "ca3a658116814eb0a874fb60f19fb8f7": {
      "model_module": "@jupyter-widgets/controls",
      "model_module_version": "1.5.0",
      "model_name": "SliderStyleModel",
      "state": {
       "description_width": ""
      }
     },
     "d0b0351d1d7747df98b6ea1754310ff5": {
      "model_module": "@jupyter-widgets/base",
      "model_module_version": "1.2.0",
      "model_name": "LayoutModel",
      "state": {}
     },
     "d22d92cc595b4fd18350d3456814d8cb": {
      "model_module": "@jupyter-widgets/controls",
      "model_module_version": "1.5.0",
      "model_name": "SliderStyleModel",
      "state": {
       "description_width": ""
      }
     },
     "d472e388043d4669b3f5e99e3e5b30cd": {
      "model_module": "@jupyter-widgets/controls",
      "model_module_version": "1.5.0",
      "model_name": "SliderStyleModel",
      "state": {
       "description_width": ""
      }
     },
     "d4912015d6674ceca3b18963a5cdf220": {
      "model_module": "@jupyter-widgets/base",
      "model_module_version": "1.2.0",
      "model_name": "LayoutModel",
      "state": {}
     },
     "d766abff4ec6471391b81557aea34388": {
      "model_module": "@jupyter-widgets/controls",
      "model_module_version": "1.5.0",
      "model_name": "DescriptionStyleModel",
      "state": {
       "description_width": ""
      }
     },
     "d7ab692b08d244d99c0060e1bf2b4efb": {
      "model_module": "@jupyter-widgets/controls",
      "model_module_version": "1.5.0",
      "model_name": "VBoxModel",
      "state": {
       "children": [
        "IPY_MODEL_1ebad845a87945c99267b26bd3a6779f",
        "IPY_MODEL_9c16374b3c354be69430b8abc890de2d",
        "IPY_MODEL_ee1fd953848b4cc4855df663c2cee612",
        "IPY_MODEL_e541fe760b134f77b6a54b66e73c4c4a",
        "IPY_MODEL_8d9e9c5fcf4f4243bcbbb685cea045cc",
        "IPY_MODEL_b71492735ba94db7abec3411f6d53e62"
       ],
       "layout": "IPY_MODEL_80d5ee8738ea4438b3da424f13688629"
      }
     },
     "dacbe5fc594b4aae96bc665b486c099b": {
      "model_module": "@jupyter-widgets/controls",
      "model_module_version": "1.5.0",
      "model_name": "SliderStyleModel",
      "state": {
       "description_width": ""
      }
     },
     "dbd22644f2d94bc6b18fd66c1a62f4c9": {
      "model_module": "@jupyter-widgets/controls",
      "model_module_version": "1.5.0",
      "model_name": "FloatSliderModel",
      "state": {
       "description": "mu2",
       "layout": "IPY_MODEL_ea756bddec7d4c0da118c331e5df6c11",
       "max": 2,
       "min": -2,
       "step": 0.1,
       "style": "IPY_MODEL_01dd4d4631174f1194f3dd3bf57d1e8a",
       "value": 0.5
      }
     },
     "ddac2a82d52d46289b6811ee8315dae6": {
      "model_module": "@jupyter-widgets/base",
      "model_module_version": "1.2.0",
      "model_name": "LayoutModel",
      "state": {
       "display": "flex",
       "justify_content": "center"
      }
     },
     "ddf50443db2a48a2a1677a15ab4fd354": {
      "model_module": "@jupyter-widgets/base",
      "model_module_version": "1.2.0",
      "model_name": "LayoutModel",
      "state": {}
     },
     "df7188237fb34c45b066ae2576271fb2": {
      "model_module": "@jupyter-widgets/controls",
      "model_module_version": "1.5.0",
      "model_name": "VBoxModel",
      "state": {
       "children": [
        "IPY_MODEL_2568e82a78e24d84ab816847db148e5b",
        "IPY_MODEL_50f58047b9004ebc97fda4dd2b533d30",
        "IPY_MODEL_92994bfd13d44045be337906739eec0f",
        "IPY_MODEL_4e03ed5d26cc473cb22736a66908485f",
        "IPY_MODEL_925eb9aa8a2c4373a7e77319f40168fd",
        "IPY_MODEL_dfc274af5c534a658dcd3b73b2729821"
       ],
       "layout": "IPY_MODEL_a15f17fe28484a48801bf9687ceeb05c"
      }
     },
     "dfc274af5c534a658dcd3b73b2729821": {
      "model_module": "@jupyter-widgets/controls",
      "model_module_version": "1.5.0",
      "model_name": "FloatSliderModel",
      "state": {
       "description": "x2",
       "layout": "IPY_MODEL_92fbe2be8597439da4a48121174e5e1d",
       "max": 20,
       "min": 0.1,
       "step": 0.1,
       "style": "IPY_MODEL_97ab46505e4048bfaa9e3b1a3a59fe29",
       "value": 13.4
      }
     },
     "e3df88b4f7944f3eafc63131953d7619": {
      "model_module": "@jupyter-widgets/base",
      "model_module_version": "1.2.0",
      "model_name": "LayoutModel",
      "state": {
       "align_items": "center",
       "display": "flex",
       "width": "100%"
      }
     },
     "e4764190c0084d2a8e6ec9a37a9f2366": {
      "model_module": "@jupyter-widgets/base",
      "model_module_version": "1.2.0",
      "model_name": "LayoutModel",
      "state": {}
     },
     "e541fe760b134f77b6a54b66e73c4c4a": {
      "model_module": "@jupyter-widgets/controls",
      "model_module_version": "1.5.0",
      "model_name": "FloatSliderModel",
      "state": {
       "description": "x3",
       "layout": "IPY_MODEL_b2cfb2d8cc3d4d3dbca179a22eb3b75b",
       "max": 17.67,
       "min": -17.67,
       "style": "IPY_MODEL_a2849400bfaa499b92aad059638838ef",
       "value": 7.67
      }
     },
     "e6d1b3a91d574b43ba6b6ba90a9d9079": {
      "model_module": "@jupyter-widgets/controls",
      "model_module_version": "1.5.0",
      "model_name": "SliderStyleModel",
      "state": {
       "description_width": ""
      }
     },
     "e9112bca7d1e42e1ae706a0479d44d39": {
      "model_module": "@jupyter-widgets/controls",
      "model_module_version": "1.5.0",
      "model_name": "SliderStyleModel",
      "state": {
       "description_width": ""
      }
     },
     "ea756bddec7d4c0da118c331e5df6c11": {
      "model_module": "@jupyter-widgets/base",
      "model_module_version": "1.2.0",
      "model_name": "LayoutModel",
      "state": {}
     },
     "eba6e86c560f49af8ab775ceed5e9802": {
      "model_module": "@jupyter-widgets/base",
      "model_module_version": "1.2.0",
      "model_name": "LayoutModel",
      "state": {}
     },
     "ec5d9c811079438ba0b3e1fd07b556ca": {
      "model_module": "@jupyter-widgets/controls",
      "model_module_version": "1.5.0",
      "model_name": "SliderStyleModel",
      "state": {
       "description_width": ""
      }
     },
     "ee1fd953848b4cc4855df663c2cee612": {
      "model_module": "@jupyter-widgets/controls",
      "model_module_version": "1.5.0",
      "model_name": "FloatSliderModel",
      "state": {
       "description": "x2",
       "layout": "IPY_MODEL_74cdfc9fa5954ccaa44f131d6f64b04c",
       "max": 15.06,
       "min": -15.06,
       "style": "IPY_MODEL_d22d92cc595b4fd18350d3456814d8cb",
       "value": 5.06
      }
     },
     "ef27c356c2b74263b1f46513aaae3893": {
      "model_module": "@jupyter-widgets/controls",
      "model_module_version": "1.5.0",
      "model_name": "SliderStyleModel",
      "state": {
       "description_width": ""
      }
     },
     "efd6913498144fbe8115075e11859560": {
      "model_module": "@jupyter-widgets/base",
      "model_module_version": "1.2.0",
      "model_name": "LayoutModel",
      "state": {
       "display": "flex",
       "justify_content": "center"
      }
     },
     "f01d4f7642f34ddb9104652625a544b6": {
      "model_module": "@jupyter-widgets/controls",
      "model_module_version": "1.5.0",
      "model_name": "SliderStyleModel",
      "state": {
       "description_width": ""
      }
     },
     "f23849adaccf4fa6879c66b7ba3be7e1": {
      "model_module": "@jupyter-widgets/controls",
      "model_module_version": "1.5.0",
      "model_name": "FloatSliderModel",
      "state": {
       "description": "sigma1",
       "layout": "IPY_MODEL_2e234ce69c7542368751ec8b523aaebb",
       "max": 10,
       "min": 0.1,
       "step": 0.1,
       "style": "IPY_MODEL_d472e388043d4669b3f5e99e3e5b30cd",
       "value": 1.7
      }
     },
     "f288624f2f4343cc973aa9f4239f2d37": {
      "model_module": "@jupyter-widgets/controls",
      "model_module_version": "1.5.0",
      "model_name": "SliderStyleModel",
      "state": {
       "description_width": ""
      }
     },
     "f4c64264123d4ca39a067deb745837ec": {
      "model_module": "@jupyter-widgets/controls",
      "model_module_version": "1.5.0",
      "model_name": "HBoxModel",
      "state": {
       "children": [
        "IPY_MODEL_c4f3d256ec5e48559edea11e4d8313af",
        "IPY_MODEL_df7188237fb34c45b066ae2576271fb2"
       ],
       "layout": "IPY_MODEL_e3df88b4f7944f3eafc63131953d7619"
      }
     },
     "f71ea87cbf374907934539bc67e4447d": {
      "model_module": "@jupyter-widgets/controls",
      "model_module_version": "1.5.0",
      "model_name": "SliderStyleModel",
      "state": {
       "description_width": ""
      }
     },
     "f8e92d2223564c0aad78f3f817f62a5b": {
      "model_module": "@jupyter-widgets/controls",
      "model_module_version": "1.5.0",
      "model_name": "LabelModel",
      "state": {
       "layout": "IPY_MODEL_2b7aa54e9f694ae3bd4e38123fa41b26",
       "style": "IPY_MODEL_00346840f82947d68b66c23449ff3acf",
       "value": "Seleccionar parámetros"
      }
     },
     "f92a4c6bbd034ffea780981879c8ed4e": {
      "model_module": "@jupyter-widgets/base",
      "model_module_version": "1.2.0",
      "model_name": "LayoutModel",
      "state": {}
     },
     "fb76dbb90c1447719231e076ee577dca": {
      "model_module": "@jupyter-widgets/controls",
      "model_module_version": "1.5.0",
      "model_name": "DescriptionStyleModel",
      "state": {
       "description_width": ""
      }
     },
     "fda0422118024d24b8176e49c2deee1f": {
      "model_module": "@jupyter-widgets/controls",
      "model_module_version": "1.5.0",
      "model_name": "IntSliderModel",
      "state": {
       "description": "n",
       "layout": "IPY_MODEL_5e350717a978471b862527719a2fe650",
       "max": 10000,
       "min": 1000,
       "step": 1000,
       "style": "IPY_MODEL_024fe5259085424eb57b85223ae736ef",
       "value": 1000
      }
     },
     "fdb2eef5cc384336bd3e28d8f1a70988": {
      "model_module": "@jupyter-widgets/controls",
      "model_module_version": "1.5.0",
      "model_name": "VBoxModel",
      "state": {
       "children": [
        "IPY_MODEL_c2591b6fc03943ae82e23c2c3f01cfdf",
        "IPY_MODEL_668c607a165344c48b75ba366e46cea3",
        "IPY_MODEL_0e06c47c93e640bf8cbdb36e4023e2fd",
        "IPY_MODEL_315014c6451d4a3a937aa1cec427a653"
       ],
       "layout": "IPY_MODEL_9720d3d6711646989ac08608991c56e1"
      }
     },
     "fe26cd852994472482d8bca210072517": {
      "model_module": "@jupyter-widgets/controls",
      "model_module_version": "1.5.0",
      "model_name": "HBoxModel",
      "state": {
       "children": [
        "IPY_MODEL_4e34e9ca977b45a09041efd6e0138d5a",
        "IPY_MODEL_1ff25bd4a6f54552bb0c0b01d8c06d74"
       ],
       "layout": "IPY_MODEL_87dbf6a411424f0a8afd30e88722ded1"
      }
     }
    },
    "version_major": 2,
    "version_minor": 0
   }
  }
 },
 "nbformat": 4,
 "nbformat_minor": 2
}
