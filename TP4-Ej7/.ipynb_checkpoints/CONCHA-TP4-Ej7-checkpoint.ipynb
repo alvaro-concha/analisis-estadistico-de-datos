{
 "cells": [
  {
   "cell_type": "markdown",
   "metadata": {},
   "source": [
    "# TP4 - Estimación de parámetros\n",
    "\n",
    "## Análisis estadístico de datos, 2021\n",
    "\n",
    "## Alvaro Concha"
   ]
  },
  {
   "cell_type": "code",
   "execution_count": 1,
   "metadata": {},
   "outputs": [
    {
     "name": "stdout",
     "output_type": "stream",
     "text": [
      "Requirement already satisfied: numpy in /home/alvaro/.local/lib/python3.8/site-packages (1.17.4)\n",
      "Requirement already satisfied: seaborn in /usr/local/lib/python3.8/dist-packages (0.11.0)\n",
      "Requirement already satisfied: matplotlib>=2.2 in /home/alvaro/.local/lib/python3.8/site-packages (from seaborn) (3.4.3)\n",
      "Requirement already satisfied: scipy>=1.0 in /usr/local/lib/python3.8/dist-packages (from seaborn) (1.5.3)\n",
      "Requirement already satisfied: pandas>=0.23 in /home/alvaro/.local/lib/python3.8/site-packages (from seaborn) (1.1.3)\n",
      "Requirement already satisfied: python-dateutil>=2.7 in /usr/lib/python3/dist-packages (from matplotlib>=2.2->seaborn) (2.7.3)\n",
      "Requirement already satisfied: pillow>=6.2.0 in /home/alvaro/.local/lib/python3.8/site-packages (from matplotlib>=2.2->seaborn) (8.3.2)\n",
      "Requirement already satisfied: cycler>=0.10 in /usr/local/lib/python3.8/dist-packages (from matplotlib>=2.2->seaborn) (0.10.0)\n",
      "Requirement already satisfied: kiwisolver>=1.0.1 in /usr/local/lib/python3.8/dist-packages (from matplotlib>=2.2->seaborn) (1.2.0)\n",
      "Requirement already satisfied: pyparsing>=2.2.1 in /usr/local/lib/python3.8/dist-packages (from matplotlib>=2.2->seaborn) (2.4.7)\n",
      "Requirement already satisfied: pytz>=2017.2 in /usr/lib/python3/dist-packages (from pandas>=0.23->seaborn) (2019.3)\n",
      "Requirement already satisfied: six in /usr/lib/python3/dist-packages (from cycler>=0.10->matplotlib>=2.2->seaborn) (1.14.0)\n",
      "Note: you may need to restart the kernel to use updated packages.\n"
     ]
    }
   ],
   "source": [
    "\"\"\"Instalar librerias necesarias\"\"\"\n",
    "%pip install numpy seaborn"
   ]
  },
  {
   "cell_type": "markdown",
   "metadata": {},
   "source": [
    "---\n",
    "## Ejercicio 7 (Para entregar)\n",
    "Considerar las variables $X_1$ and $X_2$ que siguen una distribución binormal con varianzas $\\sigma_1 = 2.3$, $\\sigma_2 = 1.7$ y correlación $\\rho = -0.78$.\n",
    "\n",
    "Calcular la función de verosimilitud de los parámetros $\\mu_1$ y $\\mu_2$ para los valores observados $x_1 = 7.9$ y $x_2 = 13.4$ ($\\mathcal{L}(\\mu1 , \\mu2 )$).\n",
    "\n",
    "Calcular los estimadores de máxima verosimilitud de $\\mu_1$ y $\\mu_2$ y evaluar la verosimilitud máxima $\\mathcal{L}_{\\max}$.\n",
    "\n",
    "Calcular el cociente de verosimilitudes $\\lambda(\\mu_1, \\mu_2) = \\mathcal{L}(\\mu_1, \\mu_2)/\\mathcal{L}_{\\max}$ y graficar la función de costo $J(\\mu_1, \\mu_2) = -2 \\ln \\lambda(\\mu_1, \\mu_2)$."
   ]
  },
  {
   "cell_type": "markdown",
   "metadata": {},
   "source": [
    "### Notación\n",
    "Sean el vector bidimensional $\\mathbf{x} = (x_1, x_2)$, y la función $f: \\mathbb{R}^2 \\mapsto \\mathbb{R}$, denotamos el gradiente de $f$ respecto de $\\mathbf{x}$ como\n",
    "$$\n",
    "\\nabla_{\\mathbf{x}} f(\\mathbf{x}) \\dot{=} \\left[\\partial_{x_1}f(\\mathbf{x}), \\partial_{x_2}f(\\mathbf{x})\\right],\n",
    "$$\n",
    "y denotamos la matriz hessiana de $f$ respecto de $\\mathbf{x}$ como\n",
    "$$\n",
    "\\begin{align*}\n",
    "\\mathrm{Hessian}_{{\\mathbf{x}}} f(\\mathbf{x}) &\\dot{=} \\mathrm{Jacobian}_{{\\mathbf{x}}} \\nabla_{\\mathbf{x}} f(\\mathbf{x})\\\\\n",
    "&\\dot{=} \\left[ \\frac{\\partial^2 f(\\mathbf{x})}{\\partial x_i\\partial x_j} \\right].\n",
    "\\end{align*}\n",
    "$$\n",
    "\n",
    "Sean el vector bidimensional $\\mathbf{x} = (x_1, x_2)$, y la función vectorial $\\mathbf{f}: \\mathbb{R}^2 \\mapsto \\mathbb{R}^2$, con $\\mathbf{f}(\\mathbf{x}) = (f_1(\\mathbf{x}), f_2(\\mathbf{x}))$, usamos el operador gradiente para denotar al jacobiano $\\mathbf{f}$ respecto de $\\mathbf{x}$\n",
    "$$\n",
    "\\begin{align*}\n",
    "\\nabla_{\\mathbf{x}} \\mathbf{f}(\\mathbf{x}) &\\dot{=} \\mathrm{Jacobian}_{{\\mathbf{x}}} \\mathbf{f}(\\mathbf{x})\\\\\n",
    "&\\dot{=} \\left[ \\frac{\\partial f_i(\\mathbf{x})}{\\partial x_j} \\right].\n",
    "\\end{align*}\n",
    "$$"
   ]
  },
  {
   "cell_type": "markdown",
   "metadata": {},
   "source": [
    "## Solución\n",
    "Sea la variable aleatoria binormal\n",
    "$$\n",
    "X = (X_1, X_2) \\sim \\mathcal{N}_2(\\boldsymbol{\\mu}, \\Sigma),\n",
    "$$\n",
    "con media desconocida\n",
    "$$\n",
    "\\boldsymbol{\\mu} = (\\mu_1, \\mu_2),\n",
    "$$\n",
    "y matriz de covarianza\n",
    "$$\n",
    "\\Sigma = \\begin{pmatrix}\n",
    "\\sigma_1^2 & \\rho\\sigma_1\\sigma_2\\\\\n",
    "\\rho\\sigma_1\\sigma_2 & \\sigma_2^2\n",
    "\\end{pmatrix},\n",
    "$$\n",
    "con $\\sigma_1 = 2.3$, $\\sigma_2 = 1.7$, $\\rho = -0.78$.\n",
    "\n",
    "*Comentario*: la matriz de covarianza es simétrica y definida positiva, y su inversa $\\Sigma^{-1}$ también.\n",
    "\n",
    "Luego, la likelihood es la distribución de densidad de probabilidad de $\\mathbf{X}$, pero vista como función de los parámetros $(\\boldsymbol{\\mu}, \\Sigma)$\n",
    "$$\n",
    "\\begin{align*}\n",
    "\\mathcal{L}(\\boldsymbol{\\mu}, \\Sigma; \\mathbf{x}) &= f(\\mathbf{x}; \\boldsymbol{\\mu}, \\Sigma)\\\\\n",
    "&= \\frac{1}{2\\pi \\sqrt{\\det{\\Sigma}}} \\exp\\left[ -\\frac{1}{2} (\\mathbf{x}-\\boldsymbol{\\mu})^T \\Sigma^{-1} (\\mathbf{x}-\\boldsymbol{\\mu}) \\right].\n",
    "\\end{align*}\n",
    "$$\n",
    "\n",
    "En el caso en que $\\Sigma$ y $\\mathbf{x}=(x_1, x_2)$ estén fijos, el estimador maximum likelihood para $\\boldsymbol{\\mu}$ es\n",
    "$$\n",
    "\\begin{align*}\n",
    "\\hat{\\boldsymbol{\\mu}}_{MLE} &= \\underset{\\boldsymbol{\\mu}}{\\mathrm{argmax}} \\left\\{ \\mathcal{L}(\\boldsymbol{\\mu}) \\right\\}\\\\\n",
    "&= \\underset{\\boldsymbol{\\mu}}{\\mathrm{argmax}} \\left\\{ \\ln \\mathcal{L}(\\boldsymbol{\\mu}) \\right\\},\n",
    "\\end{align*}\n",
    "$$\n",
    "donde aplicamos el logaritmo que no cambia la ubicación del máximo por ser monótono creciente.\n",
    "\n",
    "Luego, usando cálculo, el máximo de la likelihood debe satisfacer que\n",
    "$$\n",
    "\\begin{cases}\n",
    "\\nabla_{\\boldsymbol{\\mu}} \\ln \\mathcal{L}(\\boldsymbol{\\mu}) |_{\\boldsymbol{\\mu} = \\hat{\\boldsymbol{\\mu}}_{MLE}} = \\mathbf{0} \\text{ o no definido}\\\\\n",
    "\\mathrm{Hessian}_{\\boldsymbol{\\mu}} \\ln \\mathcal{L}(\\boldsymbol{\\mu}) |_{\\boldsymbol{\\mu} = \\hat{\\boldsymbol{\\mu}}_{MLE}} \\text{ definida negativa}\n",
    "\\end{cases},\n",
    "$$\n",
    "y tenemos que\n",
    "$$\n",
    "\\begin{align*}\n",
    "\\nabla_{\\boldsymbol{\\mu}} \\ln \\mathcal{L}(\\boldsymbol{\\mu}) &= \\nabla_{\\boldsymbol{\\mu}} \\left\\{ \\underbrace{-\\ln2\\pi\\sqrt{\\det\\Sigma}}_{\\text{cte}} + \\left[ -\\frac{1}{2} (\\mathbf{x}-\\boldsymbol{\\mu})^T \\Sigma^{-1} (\\mathbf{x}-\\boldsymbol{\\mu}) \\right] \\right\\}\\\\\n",
    "&= \\nabla_{\\boldsymbol{\\mu}} \\left[ -\\frac{1}{2} (\\mathbf{x}-\\boldsymbol{\\mu})^T \\Sigma^{-1} (\\mathbf{x}-\\boldsymbol{\\mu}) \\right]\\\\\n",
    "&= -\\frac{1}{2} \\left[ \\underbrace{\\mathrm{Jacobian}_{\\boldsymbol{\\mu}}(\\mathbf{x}-\\boldsymbol{\\mu})^T}_{-\\mathbb{1}} \\Sigma^{-1} (\\mathbf{x}-\\boldsymbol{\\mu}) + (\\mathbf{x}-\\boldsymbol{\\mu})^T \\Sigma^{-1} \\underbrace{\\mathrm{Jacobian}_{\\boldsymbol{\\mu}}(\\mathbf{x}-\\boldsymbol{\\mu})}_{-\\mathbb{1}} \\right] \\text{ derivada del producto}\\\\\n",
    "&= \\frac{1}{2} \\left[ \\Sigma^{-1} (\\mathbf{x}-\\boldsymbol{\\mu}) + \\underbrace{(\\mathbf{x}-\\boldsymbol{\\mu})^T \\Sigma^{-1}}_{\\Sigma^{-1} (\\text{ $\\mathbf{x}-\\boldsymbol{\\mu})$ por ser $\\Sigma^{-1}$ simétrica}} \\right]\\\\\n",
    "&= \\Sigma^{-1} (\\mathbf{x}-\\boldsymbol{\\mu}),\n",
    "\\end{align*}\n",
    "$$\n",
    "con\n",
    "$$\n",
    "\\begin{align*}\n",
    "\\mathrm{Hessian}_{\\boldsymbol{\\mu}} \\ln \\mathcal{L}(\\boldsymbol{\\mu}) &= \\mathrm{Jacobian}_{{\\boldsymbol{\\mu}}} \\nabla_{\\boldsymbol{\\mu}} \\ln \\mathcal{L}(\\boldsymbol{\\mu})\\\\\n",
    "&= \\mathrm{Jacobian}_{{\\boldsymbol{\\mu}}} \\Sigma^{-1} (\\mathbf{x}-\\boldsymbol{\\mu})\\\\\n",
    "&= \\Sigma^{-1} \\underbrace{\\mathrm{Jacobian}_{{\\boldsymbol{\\mu}}} (\\mathbf{x}-\\boldsymbol{\\mu})}_{-\\mathbb{1}}\\\\\n",
    "&= -\\Sigma^{-1} \\text{ definida negativa},\n",
    "\\end{align*}\n",
    "$$\n",
    "por lo que el estimador maximum likelihood es solución de\n",
    "$$\n",
    "\\begin{align*}\n",
    "\\Sigma^{-1} (\\mathbf{x}-\\hat{\\boldsymbol{\\mu}}_{MLE}) &= \\mathbf{0}\\\\\n",
    "\\implies \\underbrace{\\Sigma\\Sigma^{-1}}_{\\mathbb{1}} (\\mathbf{x}-\\hat{\\boldsymbol{\\mu}}_{MLE}) &= \\underbrace{\\Sigma\\mathbf{0}}_{\\mathbf{0}}\\\\\n",
    "\\implies \\hat{\\boldsymbol{\\mu}}_{MLE} &= \\mathbf{x}.\n",
    "\\end{align*}\n",
    "$$\n",
    "\n",
    "Por su parte, el valor máximo que adopta la likelihood es\n",
    "$$\n",
    "\\begin{align*}\n",
    "\\mathcal{L}_{\\max} &= \\underset{\\boldsymbol{\\mu}}{\\max} \\left\\{ \\mathcal{L}(\\boldsymbol{\\mu}) \\right\\}\\\\\n",
    "&= \\mathcal{L}(\\hat{\\boldsymbol{\\mu}}_{MLE})\\\\\n",
    "&= \\frac{1}{2\\pi \\sqrt{\\det{\\Sigma}}},\n",
    "\\end{align*}\n",
    "$$\n",
    "y el cociente de likelihood es\n",
    "$$\n",
    "\\begin{align*}\n",
    "\\lambda(\\boldsymbol{\\mu}) &= \\frac{\\mathcal{L}(\\boldsymbol{\\mu})}{\\mathcal{L}_{\\max}}\\\\\n",
    "&= \\exp\\left[ -\\frac{1}{2} (\\mathbf{x}-\\boldsymbol{\\mu})^T \\Sigma^{-1} (\\mathbf{x}-\\boldsymbol{\\mu}) \\right],\n",
    "\\end{align*}\n",
    "$$\n",
    "con función de costo\n",
    "$$\n",
    "\\begin{align*}\n",
    "J(\\boldsymbol{\\mu}) &= -2 \\ln \\lambda(\\boldsymbol{\\mu})\\\\\n",
    "&= (\\mathbf{x}-\\boldsymbol{\\mu})^T \\Sigma^{-1} (\\mathbf{x}-\\boldsymbol{\\mu})\\\\\n",
    "&\\ge 0,\n",
    "\\end{align*}\n",
    "$$\n",
    "la cual se anula en el estimador de maximum likelihood y es su mínimo\n",
    "$$\n",
    "J(\\hat{\\boldsymbol{\\mu}}_{MLE}) = 0,\n",
    "$$\n",
    "y es igual a la forma cuadrática $q(\\mathbf{x}; \\boldsymbol{\\mu}, \\Sigma)$ pero como función de $(\\boldsymbol{\\mu}, \\Sigma)$ y tratando a $\\mathbf{x}$ como parámetro\n",
    "$$\n",
    "\\begin{align*}\n",
    "J(\\boldsymbol{\\mu}, \\Sigma; \\mathbf{x}) &= q(\\mathbf{x}; \\boldsymbol{\\mu}, \\Sigma)\\\\\n",
    "&= (\\mathbf{x}-\\boldsymbol{\\mu})^T \\Sigma^{-1} (\\mathbf{x}-\\boldsymbol{\\mu}),\n",
    "\\end{align*}\n",
    "$$\n",
    "siendo sus superficies de nivel\n",
    "$$\n",
    "q(\\mathbf{x}; \\boldsymbol{\\mu}, \\Sigma) = r^2,\n",
    "$$\n",
    "elipses, si $r > 0$."
   ]
  },
  {
   "cell_type": "code",
   "execution_count": 2,
   "metadata": {},
   "outputs": [
    {
     "data": {
      "application/vnd.jupyter.widget-view+json": {
       "model_id": "84d5d68f4c884c2ba4b61dee0ef8584f",
       "version_major": 2,
       "version_minor": 0
      },
      "text/plain": [
       "HBox(children=(Output(), VBox(children=(Label(value='Seleccionar parámetros', layout=Layout(display='flex', ju…"
      ]
     },
     "metadata": {},
     "output_type": "display_data"
    }
   ],
   "source": [
    "\"\"\"Ejercicio 7 (Para entregar)\"\"\"\n",
    "import numpy as np\n",
    "import matplotlib.pyplot as plt\n",
    "import seaborn as sns\n",
    "import ipywidgets as widgets\n",
    "from IPython.display import display\n",
    "\n",
    "\n",
    "def get_Sigma(sigma1, sigma2, rho):\n",
    "    \"\"\"Retorna la matriz de covarianza.\"\"\"\n",
    "    return np.array(\n",
    "        [[sigma1 ** 2, rho * sigma1 * sigma2], [rho * sigma1 * sigma2, sigma2 ** 2]]\n",
    "    )\n",
    "\n",
    "\n",
    "def get_J(mus, Sigma_inv, x):\n",
    "    \"\"\"Retorna la funcion de costo.\"\"\"\n",
    "    return np.sum(\n",
    "        (x[:, np.newaxis] - mus).T @ Sigma_inv * (x[:, np.newaxis] - mus).T, axis=1\n",
    "    )\n",
    "\n",
    "\n",
    "def plot_ej7(sigma1, sigma2, rho, x1, x2):\n",
    "    \"\"\"Grafica Ejercicio 7.\"\"\"\n",
    "    num_grid = 100\n",
    "    mu1_lims = (-2.5, 17.5)\n",
    "    mu2_lims = (2.5, 22.5)\n",
    "    mu1 = np.linspace(*mu1_lims, num_grid)\n",
    "    mu2 = np.linspace(*mu2_lims, num_grid)\n",
    "    mus = np.meshgrid(mu1, mu2)\n",
    "    mus = np.vstack([mus[0].ravel(), mus[1].ravel()])\n",
    "    Sigma = get_Sigma(sigma1=sigma1, sigma2=sigma2, rho=rho)\n",
    "    x = np.array([x1, x2])\n",
    "    J = get_J(mus=mus, Sigma_inv=np.linalg.inv(Sigma), x=x)\n",
    "    plt.figure(figsize=(8, 8))\n",
    "    sns.set_context(\"paper\", font_scale=1.5)\n",
    "    J = J.reshape((num_grid, num_grid))\n",
    "    mus = mus.reshape((2, num_grid, num_grid))\n",
    "    contour = plt.contour(\n",
    "        *mus, J, levels=(1, 4, 9, 16), colors=[\"r\", \"g\", \"b\", \"brown\"]\n",
    "    )\n",
    "    plt.clabel(contour)\n",
    "    plt.scatter(x1, x2, c=\"k\", s=1)\n",
    "    plt.text(x1, x2, \"0\", ha=\"center\", va=\"center\")\n",
    "    plt.title(r\"Función de costo $J(\\mathbf{\\mu})$\")\n",
    "    plt.xlim(*mu1_lims)\n",
    "    plt.ylim(*mu2_lims)\n",
    "    plt.xlabel(r\"$\\mu_1$\")\n",
    "    plt.ylabel(r\"$\\mu_2$\")\n",
    "    plt.show()\n",
    "    plt.close()\n",
    "\n",
    "\n",
    "def ej7():\n",
    "    \"\"\"Ejercicio 7.\"\"\"\n",
    "    sigma1 = widgets.FloatSlider(description=\"sigma1\", value=2.3, min=0.1, max=3.0)\n",
    "    sigma2 = widgets.FloatSlider(description=\"sigma2\", value=1.7, min=0.1, max=3.0)\n",
    "    rho = widgets.FloatSlider(\n",
    "        description=\"rho\", value=-0.78, min=-0.99, max=0.99, step=0.01\n",
    "    )\n",
    "    x1 = widgets.FloatSlider(description=\"x1\", value=7.9, min=0.1, max=20.0)\n",
    "    x2 = widgets.FloatSlider(description=\"x2\", value=13.4, min=0.1, max=20.0)\n",
    "    parameters = {\n",
    "        \"sigma1\": sigma1,\n",
    "        \"sigma2\": sigma2,\n",
    "        \"rho\": rho,\n",
    "        \"x1\": x1,\n",
    "        \"x2\": x2,\n",
    "    }\n",
    "    out = widgets.interactive_output(plot_ej7, parameters)\n",
    "    title = widgets.Label(\n",
    "        \"Seleccionar parámetros\",\n",
    "        layout=widgets.Layout(display=\"flex\", justify_content=\"center\"),\n",
    "    )\n",
    "    sliders = [title, *parameters.values()]\n",
    "    display(\n",
    "        widgets.HBox(\n",
    "            [out, widgets.VBox(sliders)],\n",
    "            layout=widgets.Layout(width=\"100%\", display=\"flex\", align_items=\"center\"),\n",
    "        )\n",
    "    )\n",
    "\n",
    "\n",
    "if __name__ == \"__main__\":\n",
    "    ej7()\n"
   ]
  }
 ],
 "metadata": {
  "interpreter": {
   "hash": "31f2aee4e71d21fbe5cf8b01ff0e069b9275f58929596ceb00d14d90e3e16cd6"
  },
  "kernelspec": {
   "display_name": "Python 3 (ipykernel)",
   "language": "python",
   "name": "python3"
  },
  "language_info": {
   "codemirror_mode": {
    "name": "ipython",
    "version": 3
   },
   "file_extension": ".py",
   "mimetype": "text/x-python",
   "name": "python",
   "nbconvert_exporter": "python",
   "pygments_lexer": "ipython3",
   "version": "3.8.10"
  },
  "widgets": {
   "application/vnd.jupyter.widget-state+json": {
    "state": {
     "032693f070c448d1841530a76a104acb": {
      "model_module": "@jupyter-widgets/controls",
      "model_module_version": "1.5.0",
      "model_name": "SliderStyleModel",
      "state": {
       "description_width": ""
      }
     },
     "08ff3b63280a4a7fa603ab24da929c89": {
      "model_module": "@jupyter-widgets/controls",
      "model_module_version": "1.5.0",
      "model_name": "SliderStyleModel",
      "state": {
       "description_width": ""
      }
     },
     "0d12d1cd560b4efaa4537bf7c2731248": {
      "model_module": "@jupyter-widgets/base",
      "model_module_version": "1.2.0",
      "model_name": "LayoutModel",
      "state": {
       "display": "flex",
       "justify_content": "center"
      }
     },
     "0faf70a12acb4f8daba406c6fa0bcc30": {
      "model_module": "@jupyter-widgets/controls",
      "model_module_version": "1.5.0",
      "model_name": "SliderStyleModel",
      "state": {
       "description_width": ""
      }
     },
     "10f968a9d2814c60a935dbe1071d27de": {
      "model_module": "@jupyter-widgets/controls",
      "model_module_version": "1.5.0",
      "model_name": "SliderStyleModel",
      "state": {
       "description_width": ""
      }
     },
     "17f614fd9961423f9c1b99b39aa9cb18": {
      "model_module": "@jupyter-widgets/controls",
      "model_module_version": "1.5.0",
      "model_name": "FloatSliderModel",
      "state": {
       "description": "sigma1",
       "layout": "IPY_MODEL_e8a64e3c85994c8f9e9ab4aa1e2a4ede",
       "max": 3,
       "min": 0.1,
       "step": 0.1,
       "style": "IPY_MODEL_7dbb1bb7a6a34cb28de77ba1c5e2246f",
       "value": 2.3
      }
     },
     "1aedfbd6bf1141998aee149eb778e52b": {
      "model_module": "@jupyter-widgets/controls",
      "model_module_version": "1.5.0",
      "model_name": "FloatSliderModel",
      "state": {
       "description": "r",
       "layout": "IPY_MODEL_d01e9720c99b44baafaef9d064ed11b6",
       "max": 4,
       "min": 0.5,
       "step": 0.5,
       "style": "IPY_MODEL_032693f070c448d1841530a76a104acb",
       "value": 1
      }
     },
     "1b0a80f6655540d5885a0699b89c8b79": {
      "model_module": "@jupyter-widgets/base",
      "model_module_version": "1.2.0",
      "model_name": "LayoutModel",
      "state": {}
     },
     "38e3bf3a072f421a8a216454093b52ad": {
      "model_module": "@jupyter-widgets/controls",
      "model_module_version": "1.5.0",
      "model_name": "SliderStyleModel",
      "state": {
       "description_width": ""
      }
     },
     "496279b9e16d43378a17a2ea316b06e8": {
      "model_module": "@jupyter-widgets/controls",
      "model_module_version": "1.5.0",
      "model_name": "DescriptionStyleModel",
      "state": {
       "description_width": ""
      }
     },
     "4c91a259a5844705a6e853a91bacc2fb": {
      "model_module": "@jupyter-widgets/base",
      "model_module_version": "1.2.0",
      "model_name": "LayoutModel",
      "state": {}
     },
     "4e59162fc8e54f27908fd0dda8abb4cf": {
      "model_module": "@jupyter-widgets/controls",
      "model_module_version": "1.5.0",
      "model_name": "HBoxModel",
      "state": {
       "children": [
        "IPY_MODEL_a37dcd1850b94d6296f2e6f8a5873c17",
        "IPY_MODEL_5661280fcd92467c973771a1a9480c9f"
       ],
       "layout": "IPY_MODEL_a384d5a01a654cd3a4e31f84fdc6d7f1"
      }
     },
     "5661280fcd92467c973771a1a9480c9f": {
      "model_module": "@jupyter-widgets/controls",
      "model_module_version": "1.5.0",
      "model_name": "VBoxModel",
      "state": {
       "children": [
        "IPY_MODEL_8f2afba5002449689d718447d73b220f",
        "IPY_MODEL_99e9d94d863e474d9897e99dd6b8c341",
        "IPY_MODEL_9eebfbbe398a486c811408aec0d0937b",
        "IPY_MODEL_87fa4d7414f5481e9b8ba7e2421c0834",
        "IPY_MODEL_8d5d76b4b9b74cfeba02a272c31c420f",
        "IPY_MODEL_6cd861f95ea749eda3bd4f7623b98adf",
        "IPY_MODEL_68448342e8af47e4b81dcd444cecf788",
        "IPY_MODEL_1aedfbd6bf1141998aee149eb778e52b"
       ],
       "layout": "IPY_MODEL_f895dcbb906c44009e96b852e9935eae"
      }
     },
     "5c32e4871f6c4fe2950af38c47de55eb": {
      "model_module": "@jupyter-widgets/controls",
      "model_module_version": "1.5.0",
      "model_name": "FloatSliderModel",
      "state": {
       "description": "sigma2",
       "layout": "IPY_MODEL_4c91a259a5844705a6e853a91bacc2fb",
       "max": 3,
       "min": 0.1,
       "step": 0.1,
       "style": "IPY_MODEL_08ff3b63280a4a7fa603ab24da929c89",
       "value": 1.7
      }
     },
     "5c34448230684b469f0d2ba37c88387a": {
      "model_module": "@jupyter-widgets/base",
      "model_module_version": "1.2.0",
      "model_name": "LayoutModel",
      "state": {}
     },
     "624798be29cd4bacbb58346d982a0f71": {
      "model_module": "@jupyter-widgets/base",
      "model_module_version": "1.2.0",
      "model_name": "LayoutModel",
      "state": {}
     },
     "63d7ac3b5ddd4be6b850771cb8cfee92": {
      "model_module": "@jupyter-widgets/base",
      "model_module_version": "1.2.0",
      "model_name": "LayoutModel",
      "state": {}
     },
     "68448342e8af47e4b81dcd444cecf788": {
      "model_module": "@jupyter-widgets/controls",
      "model_module_version": "1.5.0",
      "model_name": "IntSliderModel",
      "state": {
       "description": "n",
       "layout": "IPY_MODEL_1b0a80f6655540d5885a0699b89c8b79",
       "max": 10000,
       "min": 1000,
       "step": 1000,
       "style": "IPY_MODEL_10f968a9d2814c60a935dbe1071d27de",
       "value": 1000
      }
     },
     "6cd861f95ea749eda3bd4f7623b98adf": {
      "model_module": "@jupyter-widgets/controls",
      "model_module_version": "1.5.0",
      "model_name": "FloatSliderModel",
      "state": {
       "description": "rho",
       "layout": "IPY_MODEL_c454b061e7aa49cead37e2a99480334a",
       "max": 0.9,
       "min": -0.9,
       "step": 0.1,
       "style": "IPY_MODEL_a4c84f4628ed4ee095bbffd0bb0437de",
       "value": 0.7
      }
     },
     "76bd43fa54b8496895a6cfb2585eaabc": {
      "model_module": "@jupyter-widgets/controls",
      "model_module_version": "1.5.0",
      "model_name": "LabelModel",
      "state": {
       "layout": "IPY_MODEL_a722b76e2a8744799e029a9b829e83e9",
       "style": "IPY_MODEL_496279b9e16d43378a17a2ea316b06e8",
       "value": "Seleccionar parámetros"
      }
     },
     "7dbb1bb7a6a34cb28de77ba1c5e2246f": {
      "model_module": "@jupyter-widgets/controls",
      "model_module_version": "1.5.0",
      "model_name": "SliderStyleModel",
      "state": {
       "description_width": ""
      }
     },
     "7e601849712a4827af7f834fac3416ca": {
      "model_module": "@jupyter-widgets/base",
      "model_module_version": "1.2.0",
      "model_name": "LayoutModel",
      "state": {}
     },
     "8361116319e642c59bf8938d9c541f50": {
      "model_module": "@jupyter-widgets/controls",
      "model_module_version": "1.5.0",
      "model_name": "SliderStyleModel",
      "state": {
       "description_width": ""
      }
     },
     "84d5d68f4c884c2ba4b61dee0ef8584f": {
      "model_module": "@jupyter-widgets/controls",
      "model_module_version": "1.5.0",
      "model_name": "HBoxModel",
      "state": {
       "children": [
        "IPY_MODEL_d778dfbbdd854011ab1e7d979645f6ac",
        "IPY_MODEL_b37ffecc04e046c9b1c395bacb230352"
       ],
       "layout": "IPY_MODEL_ad23cd76a0334338ab660b14a00c7fca"
      }
     },
     "87fa4d7414f5481e9b8ba7e2421c0834": {
      "model_module": "@jupyter-widgets/controls",
      "model_module_version": "1.5.0",
      "model_name": "FloatSliderModel",
      "state": {
       "description": "sigma1",
       "layout": "IPY_MODEL_7e601849712a4827af7f834fac3416ca",
       "max": 2,
       "min": 0.1,
       "step": 0.1,
       "style": "IPY_MODEL_da068a8465ad4c2d8a5f94ca684edeb9",
       "value": 1.2
      }
     },
     "8d5d76b4b9b74cfeba02a272c31c420f": {
      "model_module": "@jupyter-widgets/controls",
      "model_module_version": "1.5.0",
      "model_name": "FloatSliderModel",
      "state": {
       "description": "sigma2",
       "layout": "IPY_MODEL_624798be29cd4bacbb58346d982a0f71",
       "max": 2,
       "min": 0.1,
       "step": 0.1,
       "style": "IPY_MODEL_0faf70a12acb4f8daba406c6fa0bcc30",
       "value": 0.5
      }
     },
     "8e7a79a75fae4bd1a1ea61e2d81d4d9e": {
      "model_module": "@jupyter-widgets/controls",
      "model_module_version": "1.5.0",
      "model_name": "DescriptionStyleModel",
      "state": {
       "description_width": ""
      }
     },
     "8f2afba5002449689d718447d73b220f": {
      "model_module": "@jupyter-widgets/controls",
      "model_module_version": "1.5.0",
      "model_name": "LabelModel",
      "state": {
       "layout": "IPY_MODEL_0d12d1cd560b4efaa4537bf7c2731248",
       "style": "IPY_MODEL_8e7a79a75fae4bd1a1ea61e2d81d4d9e",
       "value": "Seleccionar parámetros"
      }
     },
     "96a4cee3a35a42f9827e69c6e8497132": {
      "model_module": "@jupyter-widgets/base",
      "model_module_version": "1.2.0",
      "model_name": "LayoutModel",
      "state": {}
     },
     "991725af87b24eeca200aa695adc0c8c": {
      "model_module": "@jupyter-widgets/controls",
      "model_module_version": "1.5.0",
      "model_name": "SliderStyleModel",
      "state": {
       "description_width": ""
      }
     },
     "99e9d94d863e474d9897e99dd6b8c341": {
      "model_module": "@jupyter-widgets/controls",
      "model_module_version": "1.5.0",
      "model_name": "FloatSliderModel",
      "state": {
       "description": "mu1",
       "layout": "IPY_MODEL_ee9925f0aa57497aaad7d120262af8f3",
       "max": 5,
       "min": -0.5,
       "step": 0.1,
       "style": "IPY_MODEL_991725af87b24eeca200aa695adc0c8c",
       "value": 2.3
      }
     },
     "9ceace4b78b84978be0a760e70dee639": {
      "model_module": "@jupyter-widgets/base",
      "model_module_version": "1.2.0",
      "model_name": "LayoutModel",
      "state": {}
     },
     "9d7a154ccde94efdb9b47b59956fa71b": {
      "model_module": "@jupyter-widgets/base",
      "model_module_version": "1.2.0",
      "model_name": "LayoutModel",
      "state": {}
     },
     "9eebfbbe398a486c811408aec0d0937b": {
      "model_module": "@jupyter-widgets/controls",
      "model_module_version": "1.5.0",
      "model_name": "FloatSliderModel",
      "state": {
       "description": "mu2",
       "layout": "IPY_MODEL_fdd5a56d661549279548ba51d0e5f00c",
       "max": 5,
       "min": -0.5,
       "step": 0.1,
       "style": "IPY_MODEL_8361116319e642c59bf8938d9c541f50",
       "value": 1.5
      }
     },
     "a37dcd1850b94d6296f2e6f8a5873c17": {
      "model_module": "@jupyter-widgets/output",
      "model_module_version": "1.0.0",
      "model_name": "OutputModel",
      "state": {
       "layout": "IPY_MODEL_c5cd2752843a42cbb321e7abc07e8b48",
       "outputs": [
        {
         "data": {
          "image/png": "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\n",
          "text/plain": "<Figure size 576x576 with 3 Axes>"
         },
         "metadata": {
          "needs_background": "light"
         },
         "output_type": "display_data"
        }
       ]
      }
     },
     "a384d5a01a654cd3a4e31f84fdc6d7f1": {
      "model_module": "@jupyter-widgets/base",
      "model_module_version": "1.2.0",
      "model_name": "LayoutModel",
      "state": {
       "align_items": "center",
       "display": "flex",
       "width": "100%"
      }
     },
     "a4c84f4628ed4ee095bbffd0bb0437de": {
      "model_module": "@jupyter-widgets/controls",
      "model_module_version": "1.5.0",
      "model_name": "SliderStyleModel",
      "state": {
       "description_width": ""
      }
     },
     "a722b76e2a8744799e029a9b829e83e9": {
      "model_module": "@jupyter-widgets/base",
      "model_module_version": "1.2.0",
      "model_name": "LayoutModel",
      "state": {
       "display": "flex",
       "justify_content": "center"
      }
     },
     "ab7c49fa4cbb45cbb6c6150caef079e0": {
      "model_module": "@jupyter-widgets/controls",
      "model_module_version": "1.5.0",
      "model_name": "SliderStyleModel",
      "state": {
       "description_width": ""
      }
     },
     "ad23cd76a0334338ab660b14a00c7fca": {
      "model_module": "@jupyter-widgets/base",
      "model_module_version": "1.2.0",
      "model_name": "LayoutModel",
      "state": {
       "align_items": "center",
       "display": "flex",
       "width": "100%"
      }
     },
     "b37ffecc04e046c9b1c395bacb230352": {
      "model_module": "@jupyter-widgets/controls",
      "model_module_version": "1.5.0",
      "model_name": "VBoxModel",
      "state": {
       "children": [
        "IPY_MODEL_76bd43fa54b8496895a6cfb2585eaabc",
        "IPY_MODEL_17f614fd9961423f9c1b99b39aa9cb18",
        "IPY_MODEL_5c32e4871f6c4fe2950af38c47de55eb",
        "IPY_MODEL_f9fceb5ef93f40b6b89bb23fe2d3ffc9",
        "IPY_MODEL_f3a5a7f484814302af10bf53d8ac43ac",
        "IPY_MODEL_f29af45a55d34e7c855e84e057ae33f0"
       ],
       "layout": "IPY_MODEL_96a4cee3a35a42f9827e69c6e8497132"
      }
     },
     "c454b061e7aa49cead37e2a99480334a": {
      "model_module": "@jupyter-widgets/base",
      "model_module_version": "1.2.0",
      "model_name": "LayoutModel",
      "state": {}
     },
     "c5cd2752843a42cbb321e7abc07e8b48": {
      "model_module": "@jupyter-widgets/base",
      "model_module_version": "1.2.0",
      "model_name": "LayoutModel",
      "state": {}
     },
     "ccdf0a4909c3441c8d326251828dc87c": {
      "model_module": "@jupyter-widgets/controls",
      "model_module_version": "1.5.0",
      "model_name": "SliderStyleModel",
      "state": {
       "description_width": ""
      }
     },
     "d01e9720c99b44baafaef9d064ed11b6": {
      "model_module": "@jupyter-widgets/base",
      "model_module_version": "1.2.0",
      "model_name": "LayoutModel",
      "state": {}
     },
     "d778dfbbdd854011ab1e7d979645f6ac": {
      "model_module": "@jupyter-widgets/output",
      "model_module_version": "1.0.0",
      "model_name": "OutputModel",
      "state": {
       "layout": "IPY_MODEL_5c34448230684b469f0d2ba37c88387a",
       "outputs": [
        {
         "data": {
          "image/png": "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\n",
          "text/plain": "<Figure size 576x576 with 1 Axes>"
         },
         "metadata": {
          "needs_background": "light"
         },
         "output_type": "display_data"
        }
       ]
      }
     },
     "da068a8465ad4c2d8a5f94ca684edeb9": {
      "model_module": "@jupyter-widgets/controls",
      "model_module_version": "1.5.0",
      "model_name": "SliderStyleModel",
      "state": {
       "description_width": ""
      }
     },
     "e8a64e3c85994c8f9e9ab4aa1e2a4ede": {
      "model_module": "@jupyter-widgets/base",
      "model_module_version": "1.2.0",
      "model_name": "LayoutModel",
      "state": {}
     },
     "ee9925f0aa57497aaad7d120262af8f3": {
      "model_module": "@jupyter-widgets/base",
      "model_module_version": "1.2.0",
      "model_name": "LayoutModel",
      "state": {}
     },
     "f29af45a55d34e7c855e84e057ae33f0": {
      "model_module": "@jupyter-widgets/controls",
      "model_module_version": "1.5.0",
      "model_name": "FloatSliderModel",
      "state": {
       "description": "x2",
       "layout": "IPY_MODEL_9ceace4b78b84978be0a760e70dee639",
       "max": 20,
       "min": 0.1,
       "step": 0.1,
       "style": "IPY_MODEL_ccdf0a4909c3441c8d326251828dc87c",
       "value": 13.4
      }
     },
     "f3a5a7f484814302af10bf53d8ac43ac": {
      "model_module": "@jupyter-widgets/controls",
      "model_module_version": "1.5.0",
      "model_name": "FloatSliderModel",
      "state": {
       "description": "x1",
       "layout": "IPY_MODEL_63d7ac3b5ddd4be6b850771cb8cfee92",
       "max": 20,
       "min": 0.1,
       "step": 0.1,
       "style": "IPY_MODEL_ab7c49fa4cbb45cbb6c6150caef079e0",
       "value": 7.9
      }
     },
     "f895dcbb906c44009e96b852e9935eae": {
      "model_module": "@jupyter-widgets/base",
      "model_module_version": "1.2.0",
      "model_name": "LayoutModel",
      "state": {}
     },
     "f9fceb5ef93f40b6b89bb23fe2d3ffc9": {
      "model_module": "@jupyter-widgets/controls",
      "model_module_version": "1.5.0",
      "model_name": "FloatSliderModel",
      "state": {
       "description": "rho",
       "layout": "IPY_MODEL_9d7a154ccde94efdb9b47b59956fa71b",
       "max": 0.99,
       "min": -0.99,
       "step": 0.01,
       "style": "IPY_MODEL_38e3bf3a072f421a8a216454093b52ad",
       "value": -0.78
      }
     },
     "fdd5a56d661549279548ba51d0e5f00c": {
      "model_module": "@jupyter-widgets/base",
      "model_module_version": "1.2.0",
      "model_name": "LayoutModel",
      "state": {}
     }
    },
    "version_major": 2,
    "version_minor": 0
   }
  }
 },
 "nbformat": 4,
 "nbformat_minor": 2
}
